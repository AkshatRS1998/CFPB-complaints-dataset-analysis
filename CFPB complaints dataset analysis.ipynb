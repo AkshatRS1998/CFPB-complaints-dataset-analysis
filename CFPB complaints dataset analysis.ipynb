{
  "cells": [
    {
      "cell_type": "markdown",
      "id": "d8513662-ae0c-4060-a15e-bc296b5a0baa",
      "metadata": {
        "id": "d8513662-ae0c-4060-a15e-bc296b5a0baa"
      },
      "source": [
        "# Before you start\n",
        "\n",
        "Before you review this notebook, please spend an hour or two on your own familiarizing yourself with the data, thinking about the problem, and the approach you would like to take.  If you just jump into the starter code, you will miss out on your own creative thinking, and limit yourself to what you see here.   \n",
        "\n",
        "***\n",
        "\n",
        "**First, some library imports**"
      ]
    },
    {
      "cell_type": "code",
      "execution_count": 421,
      "id": "d175f45d-6ec6-48bd-b700-a780c7afb125",
      "metadata": {
        "id": "d175f45d-6ec6-48bd-b700-a780c7afb125"
      },
      "outputs": [],
      "source": [
        "import numpy as np\n",
        "import pandas as pd\n",
        "import statsmodels.api as sm\n",
        "import matplotlib.pyplot as plt\n",
        "import seaborn as sns\n",
        "from imblearn.over_sampling import SMOTE \n",
        "from sklearn.metrics import confusion_matrix, accuracy_score, classification_report, plot_confusion_matrix, ConfusionMatrixDisplay\n"
      ]
    },
    {
      "cell_type": "markdown",
      "id": "8a200ffc-6940-4fa2-aa06-9d0817ed8f9a",
      "metadata": {
        "id": "8a200ffc-6940-4fa2-aa06-9d0817ed8f9a"
      },
      "source": [
        "# Complaints dataset from CFPB  \n",
        "## Load the data  \n",
        "First, we load the dataset.  We use the file in the `shared\\` folder."
      ]
    },
    {
      "cell_type": "code",
      "execution_count": 422,
      "id": "a36706fa-6e40-41fa-ba8f-63c1b19ca46f",
      "metadata": {
        "id": "a36706fa-6e40-41fa-ba8f-63c1b19ca46f"
      },
      "outputs": [],
      "source": [
        "# To load the data directly from the CFPB website, use the below command.  Be aware you will get lots of data!\n",
        "# You will then need to filter it for just the 5 banks we are interested in analyzing.\n",
        "# complaints = pd.read_csv(r'https://files.consumerfinance.gov/ccdb/complaints.csv.zip')"
      ]
    },
    {
      "cell_type": "code",
      "execution_count": 423,
      "id": "30a632e7-f99b-4643-b48b-73dcb98b3835",
      "metadata": {
        "id": "30a632e7-f99b-4643-b48b-73dcb98b3835"
      },
      "outputs": [],
      "source": [
        "# Load dataset from provided file.  Be sure to use the correct path.\n",
        "\n",
        "complaints = pd.read_csv('complaints_25Nov21.csv')\n",
        "\n",
        "# complaints = pd.read_csv('shared/complaints_25Nov21.csv')"
      ]
    },
    {
      "cell_type": "markdown",
      "id": "64b8f0b5-2840-4d4c-a738-d84fa3995d20",
      "metadata": {
        "id": "64b8f0b5-2840-4d4c-a738-d84fa3995d20"
      },
      "source": [
        "## Review the data\n",
        "The next few cells look at the data in a couple of different ways.  This does not cover graphing and visualization, but you should do that."
      ]
    },
    {
      "cell_type": "code",
      "execution_count": 424,
      "id": "d52eac39-b49e-4f5d-ac5e-665af6ec96f2",
      "metadata": {
        "colab": {
          "base_uri": "https://localhost:8080/"
        },
        "id": "d52eac39-b49e-4f5d-ac5e-665af6ec96f2",
        "outputId": "2ea99f5d-c357-4d03-8a6f-52b674fb7991"
      },
      "outputs": [
        {
          "output_type": "execute_result",
          "data": {
            "text/plain": [
              "(207260, 18)"
            ]
          },
          "metadata": {},
          "execution_count": 424
        }
      ],
      "source": [
        "# How many rows and columns do we have?\n",
        "\n",
        "complaints.shape"
      ]
    },
    {
      "cell_type": "code",
      "execution_count": 425,
      "id": "b402208b-911a-467d-8fcf-4216f4c85d63",
      "metadata": {
        "colab": {
          "base_uri": "https://localhost:8080/"
        },
        "id": "b402208b-911a-467d-8fcf-4216f4c85d63",
        "outputId": "485420c8-33ca-44d2-c079-c1d51f177a25"
      },
      "outputs": [
        {
          "output_type": "execute_result",
          "data": {
            "text/plain": [
              "Index(['Date received', 'Product', 'Sub-product', 'Issue', 'Sub-issue',\n",
              "       'Consumer complaint narrative', 'Company public response', 'Company',\n",
              "       'State', 'ZIP code', 'Tags', 'Consumer consent provided?',\n",
              "       'Submitted via', 'Date sent to company', 'Company response to consumer',\n",
              "       'Timely response?', 'Consumer disputed?', 'Complaint ID'],\n",
              "      dtype='object')"
            ]
          },
          "metadata": {},
          "execution_count": 425
        }
      ],
      "source": [
        "# What are the column names?\n",
        "\n",
        "complaints.columns"
      ]
    },
    {
      "cell_type": "code",
      "execution_count": 426,
      "id": "3ac4b789-f628-47c3-9631-e95c2b882cf4",
      "metadata": {
        "colab": {
          "base_uri": "https://localhost:8080/"
        },
        "id": "3ac4b789-f628-47c3-9631-e95c2b882cf4",
        "outputId": "4b141aae-fdd5-4cc3-dd2e-b999ab6aeeb4"
      },
      "outputs": [
        {
          "output_type": "execute_result",
          "data": {
            "text/plain": [
              "BANK OF AMERICA, NATIONAL ASSOCIATION    65440\n",
              "WELLS FARGO & COMPANY                    53111\n",
              "JPMORGAN CHASE & CO.                     42170\n",
              "CITIBANK, N.A.                           34341\n",
              "U.S. BANCORP                             12198\n",
              "Name: Company, dtype: int64"
            ]
          },
          "metadata": {},
          "execution_count": 426
        }
      ],
      "source": [
        "# Let us look at which banks have the most number of complaints\n",
        "\n",
        "complaints['Company'].value_counts().sort_values(ascending=False)"
      ]
    },
    {
      "cell_type": "code",
      "execution_count": 427,
      "id": "cc07bc26-a522-4b2e-96c3-602c715a5290",
      "metadata": {
        "id": "cc07bc26-a522-4b2e-96c3-602c715a5290"
      },
      "outputs": [],
      "source": [
        "# Because the data is already pre-filtered to the top-5 companies, we do not need to run the below commands.\n",
        "# But if you are using the file directly from the CFPB website, you will need to do this as we want to analyze\n",
        "# only the top-5 banks.\n",
        "\n",
        "# banks = ['BANK OF AMERICA, NATIONAL ASSOCIATION', 'WELLS FARGO & COMPANY','JPMORGAN CHASE & CO.', 'CITIBANK, N.A.' , 'U.S. BANCORP']\n",
        "# filtered = complaints[(complaints['Company'].isin(banks))]\n",
        "# filtered.to_csv(\"complaints_14Nov21.csv\", index=False)"
      ]
    },
    {
      "cell_type": "code",
      "execution_count": 427,
      "id": "399f8fdf-694a-4d33-857d-23a14f1c5aaa",
      "metadata": {
        "id": "399f8fdf-694a-4d33-857d-23a14f1c5aaa"
      },
      "outputs": [],
      "source": [
        ""
      ]
    },
    {
      "cell_type": "code",
      "execution_count": 428,
      "id": "53c09a2b-a0d4-451a-9ff5-a31992be8dee",
      "metadata": {
        "colab": {
          "base_uri": "https://localhost:8080/",
          "height": 1000
        },
        "id": "53c09a2b-a0d4-451a-9ff5-a31992be8dee",
        "outputId": "2398699a-9392-415f-ccab-060426d11a18"
      },
      "outputs": [
        {
          "output_type": "execute_result",
          "data": {
            "text/plain": [
              "  Date received                  Product                   Sub-product  \\\n",
              "0    2016-10-26          Money transfers  International money transfer   \n",
              "1    2015-03-27  Bank account or service    Other bank product/service   \n",
              "2    2015-04-20  Bank account or service    Other bank product/service   \n",
              "3    2013-04-29                 Mortgage   Conventional fixed mortgage   \n",
              "4    2013-05-29                 Mortgage                Other mortgage   \n",
              "5    2017-01-30                 Mortgage                Other mortgage   \n",
              "6    2014-02-21  Bank account or service              Checking account   \n",
              "7    2016-10-14                 Mortgage   Conventional fixed mortgage   \n",
              "8    2014-01-15                 Mortgage   Conventional fixed mortgage   \n",
              "9    2016-09-19                 Mortgage   Conventional fixed mortgage   \n",
              "\n",
              "                                      Issue Sub-issue  \\\n",
              "0                  Other transaction issues       NaN   \n",
              "1   Account opening, closing, or management       NaN   \n",
              "2  Making/receiving payments, sending money       NaN   \n",
              "3  Application, originator, mortgage broker       NaN   \n",
              "4  Loan modification,collection,foreclosure       NaN   \n",
              "5  Loan modification,collection,foreclosure       NaN   \n",
              "6                  Deposits and withdrawals       NaN   \n",
              "7  Application, originator, mortgage broker       NaN   \n",
              "8  Loan modification,collection,foreclosure       NaN   \n",
              "9  Loan modification,collection,foreclosure       NaN   \n",
              "\n",
              "                        Consumer complaint narrative  \\\n",
              "0  To whom it concerns, I would like to file a fo...   \n",
              "1  My name is XXXX XXXX XXXX and huband name is X...   \n",
              "2  XXXX 2015 : I called to make a payment on XXXX...   \n",
              "3                                                NaN   \n",
              "4                                                NaN   \n",
              "5                                                NaN   \n",
              "6                                                NaN   \n",
              "7                                                NaN   \n",
              "8                                                NaN   \n",
              "9  Mortgage Fraud, defective title, defective mor...   \n",
              "\n",
              "                             Company public response  \\\n",
              "0  Company has responded to the consumer and the ...   \n",
              "1   Company chooses not to provide a public response   \n",
              "2   Company chooses not to provide a public response   \n",
              "3                                                NaN   \n",
              "4                                                NaN   \n",
              "5  Company has responded to the consumer and the ...   \n",
              "6                                                NaN   \n",
              "7  Company has responded to the consumer and the ...   \n",
              "8                                                NaN   \n",
              "9  Company has responded to the consumer and the ...   \n",
              "\n",
              "                                 Company State ZIP code            Tags  \\\n",
              "0                         CITIBANK, N.A.   NaN      NaN             NaN   \n",
              "1                         CITIBANK, N.A.    PA    151XX  Older American   \n",
              "2                           U.S. BANCORP    PA    152XX             NaN   \n",
              "3                   JPMORGAN CHASE & CO.    VA    22406   Servicemember   \n",
              "4  BANK OF AMERICA, NATIONAL ASSOCIATION    GA    30044             NaN   \n",
              "5  BANK OF AMERICA, NATIONAL ASSOCIATION    GA    30044             NaN   \n",
              "6                   JPMORGAN CHASE & CO.    CA    92592             NaN   \n",
              "7                  WELLS FARGO & COMPANY    MD    21222             NaN   \n",
              "8                  WELLS FARGO & COMPANY    VA    228XX  Older American   \n",
              "9  BANK OF AMERICA, NATIONAL ASSOCIATION    MN      NaN             NaN   \n",
              "\n",
              "  Consumer consent provided? Submitted via Date sent to company  \\\n",
              "0           Consent provided           Web           2016-10-29   \n",
              "1           Consent provided           Web           2015-03-27   \n",
              "2           Consent provided           Web           2015-04-22   \n",
              "3                        NaN         Phone           2013-04-30   \n",
              "4                        NaN      Referral           2013-05-31   \n",
              "5                        NaN      Referral           2017-02-02   \n",
              "6                        NaN           Web           2014-02-20   \n",
              "7                        NaN         Phone           2016-10-14   \n",
              "8                        NaN         Phone           2014-01-22   \n",
              "9           Consent provided           Web           2016-10-05   \n",
              "\n",
              "  Company response to consumer Timely response? Consumer disputed?  \\\n",
              "0      Closed with explanation              Yes                 No   \n",
              "1      Closed with explanation              Yes                 No   \n",
              "2  Closed with monetary relief              Yes                 No   \n",
              "3      Closed with explanation              Yes                Yes   \n",
              "4      Closed with explanation              Yes                 No   \n",
              "5      Closed with explanation              Yes                 No   \n",
              "6      Closed with explanation              Yes                 No   \n",
              "7      Closed with explanation              Yes                 No   \n",
              "8      Closed with explanation              Yes                Yes   \n",
              "9      Closed with explanation              Yes                Yes   \n",
              "\n",
              "   Complaint ID  \n",
              "0       2180490  \n",
              "1       1305453  \n",
              "2       1337613  \n",
              "3        393900  \n",
              "4        418647  \n",
              "5       2317362  \n",
              "6        725150  \n",
              "7       2161603  \n",
              "8        670395  \n",
              "9       2118743  "
            ],
            "text/html": [
              "\n",
              "  <div id=\"df-047d1960-3807-4d4d-b0d2-2cb56092e398\">\n",
              "    <div class=\"colab-df-container\">\n",
              "      <div>\n",
              "<style scoped>\n",
              "    .dataframe tbody tr th:only-of-type {\n",
              "        vertical-align: middle;\n",
              "    }\n",
              "\n",
              "    .dataframe tbody tr th {\n",
              "        vertical-align: top;\n",
              "    }\n",
              "\n",
              "    .dataframe thead th {\n",
              "        text-align: right;\n",
              "    }\n",
              "</style>\n",
              "<table border=\"1\" class=\"dataframe\">\n",
              "  <thead>\n",
              "    <tr style=\"text-align: right;\">\n",
              "      <th></th>\n",
              "      <th>Date received</th>\n",
              "      <th>Product</th>\n",
              "      <th>Sub-product</th>\n",
              "      <th>Issue</th>\n",
              "      <th>Sub-issue</th>\n",
              "      <th>Consumer complaint narrative</th>\n",
              "      <th>Company public response</th>\n",
              "      <th>Company</th>\n",
              "      <th>State</th>\n",
              "      <th>ZIP code</th>\n",
              "      <th>Tags</th>\n",
              "      <th>Consumer consent provided?</th>\n",
              "      <th>Submitted via</th>\n",
              "      <th>Date sent to company</th>\n",
              "      <th>Company response to consumer</th>\n",
              "      <th>Timely response?</th>\n",
              "      <th>Consumer disputed?</th>\n",
              "      <th>Complaint ID</th>\n",
              "    </tr>\n",
              "  </thead>\n",
              "  <tbody>\n",
              "    <tr>\n",
              "      <th>0</th>\n",
              "      <td>2016-10-26</td>\n",
              "      <td>Money transfers</td>\n",
              "      <td>International money transfer</td>\n",
              "      <td>Other transaction issues</td>\n",
              "      <td>NaN</td>\n",
              "      <td>To whom it concerns, I would like to file a fo...</td>\n",
              "      <td>Company has responded to the consumer and the ...</td>\n",
              "      <td>CITIBANK, N.A.</td>\n",
              "      <td>NaN</td>\n",
              "      <td>NaN</td>\n",
              "      <td>NaN</td>\n",
              "      <td>Consent provided</td>\n",
              "      <td>Web</td>\n",
              "      <td>2016-10-29</td>\n",
              "      <td>Closed with explanation</td>\n",
              "      <td>Yes</td>\n",
              "      <td>No</td>\n",
              "      <td>2180490</td>\n",
              "    </tr>\n",
              "    <tr>\n",
              "      <th>1</th>\n",
              "      <td>2015-03-27</td>\n",
              "      <td>Bank account or service</td>\n",
              "      <td>Other bank product/service</td>\n",
              "      <td>Account opening, closing, or management</td>\n",
              "      <td>NaN</td>\n",
              "      <td>My name is XXXX XXXX XXXX and huband name is X...</td>\n",
              "      <td>Company chooses not to provide a public response</td>\n",
              "      <td>CITIBANK, N.A.</td>\n",
              "      <td>PA</td>\n",
              "      <td>151XX</td>\n",
              "      <td>Older American</td>\n",
              "      <td>Consent provided</td>\n",
              "      <td>Web</td>\n",
              "      <td>2015-03-27</td>\n",
              "      <td>Closed with explanation</td>\n",
              "      <td>Yes</td>\n",
              "      <td>No</td>\n",
              "      <td>1305453</td>\n",
              "    </tr>\n",
              "    <tr>\n",
              "      <th>2</th>\n",
              "      <td>2015-04-20</td>\n",
              "      <td>Bank account or service</td>\n",
              "      <td>Other bank product/service</td>\n",
              "      <td>Making/receiving payments, sending money</td>\n",
              "      <td>NaN</td>\n",
              "      <td>XXXX 2015 : I called to make a payment on XXXX...</td>\n",
              "      <td>Company chooses not to provide a public response</td>\n",
              "      <td>U.S. BANCORP</td>\n",
              "      <td>PA</td>\n",
              "      <td>152XX</td>\n",
              "      <td>NaN</td>\n",
              "      <td>Consent provided</td>\n",
              "      <td>Web</td>\n",
              "      <td>2015-04-22</td>\n",
              "      <td>Closed with monetary relief</td>\n",
              "      <td>Yes</td>\n",
              "      <td>No</td>\n",
              "      <td>1337613</td>\n",
              "    </tr>\n",
              "    <tr>\n",
              "      <th>3</th>\n",
              "      <td>2013-04-29</td>\n",
              "      <td>Mortgage</td>\n",
              "      <td>Conventional fixed mortgage</td>\n",
              "      <td>Application, originator, mortgage broker</td>\n",
              "      <td>NaN</td>\n",
              "      <td>NaN</td>\n",
              "      <td>NaN</td>\n",
              "      <td>JPMORGAN CHASE &amp; CO.</td>\n",
              "      <td>VA</td>\n",
              "      <td>22406</td>\n",
              "      <td>Servicemember</td>\n",
              "      <td>NaN</td>\n",
              "      <td>Phone</td>\n",
              "      <td>2013-04-30</td>\n",
              "      <td>Closed with explanation</td>\n",
              "      <td>Yes</td>\n",
              "      <td>Yes</td>\n",
              "      <td>393900</td>\n",
              "    </tr>\n",
              "    <tr>\n",
              "      <th>4</th>\n",
              "      <td>2013-05-29</td>\n",
              "      <td>Mortgage</td>\n",
              "      <td>Other mortgage</td>\n",
              "      <td>Loan modification,collection,foreclosure</td>\n",
              "      <td>NaN</td>\n",
              "      <td>NaN</td>\n",
              "      <td>NaN</td>\n",
              "      <td>BANK OF AMERICA, NATIONAL ASSOCIATION</td>\n",
              "      <td>GA</td>\n",
              "      <td>30044</td>\n",
              "      <td>NaN</td>\n",
              "      <td>NaN</td>\n",
              "      <td>Referral</td>\n",
              "      <td>2013-05-31</td>\n",
              "      <td>Closed with explanation</td>\n",
              "      <td>Yes</td>\n",
              "      <td>No</td>\n",
              "      <td>418647</td>\n",
              "    </tr>\n",
              "    <tr>\n",
              "      <th>5</th>\n",
              "      <td>2017-01-30</td>\n",
              "      <td>Mortgage</td>\n",
              "      <td>Other mortgage</td>\n",
              "      <td>Loan modification,collection,foreclosure</td>\n",
              "      <td>NaN</td>\n",
              "      <td>NaN</td>\n",
              "      <td>Company has responded to the consumer and the ...</td>\n",
              "      <td>BANK OF AMERICA, NATIONAL ASSOCIATION</td>\n",
              "      <td>GA</td>\n",
              "      <td>30044</td>\n",
              "      <td>NaN</td>\n",
              "      <td>NaN</td>\n",
              "      <td>Referral</td>\n",
              "      <td>2017-02-02</td>\n",
              "      <td>Closed with explanation</td>\n",
              "      <td>Yes</td>\n",
              "      <td>No</td>\n",
              "      <td>2317362</td>\n",
              "    </tr>\n",
              "    <tr>\n",
              "      <th>6</th>\n",
              "      <td>2014-02-21</td>\n",
              "      <td>Bank account or service</td>\n",
              "      <td>Checking account</td>\n",
              "      <td>Deposits and withdrawals</td>\n",
              "      <td>NaN</td>\n",
              "      <td>NaN</td>\n",
              "      <td>NaN</td>\n",
              "      <td>JPMORGAN CHASE &amp; CO.</td>\n",
              "      <td>CA</td>\n",
              "      <td>92592</td>\n",
              "      <td>NaN</td>\n",
              "      <td>NaN</td>\n",
              "      <td>Web</td>\n",
              "      <td>2014-02-20</td>\n",
              "      <td>Closed with explanation</td>\n",
              "      <td>Yes</td>\n",
              "      <td>No</td>\n",
              "      <td>725150</td>\n",
              "    </tr>\n",
              "    <tr>\n",
              "      <th>7</th>\n",
              "      <td>2016-10-14</td>\n",
              "      <td>Mortgage</td>\n",
              "      <td>Conventional fixed mortgage</td>\n",
              "      <td>Application, originator, mortgage broker</td>\n",
              "      <td>NaN</td>\n",
              "      <td>NaN</td>\n",
              "      <td>Company has responded to the consumer and the ...</td>\n",
              "      <td>WELLS FARGO &amp; COMPANY</td>\n",
              "      <td>MD</td>\n",
              "      <td>21222</td>\n",
              "      <td>NaN</td>\n",
              "      <td>NaN</td>\n",
              "      <td>Phone</td>\n",
              "      <td>2016-10-14</td>\n",
              "      <td>Closed with explanation</td>\n",
              "      <td>Yes</td>\n",
              "      <td>No</td>\n",
              "      <td>2161603</td>\n",
              "    </tr>\n",
              "    <tr>\n",
              "      <th>8</th>\n",
              "      <td>2014-01-15</td>\n",
              "      <td>Mortgage</td>\n",
              "      <td>Conventional fixed mortgage</td>\n",
              "      <td>Loan modification,collection,foreclosure</td>\n",
              "      <td>NaN</td>\n",
              "      <td>NaN</td>\n",
              "      <td>NaN</td>\n",
              "      <td>WELLS FARGO &amp; COMPANY</td>\n",
              "      <td>VA</td>\n",
              "      <td>228XX</td>\n",
              "      <td>Older American</td>\n",
              "      <td>NaN</td>\n",
              "      <td>Phone</td>\n",
              "      <td>2014-01-22</td>\n",
              "      <td>Closed with explanation</td>\n",
              "      <td>Yes</td>\n",
              "      <td>Yes</td>\n",
              "      <td>670395</td>\n",
              "    </tr>\n",
              "    <tr>\n",
              "      <th>9</th>\n",
              "      <td>2016-09-19</td>\n",
              "      <td>Mortgage</td>\n",
              "      <td>Conventional fixed mortgage</td>\n",
              "      <td>Loan modification,collection,foreclosure</td>\n",
              "      <td>NaN</td>\n",
              "      <td>Mortgage Fraud, defective title, defective mor...</td>\n",
              "      <td>Company has responded to the consumer and the ...</td>\n",
              "      <td>BANK OF AMERICA, NATIONAL ASSOCIATION</td>\n",
              "      <td>MN</td>\n",
              "      <td>NaN</td>\n",
              "      <td>NaN</td>\n",
              "      <td>Consent provided</td>\n",
              "      <td>Web</td>\n",
              "      <td>2016-10-05</td>\n",
              "      <td>Closed with explanation</td>\n",
              "      <td>Yes</td>\n",
              "      <td>Yes</td>\n",
              "      <td>2118743</td>\n",
              "    </tr>\n",
              "  </tbody>\n",
              "</table>\n",
              "</div>\n",
              "      <button class=\"colab-df-convert\" onclick=\"convertToInteractive('df-047d1960-3807-4d4d-b0d2-2cb56092e398')\"\n",
              "              title=\"Convert this dataframe to an interactive table.\"\n",
              "              style=\"display:none;\">\n",
              "        \n",
              "  <svg xmlns=\"http://www.w3.org/2000/svg\" height=\"24px\"viewBox=\"0 0 24 24\"\n",
              "       width=\"24px\">\n",
              "    <path d=\"M0 0h24v24H0V0z\" fill=\"none\"/>\n",
              "    <path d=\"M18.56 5.44l.94 2.06.94-2.06 2.06-.94-2.06-.94-.94-2.06-.94 2.06-2.06.94zm-11 1L8.5 8.5l.94-2.06 2.06-.94-2.06-.94L8.5 2.5l-.94 2.06-2.06.94zm10 10l.94 2.06.94-2.06 2.06-.94-2.06-.94-.94-2.06-.94 2.06-2.06.94z\"/><path d=\"M17.41 7.96l-1.37-1.37c-.4-.4-.92-.59-1.43-.59-.52 0-1.04.2-1.43.59L10.3 9.45l-7.72 7.72c-.78.78-.78 2.05 0 2.83L4 21.41c.39.39.9.59 1.41.59.51 0 1.02-.2 1.41-.59l7.78-7.78 2.81-2.81c.8-.78.8-2.07 0-2.86zM5.41 20L4 18.59l7.72-7.72 1.47 1.35L5.41 20z\"/>\n",
              "  </svg>\n",
              "      </button>\n",
              "      \n",
              "  <style>\n",
              "    .colab-df-container {\n",
              "      display:flex;\n",
              "      flex-wrap:wrap;\n",
              "      gap: 12px;\n",
              "    }\n",
              "\n",
              "    .colab-df-convert {\n",
              "      background-color: #E8F0FE;\n",
              "      border: none;\n",
              "      border-radius: 50%;\n",
              "      cursor: pointer;\n",
              "      display: none;\n",
              "      fill: #1967D2;\n",
              "      height: 32px;\n",
              "      padding: 0 0 0 0;\n",
              "      width: 32px;\n",
              "    }\n",
              "\n",
              "    .colab-df-convert:hover {\n",
              "      background-color: #E2EBFA;\n",
              "      box-shadow: 0px 1px 2px rgba(60, 64, 67, 0.3), 0px 1px 3px 1px rgba(60, 64, 67, 0.15);\n",
              "      fill: #174EA6;\n",
              "    }\n",
              "\n",
              "    [theme=dark] .colab-df-convert {\n",
              "      background-color: #3B4455;\n",
              "      fill: #D2E3FC;\n",
              "    }\n",
              "\n",
              "    [theme=dark] .colab-df-convert:hover {\n",
              "      background-color: #434B5C;\n",
              "      box-shadow: 0px 1px 3px 1px rgba(0, 0, 0, 0.15);\n",
              "      filter: drop-shadow(0px 1px 2px rgba(0, 0, 0, 0.3));\n",
              "      fill: #FFFFFF;\n",
              "    }\n",
              "  </style>\n",
              "\n",
              "      <script>\n",
              "        const buttonEl =\n",
              "          document.querySelector('#df-047d1960-3807-4d4d-b0d2-2cb56092e398 button.colab-df-convert');\n",
              "        buttonEl.style.display =\n",
              "          google.colab.kernel.accessAllowed ? 'block' : 'none';\n",
              "\n",
              "        async function convertToInteractive(key) {\n",
              "          const element = document.querySelector('#df-047d1960-3807-4d4d-b0d2-2cb56092e398');\n",
              "          const dataTable =\n",
              "            await google.colab.kernel.invokeFunction('convertToInteractive',\n",
              "                                                     [key], {});\n",
              "          if (!dataTable) return;\n",
              "\n",
              "          const docLinkHtml = 'Like what you see? Visit the ' +\n",
              "            '<a target=\"_blank\" href=https://colab.research.google.com/notebooks/data_table.ipynb>data table notebook</a>'\n",
              "            + ' to learn more about interactive tables.';\n",
              "          element.innerHTML = '';\n",
              "          dataTable['output_type'] = 'display_data';\n",
              "          await google.colab.output.renderOutput(dataTable, element);\n",
              "          const docLink = document.createElement('div');\n",
              "          docLink.innerHTML = docLinkHtml;\n",
              "          element.appendChild(docLink);\n",
              "        }\n",
              "      </script>\n",
              "    </div>\n",
              "  </div>\n",
              "  "
            ]
          },
          "metadata": {},
          "execution_count": 428
        }
      ],
      "source": [
        "# Let us get a feel for the data\n",
        "\n",
        "complaints.head(10)"
      ]
    },
    {
      "cell_type": "markdown",
      "id": "3e8fc291-4494-4041-a0c8-670c20b32424",
      "metadata": {
        "id": "3e8fc291-4494-4041-a0c8-670c20b32424"
      },
      "source": [
        "## Predicting 'Consumer Disputed'\n",
        "\n",
        "We look at the distribution of how many people disputed the complaint's resolution versus how many did not.  "
      ]
    },
    {
      "cell_type": "code",
      "execution_count": 429,
      "id": "cea0b0e2-e225-471a-b463-e47b29653531",
      "metadata": {
        "colab": {
          "base_uri": "https://localhost:8080/"
        },
        "id": "cea0b0e2-e225-471a-b463-e47b29653531",
        "outputId": "091613df-c2a3-4273-cfcc-4a86df547172"
      },
      "outputs": [
        {
          "output_type": "execute_result",
          "data": {
            "text/plain": [
              "No     162357\n",
              "Yes     44903\n",
              "Name: Consumer disputed?, dtype: int64"
            ]
          },
          "metadata": {},
          "execution_count": 429
        }
      ],
      "source": [
        "complaints['Consumer disputed?'].value_counts()"
      ]
    },
    {
      "cell_type": "code",
      "execution_count": 430,
      "id": "f0e1963c-71e4-4fad-b0d7-97b763f1e682",
      "metadata": {
        "colab": {
          "base_uri": "https://localhost:8080/"
        },
        "id": "f0e1963c-71e4-4fad-b0d7-97b763f1e682",
        "outputId": "386ebbdc-6bff-4ce2-d6f9-8db8f4fd5861"
      },
      "outputs": [
        {
          "output_type": "execute_result",
          "data": {
            "text/plain": [
              "207260"
            ]
          },
          "metadata": {},
          "execution_count": 430
        }
      ],
      "source": [
        "# Let us see how many total disputes are there\n",
        "\n",
        "complaints['Consumer disputed?'].value_counts().sum()"
      ]
    },
    {
      "cell_type": "markdown",
      "id": "c41bda9e-790e-424c-80ea-0e0b2ff74e96",
      "metadata": {
        "id": "c41bda9e-790e-424c-80ea-0e0b2ff74e96"
      },
      "source": [
        "**The above is 207,260 records.  Which is the same as the number of records in our dataset.  That means we do not have any `NaN` values.**"
      ]
    },
    {
      "cell_type": "code",
      "execution_count": 431,
      "id": "d8a796f4-6a83-4e44-9c66-3ce5f9431831",
      "metadata": {
        "colab": {
          "base_uri": "https://localhost:8080/"
        },
        "id": "d8a796f4-6a83-4e44-9c66-3ce5f9431831",
        "outputId": "f3f5b995-284a-4da7-f09b-6bddf6f838cf"
      },
      "outputs": [
        {
          "output_type": "execute_result",
          "data": {
            "text/plain": [
              "0"
            ]
          },
          "metadata": {},
          "execution_count": 431
        }
      ],
      "source": [
        "# Check for NaNs in the 'Consumer Disputed' column\n",
        "\n",
        "complaints['Consumer disputed?'].isna().sum()"
      ]
    },
    {
      "cell_type": "code",
      "execution_count": 432,
      "id": "38fe6e33-5cf3-462f-8310-976f8a5c04bf",
      "metadata": {
        "id": "38fe6e33-5cf3-462f-8310-976f8a5c04bf"
      },
      "outputs": [],
      "source": [
        "# Next, for cleanliness we change the column type for 'Consumer Disputed' from string to category\n",
        "# We don't have to do this, but can't hurt just in case an algorithm we are trying needs this.\n",
        "\n",
        "complaints['Consumer disputed?'] = complaints['Consumer disputed?'].astype('category')"
      ]
    },
    {
      "cell_type": "markdown",
      "id": "1fd0e557-d04d-47d8-9479-8890eda82bf8",
      "metadata": {
        "id": "1fd0e557-d04d-47d8-9479-8890eda82bf8"
      },
      "source": [
        "Now let us look at our split between disputed and not-disputed complaints."
      ]
    },
    {
      "cell_type": "code",
      "execution_count": 433,
      "id": "a8c2ba72-9219-4693-a786-9712b3b46ddd",
      "metadata": {
        "colab": {
          "base_uri": "https://localhost:8080/"
        },
        "id": "a8c2ba72-9219-4693-a786-9712b3b46ddd",
        "outputId": "9919c30a-1fbc-4cd9-e47c-c2337b28d22c"
      },
      "outputs": [
        {
          "output_type": "execute_result",
          "data": {
            "text/plain": [
              "No     162357\n",
              "Yes     44903\n",
              "Name: Consumer disputed?, dtype: int64"
            ]
          },
          "metadata": {},
          "execution_count": 433
        }
      ],
      "source": [
        "complaints['Consumer disputed?'].value_counts()"
      ]
    },
    {
      "cell_type": "code",
      "execution_count": 434,
      "id": "e4f8e9fb-108d-4d55-9dcb-ac2d0b3d52b8",
      "metadata": {
        "colab": {
          "base_uri": "https://localhost:8080/"
        },
        "id": "e4f8e9fb-108d-4d55-9dcb-ac2d0b3d52b8",
        "outputId": "4576c4d5-832f-4844-f2a3-d634ef52e3b3"
      },
      "outputs": [
        {
          "output_type": "execute_result",
          "data": {
            "text/plain": [
              "No     78.334942\n",
              "Yes    21.665058\n",
              "Name: Consumer disputed?, dtype: float64"
            ]
          },
          "metadata": {},
          "execution_count": 434
        }
      ],
      "source": [
        "# same thing as a percentage...\n",
        "(complaints['Consumer disputed?'].value_counts() / (complaints['Consumer disputed?'].value_counts().sum()))*100"
      ]
    },
    {
      "cell_type": "code",
      "source": [
        "complaints['Consumer disputed?'].value_counts().plot(kind='pie')"
      ],
      "metadata": {
        "colab": {
          "base_uri": "https://localhost:8080/",
          "height": 265
        },
        "id": "zc19BKH2YU39",
        "outputId": "eac3bd56-2aa2-4005-b429-42da8be58f7b"
      },
      "id": "zc19BKH2YU39",
      "execution_count": 435,
      "outputs": [
        {
          "output_type": "execute_result",
          "data": {
            "text/plain": [
              "<matplotlib.axes._subplots.AxesSubplot at 0x7f92d2f1af50>"
            ]
          },
          "metadata": {},
          "execution_count": 435
        },
        {
          "output_type": "display_data",
          "data": {
            "text/plain": [
              "<Figure size 432x288 with 1 Axes>"
            ],
            "image/png": "[encoded data removed]"
          },
          "metadata": {}
        }
      ]
    },
    {
      "cell_type": "code",
      "source": [
        "complaints['Product'].value_counts()"
      ],
      "metadata": {
        "colab": {
          "base_uri": "https://localhost:8080/"
        },
        "id": "ZtpFIvrsX8_s",
        "outputId": "1107965e-81c4-4ec6-b2ea-93270ce759ba"
      },
      "id": "ZtpFIvrsX8_s",
      "execution_count": 436,
      "outputs": [
        {
          "output_type": "execute_result",
          "data": {
            "text/plain": [
              "Mortgage                   101680\n",
              "Bank account or service     44594\n",
              "Credit card                 42191\n",
              "Debt collection              7861\n",
              "Consumer Loan                5508\n",
              "Student loan                 2866\n",
              "Money transfers               869\n",
              "Credit reporting              741\n",
              "Prepaid card                  635\n",
              "Other financial service       232\n",
              "Payday loan                    83\n",
              "Name: Product, dtype: int64"
            ]
          },
          "metadata": {},
          "execution_count": 436
        }
      ]
    },
    {
      "cell_type": "code",
      "source": [
        "(complaints['Product'].value_counts() / (complaints['Product'].value_counts().sum()))*100"
      ],
      "metadata": {
        "colab": {
          "base_uri": "https://localhost:8080/"
        },
        "id": "3_y3GDkYYtC-",
        "outputId": "8c2c6e39-fed1-4cdb-f361-12760fa8dd0b"
      },
      "id": "3_y3GDkYYtC-",
      "execution_count": 437,
      "outputs": [
        {
          "output_type": "execute_result",
          "data": {
            "text/plain": [
              "Mortgage                   49.059153\n",
              "Bank account or service    21.515970\n",
              "Credit card                20.356557\n",
              "Debt collection             3.792821\n",
              "Consumer Loan               2.657532\n",
              "Student loan                1.382804\n",
              "Money transfers             0.419280\n",
              "Credit reporting            0.357522\n",
              "Prepaid card                0.306378\n",
              "Other financial service     0.111937\n",
              "Payday loan                 0.040046\n",
              "Name: Product, dtype: float64"
            ]
          },
          "metadata": {},
          "execution_count": 437
        }
      ]
    },
    {
      "cell_type": "code",
      "source": [
        "complaints['Product'].value_counts().plot(kind='bar')\n"
      ],
      "metadata": {
        "colab": {
          "base_uri": "https://localhost:8080/",
          "height": 393
        },
        "id": "sffDhL4hX9L2",
        "outputId": "25ddcafe-f507-41ca-94cb-3f69cf2e6c18"
      },
      "id": "sffDhL4hX9L2",
      "execution_count": 438,
      "outputs": [
        {
          "output_type": "execute_result",
          "data": {
            "text/plain": [
              "<matplotlib.axes._subplots.AxesSubplot at 0x7f92d2ee3510>"
            ]
          },
          "metadata": {},
          "execution_count": 438
        },
        {
          "output_type": "display_data",
          "data": {
            "text/plain": [
              "<Figure size 432x288 with 1 Axes>"
            ],
            "image/png": "[encoded data removed]"
          },
          "metadata": {
            "needs_background": "light"
          }
        }
      ]
    },
    {
      "cell_type": "code",
      "source": [
        "complaints['Company'].value_counts()"
      ],
      "metadata": {
        "colab": {
          "base_uri": "https://localhost:8080/"
        },
        "id": "16hN3AubX9SO",
        "outputId": "9c51428d-724e-455b-8110-042f881caf7c"
      },
      "id": "16hN3AubX9SO",
      "execution_count": 439,
      "outputs": [
        {
          "output_type": "execute_result",
          "data": {
            "text/plain": [
              "BANK OF AMERICA, NATIONAL ASSOCIATION    65440\n",
              "WELLS FARGO & COMPANY                    53111\n",
              "JPMORGAN CHASE & CO.                     42170\n",
              "CITIBANK, N.A.                           34341\n",
              "U.S. BANCORP                             12198\n",
              "Name: Company, dtype: int64"
            ]
          },
          "metadata": {},
          "execution_count": 439
        }
      ]
    },
    {
      "cell_type": "code",
      "source": [
        "(complaints['Company'].value_counts() / (complaints['Company'].value_counts().sum()))*100"
      ],
      "metadata": {
        "colab": {
          "base_uri": "https://localhost:8080/"
        },
        "id": "UsKKTeq_ZEXB",
        "outputId": "5166f583-5d95-4fa3-e7d5-0db27b7de718"
      },
      "id": "UsKKTeq_ZEXB",
      "execution_count": 440,
      "outputs": [
        {
          "output_type": "execute_result",
          "data": {
            "text/plain": [
              "BANK OF AMERICA, NATIONAL ASSOCIATION    31.573869\n",
              "WELLS FARGO & COMPANY                    25.625302\n",
              "JPMORGAN CHASE & CO.                     20.346425\n",
              "CITIBANK, N.A.                           16.569044\n",
              "U.S. BANCORP                              5.885361\n",
              "Name: Company, dtype: float64"
            ]
          },
          "metadata": {},
          "execution_count": 440
        }
      ]
    },
    {
      "cell_type": "code",
      "source": [
        "complaints['Company'].value_counts().plot(kind='pie')"
      ],
      "metadata": {
        "colab": {
          "base_uri": "https://localhost:8080/",
          "height": 265
        },
        "id": "FEriwD4wX9ap",
        "outputId": "e69387f4-ee0a-481d-d311-f6bc35b2c1c2"
      },
      "id": "FEriwD4wX9ap",
      "execution_count": 441,
      "outputs": [
        {
          "output_type": "execute_result",
          "data": {
            "text/plain": [
              "<matplotlib.axes._subplots.AxesSubplot at 0x7f92d2e71950>"
            ]
          },
          "metadata": {},
          "execution_count": 441
        },
        {
          "output_type": "display_data",
          "data": {
            "text/plain": [
              "<Figure size 432x288 with 1 Axes>"
            ],
            "image/png": "[encoded data removed]"
          },
          "metadata": {}
        }
      ]
    },
    {
      "cell_type": "code",
      "source": [
        "complaints['Company response to consumer'].value_counts()"
      ],
      "metadata": {
        "colab": {
          "base_uri": "https://localhost:8080/"
        },
        "id": "F6en4V-5X9iL",
        "outputId": "068d716e-d39a-4963-db75-4603c2bba4d0"
      },
      "id": "F6en4V-5X9iL",
      "execution_count": 442,
      "outputs": [
        {
          "output_type": "execute_result",
          "data": {
            "text/plain": [
              "Closed with explanation            148930\n",
              "Closed with monetary relief         22918\n",
              "Closed with non-monetary relief     19005\n",
              "Closed without relief               11119\n",
              "Closed with relief                   2839\n",
              "Closed                               2274\n",
              "Untimely response                     175\n",
              "Name: Company response to consumer, dtype: int64"
            ]
          },
          "metadata": {},
          "execution_count": 442
        }
      ]
    },
    {
      "cell_type": "code",
      "source": [
        "(complaints['Company response to consumer'].value_counts() / (complaints['Company response to consumer'].value_counts().sum()))*100"
      ],
      "metadata": {
        "colab": {
          "base_uri": "https://localhost:8080/"
        },
        "id": "xB098NSiX9pn",
        "outputId": "a1f0f143-f21c-4025-f0af-8666cf88a58a"
      },
      "id": "xB098NSiX9pn",
      "execution_count": 443,
      "outputs": [
        {
          "output_type": "execute_result",
          "data": {
            "text/plain": [
              "Closed with explanation            71.856605\n",
              "Closed with monetary relief        11.057609\n",
              "Closed with non-monetary relief     9.169642\n",
              "Closed without relief               5.364759\n",
              "Closed with relief                  1.369777\n",
              "Closed                              1.097173\n",
              "Untimely response                   0.084435\n",
              "Name: Company response to consumer, dtype: float64"
            ]
          },
          "metadata": {},
          "execution_count": 443
        }
      ]
    },
    {
      "cell_type": "code",
      "source": [
        "complaints['Company response to consumer'].value_counts().plot(kind='bar')"
      ],
      "metadata": {
        "colab": {
          "base_uri": "https://localhost:8080/",
          "height": 432
        },
        "id": "zWH-T_JGX9wS",
        "outputId": "2e0aa6fa-c746-4faf-f84d-3aa03fe88b71"
      },
      "id": "zWH-T_JGX9wS",
      "execution_count": 444,
      "outputs": [
        {
          "output_type": "execute_result",
          "data": {
            "text/plain": [
              "<matplotlib.axes._subplots.AxesSubplot at 0x7f92d2e51790>"
            ]
          },
          "metadata": {},
          "execution_count": 444
        },
        {
          "output_type": "display_data",
          "data": {
            "text/plain": [
              "<Figure size 432x288 with 1 Axes>"
            ],
            "image/png": "[encoded data removed]"
          },
          "metadata": {
            "needs_background": "light"
          }
        }
      ]
    },
    {
      "cell_type": "markdown",
      "id": "b18ac0f0-28ec-43aa-86cd-12cfc8685952",
      "metadata": {
        "id": "b18ac0f0-28ec-43aa-86cd-12cfc8685952"
      },
      "source": [
        "So we have an imbalanced dataset as only about 12% is in the `Yes` class.  This means we should consider rebalancing the training dataset using a technique such as SMOTE.  But we will do that after doing the train-test split.  But first, we need to think about what in our data should be the predictor variables, ie, what should be included as a feature in `X`.\n",
        "\n",
        "## Deciding the feature set      \n",
        "To do that, let us look at the dataset again.  And refer to the data-dictionary in the Word document for the project.  "
      ]
    },
    {
      "cell_type": "markdown",
      "id": "04c63275-a863-4179-bdb4-10c0af8ed81b",
      "metadata": {
        "id": "04c63275-a863-4179-bdb4-10c0af8ed81b"
      },
      "source": [
        "|Field name  |Description  |Can it be a feature?  |\n",
        "|------------  |------------  |------------  |\n",
        "|Date received  |The date the CFPB received the complaint. For example, “05/25/2013.”  |Not a feature  |\n",
        "|Product  |The type of product the consumer identified in the complaint. For example, “Checking or savings account” or “Student loan.”  |Yes  |\n",
        "|Sub-product  |The type of sub-product the consumer identified in the complaint. For example, “Checking account” or “Private student loan.”  |Yes  |\n",
        "|Issue  |The issue the consumer identified in the complaint. For example, “Managing an account” or “Struggling to repay your loan.”  |Yes  |\n",
        "|Sub-issue  |The sub-issue the consumer identified in the complaint. For example, “Deposits and withdrawals” or “Problem lowering your monthly payments.”  |Yes  |\n",
        "|Consumer complaint narrative  |Consumer complaint narrative is the consumer-submitted description of “what happened” from the complaint. Consumers must opt-in to share their narrative. We will not publish the narrative unless the consumer consents, and consumers can opt-out at any time. The CFPB takes reasonable steps to scrub personal information from each complaint that could be used to identify the consumer.  |Maybe, if we can convert text to some vector form  |\n",
        "|Company public response  |The company’s optional, public-facing response to a consumer’s complaint. Companies can choose to select a response from a pre-set list of options that will be posted on the public database. For example, “Company believes complaint is the result of an isolated error.”  |Yes  |\n",
        "|Company  |The complaint is about this company. For example, “ABC Bank.”  |Yes  |\n",
        "|State  |The state of the mailing address provided by the consumer.  |Yes  |\n",
        "|ZIP code  |The mailing ZIP code provided by the consumer. This field may: i) include the first five digits of a ZIP code; ii) include the first three digits of a ZIP code (if the consumer consented to publication of their complaint narrative); or iii) be blank (if ZIP codes have been submitted with non-numeric values, if there are less than 20,000 people in a given ZIP code, or if the complaint has an address outside of the United States).  |Yes  |\n",
        "|Tags  |Data that supports easier searching and sorting of complaints submitted by or on behalf of consumers. For example, complaints where the submitter reports the age of the consumer as 62 years or older are tagged “Older American.” Complaints submitted by or on behalf of a servicemember or the spouse or dependent of a servicemember are tagged “Servicemember.” Servicemember includes anyone who is active duty, National Guard, or Reservist, as well as anyone who previously served and is a veteran or retiree.  |Yes  |\n",
        "|Consumer consent provided?  |Identifies whether the consumer opted in to publish their complaint narrative. We do not publish the narrative unless the consumer consents, and consumers can opt-out at any time.  |Yes  |\n",
        "|Submitted via  |How the complaint was submitted to the CFPB. For example, “Web” or “Phone.”  |Yes  |\n",
        "|Date sent to company  |The date the CFPB sent the complaint to the company.  |Not relevant  |\n",
        "|Company response to consumer  |This is how the company responded. For example, “Closed with explanation.”  |Yes  |\n",
        "|Timely response?  |Whether the company gave a timely response. For example, “Yes” or “No.”  |Yes  |\n",
        "|Consumer disputed?  |Whether the consumer disputed the company’s response.  |This the Target  |\n",
        "|Complaint ID  |The unique identification number for a complaint.  |Not a feature  |\n"
      ]
    },
    {
      "cell_type": "markdown",
      "id": "fae14d48-bb46-4b3d-85d8-af091784a220",
      "metadata": {
        "id": "fae14d48-bb46-4b3d-85d8-af091784a220"
      },
      "source": [
        "To begin with, let us ignore the text contained in 'Consumer complaint narrative' and look at the rest of the features.  We can come back to this later."
      ]
    },
    {
      "cell_type": "code",
      "execution_count": 445,
      "id": "cc13fb49-de51-457e-bb37-84e983adcea5",
      "metadata": {
        "id": "cc13fb49-de51-457e-bb37-84e983adcea5"
      },
      "outputs": [],
      "source": [
        "X = complaints[[ 'Product', 'Sub-product', 'Issue', 'Sub-issue',\n",
        "        'Company public response', 'Company',\n",
        "       'State',  'Tags',\n",
        "       'Submitted via',  'Company response to consumer',\n",
        "       'Timely response?']]"
      ]
    },
    {
      "cell_type": "code",
      "execution_count": 446,
      "id": "1ed5cd9f-790b-42d3-b845-13dbc0ea9435",
      "metadata": {
        "colab": {
          "base_uri": "https://localhost:8080/"
        },
        "id": "1ed5cd9f-790b-42d3-b845-13dbc0ea9435",
        "outputId": "402eb703-7da0-48e9-ec8c-c01f069e515d"
      },
      "outputs": [
        {
          "output_type": "stream",
          "name": "stdout",
          "text": [
            "207260\n",
            "581\n"
          ]
        }
      ],
      "source": [
        "# Let us check if we have any missing values in our reduced dataset X\n",
        "\n",
        "print(len(X)) # Number of rows before dropna()\n",
        "print(len(X.dropna())) # Number of rows after dropna() "
      ]
    },
    {
      "cell_type": "markdown",
      "id": "dc2c63b0-17eb-4399-823b-44cb91dc6f16",
      "metadata": {
        "id": "dc2c63b0-17eb-4399-823b-44cb91dc6f16"
      },
      "source": [
        "If we were to drop `NaN` values, we would be left with very few rows.  That means we need to think harder about `NaN` values.  \n",
        "\n",
        "To do that, let us look at which columns are missing values.  "
      ]
    },
    {
      "cell_type": "code",
      "execution_count": 447,
      "id": "af1ee498-ce07-4a26-99e3-1708a5c3b51b",
      "metadata": {
        "colab": {
          "base_uri": "https://localhost:8080/"
        },
        "id": "af1ee498-ce07-4a26-99e3-1708a5c3b51b",
        "outputId": "a5701ce1-19ee-4612-bfaf-1b61bf6a0237"
      },
      "outputs": [
        {
          "output_type": "execute_result",
          "data": {
            "text/plain": [
              "Product                              0\n",
              "Sub-product                      43015\n",
              "Issue                                0\n",
              "Sub-issue                       196913\n",
              "Company public response         148802\n",
              "Company                              0\n",
              "State                             2194\n",
              "Tags                            178995\n",
              "Submitted via                        0\n",
              "Company response to consumer         0\n",
              "Timely response?                     0\n",
              "dtype: int64"
            ]
          },
          "metadata": {},
          "execution_count": 447
        }
      ],
      "source": [
        "# Check how many values are missing in each column\n",
        "\n",
        "X.isna().sum()"
      ]
    },
    {
      "cell_type": "markdown",
      "id": "a9d4ad05-ec1c-4f98-9926-c09bede3bfc5",
      "metadata": {
        "id": "a9d4ad05-ec1c-4f98-9926-c09bede3bfc5"
      },
      "source": [
        "**Now the question is: how do we deal with these missing values?  Let us look at what each of these columns contain.  We will do a `unique()` on these columns to see which are the values contained in these columns.**  "
      ]
    },
    {
      "cell_type": "code",
      "execution_count": 448,
      "id": "6c956acd-0207-4d60-b5d7-ea77197a6c26",
      "metadata": {
        "colab": {
          "base_uri": "https://localhost:8080/"
        },
        "id": "6c956acd-0207-4d60-b5d7-ea77197a6c26",
        "outputId": "87865c16-596e-4fdd-fee8-dae3ab61ac5f"
      },
      "outputs": [
        {
          "output_type": "execute_result",
          "data": {
            "text/plain": [
              "array(['International money transfer', 'Other bank product/service',\n",
              "       'Conventional fixed mortgage', 'Other mortgage',\n",
              "       'Checking account', 'Vehicle lease', nan, 'Medical',\n",
              "       'Conventional adjustable mortgage (ARM)', 'Vehicle loan',\n",
              "       'Reverse mortgage', '(CD) Certificate of deposit', 'FHA mortgage',\n",
              "       'Government benefit payment card', 'VA mortgage',\n",
              "       'Savings account', 'Credit card',\n",
              "       'Home equity loan or line of credit', 'Second mortgage',\n",
              "       'Non-federal student loan', 'Installment loan',\n",
              "       'Other special purpose card', 'Mortgage', 'I do not know',\n",
              "       'Cashing a check without an account', 'Federal student loan',\n",
              "       'Auto', 'Other (i.e. phone, health club, etc.)',\n",
              "       'Personal line of credit', 'Domestic (US) money transfer',\n",
              "       'General purpose card', 'Payday loan',\n",
              "       'Traveler’s/Cashier’s checks', 'Refund anticipation check',\n",
              "       'Federal student loan servicing', 'Debt settlement',\n",
              "       'Gift or merchant card', 'Check cashing', 'ID prepaid card',\n",
              "       'Pawn loan', 'Credit repair', 'Foreign currency exchange',\n",
              "       'Title loan', 'Money order', 'Mobile wallet', 'Payroll card',\n",
              "       'Transit card', 'Electronic Benefit Transfer / EBT card'],\n",
              "      dtype=object)"
            ]
          },
          "metadata": {},
          "execution_count": 448
        }
      ],
      "source": [
        "X['Sub-product'].unique()"
      ]
    },
    {
      "cell_type": "markdown",
      "source": [
        "X['Sub-issue'].unique()\n"
      ],
      "metadata": {
        "id": "67f06c4f-ef0c-431a-919b-6a7bfba0595b"
      },
      "id": "67f06c4f-ef0c-431a-919b-6a7bfba0595b"
    },
    {
      "cell_type": "code",
      "execution_count": 449,
      "id": "eef84322-6e37-4691-9834-97669fc25340",
      "metadata": {
        "colab": {
          "base_uri": "https://localhost:8080/"
        },
        "id": "eef84322-6e37-4691-9834-97669fc25340",
        "outputId": "9a133404-e7b0-4e1f-c0b6-da87afa482bd"
      },
      "outputs": [
        {
          "output_type": "execute_result",
          "data": {
            "text/plain": [
              "array([nan, 'PA', 'VA', 'GA', 'CA', 'MD', 'MN', 'WA', 'OK', 'TX', 'FL',\n",
              "       'NJ', 'MA', 'WI', 'AZ', 'NY', 'DE', 'IL', 'CT', 'AE', 'MI', 'TN',\n",
              "       'NH', 'MO', 'DC', 'OH', 'WV', 'NC', 'NM', 'AL', 'NV', 'UT', 'SC',\n",
              "       'AK', 'KY', 'HI', 'OR', 'KS', 'CO', 'IN', 'ID', 'NE', 'VT', 'LA',\n",
              "       'RI', 'WY', 'MS', 'ME', 'MT', 'IA', 'AR', 'PR', 'ND', 'SD', 'AS',\n",
              "       'AP', 'GU', 'VI', 'MH', 'FM', 'AA', 'MP', 'PW'], dtype=object)"
            ]
          },
          "metadata": {},
          "execution_count": 449
        }
      ],
      "source": [
        "X['State'].unique()"
      ]
    },
    {
      "cell_type": "code",
      "execution_count": 450,
      "id": "79c654df-0114-41e7-ab74-179776dddece",
      "metadata": {
        "colab": {
          "base_uri": "https://localhost:8080/"
        },
        "id": "79c654df-0114-41e7-ab74-179776dddece",
        "outputId": "f31ff19e-071c-449c-f7fa-3848227aa766"
      },
      "outputs": [
        {
          "output_type": "execute_result",
          "data": {
            "text/plain": [
              "array(['Company has responded to the consumer and the CFPB and chooses not to provide a public response',\n",
              "       'Company chooses not to provide a public response', nan,\n",
              "       'Company believes it acted appropriately as authorized by contract or law',\n",
              "       'Company believes complaint represents an opportunity for improvement to better serve consumers',\n",
              "       'Company believes complaint caused principally by actions of third party outside the control or direction of the company',\n",
              "       'Company believes complaint is the result of an isolated error',\n",
              "       'Company believes complaint relates to a discontinued policy or procedure',\n",
              "       'Company believes the complaint is the result of a misunderstanding'],\n",
              "      dtype=object)"
            ]
          },
          "metadata": {},
          "execution_count": 450
        }
      ],
      "source": [
        "X['Company public response'].unique()"
      ]
    },
    {
      "cell_type": "code",
      "execution_count": 451,
      "id": "fd399633-49d7-48bc-a249-9dd9ec8f4a5a",
      "metadata": {
        "colab": {
          "base_uri": "https://localhost:8080/"
        },
        "id": "fd399633-49d7-48bc-a249-9dd9ec8f4a5a",
        "outputId": "d5599cbf-5e94-4527-d6c6-fffd221a338d"
      },
      "outputs": [
        {
          "output_type": "execute_result",
          "data": {
            "text/plain": [
              "array([nan, 'Older American', 'Servicemember',\n",
              "       'Older American, Servicemember'], dtype=object)"
            ]
          },
          "metadata": {},
          "execution_count": 451
        }
      ],
      "source": [
        "X['Tags'].unique()"
      ]
    },
    {
      "cell_type": "markdown",
      "id": "4466cf4d-af0c-4247-8010-92cf815692e9",
      "metadata": {
        "id": "4466cf4d-af0c-4247-8010-92cf815692e9"
      },
      "source": [
        "## Dealing with missing data  \n",
        "It is clear that all of these fields that have missing data are categorical, or string, and we cannot use any numerical imputation method to fill the missing values. \n",
        "\n",
        "What I would propose is to remove the NaNs by putting the text 'missing' in its place.  That would mean that all missing items would be treated as a category that we humans understand to be missing, but for the machine it is just another category called 'missing'.  \n",
        "\n",
        "Of course, you are welcome to try other approaches.  "
      ]
    },
    {
      "cell_type": "code",
      "execution_count": 452,
      "id": "c0f331ca-2d52-4ae5-8d8e-33432ff1bc6f",
      "metadata": {
        "colab": {
          "base_uri": "https://localhost:8080/"
        },
        "id": "c0f331ca-2d52-4ae5-8d8e-33432ff1bc6f",
        "outputId": "2aa19596-0a02-4e18-b3f0-9a5e063e588b"
      },
      "outputs": [
        {
          "output_type": "execute_result",
          "data": {
            "text/plain": [
              "(207260, 11)"
            ]
          },
          "metadata": {},
          "execution_count": 452
        }
      ],
      "source": [
        "X = X.fillna('missing')\n",
        "X.dropna().shape"
      ]
    },
    {
      "cell_type": "code",
      "source": [
        "# X['Issue'].unique()\n",
        "X['Issue'].value_counts()[:5].plot.bar()"
      ],
      "metadata": {
        "colab": {
          "base_uri": "https://localhost:8080/",
          "height": 484
        },
        "id": "DgNrk56DeyZw",
        "outputId": "370151c5-d129-4b9d-e057-e1094be1e89c"
      },
      "id": "DgNrk56DeyZw",
      "execution_count": 453,
      "outputs": [
        {
          "output_type": "execute_result",
          "data": {
            "text/plain": [
              "<matplotlib.axes._subplots.AxesSubplot at 0x7f92d2dbc210>"
            ]
          },
          "metadata": {},
          "execution_count": 453
        },
        {
          "output_type": "display_data",
          "data": {
            "text/plain": [
              "<Figure size 432x288 with 1 Axes>"
            ],
            "image/png": "[encoded data removed]"
          },
          "metadata": {
            "needs_background": "light"
          }
        }
      ]
    },
    {
      "cell_type": "code",
      "source": [
        "(X['Issue'].value_counts() / (X['Issue'].value_counts()[:5].sum()))*100"
      ],
      "metadata": {
        "colab": {
          "base_uri": "https://localhost:8080/"
        },
        "id": "gWbZ7CzVfWg_",
        "outputId": "452e31e4-15fd-441e-ba51-8492cadcc8c0"
      },
      "id": "gWbZ7CzVfWg_",
      "execution_count": 454,
      "outputs": [
        {
          "output_type": "execute_result",
          "data": {
            "text/plain": [
              "Loan modification,collection,foreclosure    47.078933\n",
              "Loan servicing, payments, escrow account    21.253415\n",
              "Account opening, closing, or management     15.785102\n",
              "Deposits and withdrawals                     9.804783\n",
              "Application, originator, mortgage broker     6.077767\n",
              "                                              ...    \n",
              "Unable to get credit report/credit score     0.005591\n",
              "Disclosures                                  0.004793\n",
              "Can't stop charges to bank account           0.002396\n",
              "Lender damaged or destroyed property         0.000799\n",
              "Lender repossessed or sold the vehicle       0.000799\n",
              "Name: Issue, Length: 93, dtype: float64"
            ]
          },
          "metadata": {},
          "execution_count": 454
        }
      ]
    },
    {
      "cell_type": "code",
      "source": [
        "\n",
        "X['Product'].value_counts()[:5].plot.bar()"
      ],
      "metadata": {
        "colab": {
          "base_uri": "https://localhost:8080/",
          "height": 393
        },
        "id": "aqh4AgIdgVA1",
        "outputId": "ee398ac9-c6f0-4283-ae59-632d100fd579"
      },
      "id": "aqh4AgIdgVA1",
      "execution_count": 455,
      "outputs": [
        {
          "output_type": "execute_result",
          "data": {
            "text/plain": [
              "<matplotlib.axes._subplots.AxesSubplot at 0x7f92d2d4e9d0>"
            ]
          },
          "metadata": {},
          "execution_count": 455
        },
        {
          "output_type": "display_data",
          "data": {
            "text/plain": [
              "<Figure size 432x288 with 1 Axes>"
            ],
            "image/png": "[encoded data removed]"
          },
          "metadata": {
            "needs_background": "light"
          }
        }
      ]
    },
    {
      "cell_type": "code",
      "source": [
        "(X['Product'].value_counts() / (X['Product'].value_counts()[:5].sum()))*100"
      ],
      "metadata": {
        "colab": {
          "base_uri": "https://localhost:8080/"
        },
        "id": "hG_WtTrNgVPj",
        "outputId": "1566820c-e3d1-486e-ea42-5dfc105fa08c"
      },
      "id": "hG_WtTrNgVPj",
      "execution_count": 456,
      "outputs": [
        {
          "output_type": "execute_result",
          "data": {
            "text/plain": [
              "Mortgage                   50.378033\n",
              "Bank account or service    22.094394\n",
              "Credit card                20.903812\n",
              "Debt collection             3.894785\n",
              "Consumer Loan               2.728975\n",
              "Student loan                1.419979\n",
              "Money transfers             0.430552\n",
              "Credit reporting            0.367133\n",
              "Prepaid card                0.314615\n",
              "Other financial service     0.114946\n",
              "Payday loan                 0.041123\n",
              "Name: Product, dtype: float64"
            ]
          },
          "metadata": {},
          "execution_count": 456
        }
      ]
    },
    {
      "cell_type": "code",
      "source": [
        "\n",
        "X['Sub-product'].value_counts()[:5].plot.bar()"
      ],
      "metadata": {
        "colab": {
          "base_uri": "https://localhost:8080/",
          "height": 418
        },
        "id": "hmI90jZWgVbP",
        "outputId": "ab22433c-44a4-4a47-c98f-ca7ce00783d9"
      },
      "id": "hmI90jZWgVbP",
      "execution_count": 457,
      "outputs": [
        {
          "output_type": "execute_result",
          "data": {
            "text/plain": [
              "<matplotlib.axes._subplots.AxesSubplot at 0x7f92d2cbf3d0>"
            ]
          },
          "metadata": {},
          "execution_count": 457
        },
        {
          "output_type": "display_data",
          "data": {
            "text/plain": [
              "<Figure size 432x288 with 1 Axes>"
            ],
            "image/png": "[encoded data removed]"
          },
          "metadata": {
            "needs_background": "light"
          }
        }
      ]
    },
    {
      "cell_type": "code",
      "source": [
        "(X['Sub-product'].value_counts() / (X['Sub-product'].value_counts()[:5].sum()))*100"
      ],
      "metadata": {
        "colab": {
          "base_uri": "https://localhost:8080/"
        },
        "id": "uPbhKQTShDn6",
        "outputId": "e2bb284c-581e-4b34-d0f5-bffb9b274647"
      },
      "id": "uPbhKQTShDn6",
      "execution_count": 458,
      "outputs": [
        {
          "output_type": "execute_result",
          "data": {
            "text/plain": [
              "Other mortgage                            28.113726\n",
              "missing                                   27.225717\n",
              "Checking account                          20.177981\n",
              "Conventional fixed mortgage               17.155715\n",
              "FHA mortgage                               7.326861\n",
              "Conventional adjustable mortgage (ARM)     6.304037\n",
              "Other bank product/service                 5.395775\n",
              "Home equity loan or line of credit         3.703938\n",
              "Credit card                                2.569085\n",
              "Vehicle loan                               1.948808\n",
              "Non-federal student loan                   1.852602\n",
              "Savings account                            1.600061\n",
              "VA mortgage                                1.210173\n",
              "Installment loan                           0.862691\n",
              "Other (i.e. phone, health club, etc.)      0.831677\n",
              "(CD) Certificate of deposit                0.824715\n",
              "Mortgage                                   0.756991\n",
              "I do not know                              0.511412\n",
              "Personal line of credit                    0.449384\n",
              "Reverse mortgage                           0.322797\n",
              "International money transfer               0.287353\n",
              "Domestic (US) money transfer               0.262668\n",
              "Cashing a check without an account         0.226591\n",
              "Second mortgage                            0.219629\n",
              "General purpose card                       0.192412\n",
              "Vehicle lease                              0.182918\n",
              "Auto                                       0.162031\n",
              "Gift or merchant card                      0.110764\n",
              "Check cashing                              0.060129\n",
              "Federal student loan servicing             0.045571\n",
              "Other special purpose card                 0.036077\n",
              "Government benefit payment card            0.025317\n",
              "Title loan                                 0.025317\n",
              "Traveler’s/Cashier’s checks                0.024684\n",
              "Payday loan                                0.024052\n",
              "Federal student loan                       0.023419\n",
              "Foreign currency exchange                  0.020254\n",
              "Refund anticipation check                  0.017089\n",
              "Pawn loan                                  0.017089\n",
              "Payroll card                               0.016456\n",
              "ID prepaid card                            0.015190\n",
              "Medical                                    0.012659\n",
              "Debt settlement                            0.012026\n",
              "Money order                                0.008228\n",
              "Credit repair                              0.004431\n",
              "Mobile wallet                              0.003798\n",
              "Transit card                               0.001266\n",
              "Electronic Benefit Transfer / EBT card     0.000633\n",
              "Name: Sub-product, dtype: float64"
            ]
          },
          "metadata": {},
          "execution_count": 458
        }
      ]
    },
    {
      "cell_type": "markdown",
      "id": "f7a34476-e065-46a7-b201-e847d836cbf5",
      "metadata": {
        "id": "f7a34476-e065-46a7-b201-e847d836cbf5"
      },
      "source": [
        "## Data prep\n",
        "We see that there are no cells that have NAs any more after our operations above.  So it is safe to proceed."
      ]
    },
    {
      "cell_type": "code",
      "execution_count": 459,
      "id": "3e37ca12-fe13-425c-b120-7bcb973c619a",
      "metadata": {
        "id": "3e37ca12-fe13-425c-b120-7bcb973c619a"
      },
      "outputs": [],
      "source": [
        "# Next, we convert all the X observations into numbers\n",
        "\n",
        "X = pd.get_dummies(X)\n"
      ]
    },
    {
      "cell_type": "code",
      "execution_count": 460,
      "id": "a2ced310-b471-45fa-b2f0-ca8cee25d575",
      "metadata": {
        "colab": {
          "base_uri": "https://localhost:8080/",
          "height": 568
        },
        "id": "a2ced310-b471-45fa-b2f0-ca8cee25d575",
        "outputId": "0c44d3f5-52c8-4b6c-f2c8-8a162082d7db"
      },
      "outputs": [
        {
          "output_type": "stream",
          "name": "stdout",
          "text": [
            "X has the shape  (207260, 306)\n"
          ]
        },
        {
          "output_type": "execute_result",
          "data": {
            "text/plain": [
              "        Product_Bank account or service  Product_Consumer Loan  \\\n",
              "0                                     0                      0   \n",
              "1                                     1                      0   \n",
              "2                                     1                      0   \n",
              "3                                     0                      0   \n",
              "4                                     0                      0   \n",
              "...                                 ...                    ...   \n",
              "207255                                0                      0   \n",
              "207256                                0                      0   \n",
              "207257                                0                      0   \n",
              "207258                                1                      0   \n",
              "207259                                0                      0   \n",
              "\n",
              "        Product_Credit card  Product_Credit reporting  \\\n",
              "0                         0                         0   \n",
              "1                         0                         0   \n",
              "2                         0                         0   \n",
              "3                         0                         0   \n",
              "4                         0                         0   \n",
              "...                     ...                       ...   \n",
              "207255                    0                         0   \n",
              "207256                    0                         0   \n",
              "207257                    0                         0   \n",
              "207258                    0                         0   \n",
              "207259                    0                         0   \n",
              "\n",
              "        Product_Debt collection  Product_Money transfers  Product_Mortgage  \\\n",
              "0                             0                        1                 0   \n",
              "1                             0                        0                 0   \n",
              "2                             0                        0                 0   \n",
              "3                             0                        0                 1   \n",
              "4                             0                        0                 1   \n",
              "...                         ...                      ...               ...   \n",
              "207255                        1                        0                 0   \n",
              "207256                        0                        0                 1   \n",
              "207257                        0                        0                 0   \n",
              "207258                        0                        0                 0   \n",
              "207259                        0                        0                 1   \n",
              "\n",
              "        Product_Other financial service  Product_Payday loan  \\\n",
              "0                                     0                    0   \n",
              "1                                     0                    0   \n",
              "2                                     0                    0   \n",
              "3                                     0                    0   \n",
              "4                                     0                    0   \n",
              "...                                 ...                  ...   \n",
              "207255                                0                    0   \n",
              "207256                                0                    0   \n",
              "207257                                0                    0   \n",
              "207258                                0                    0   \n",
              "207259                                0                    0   \n",
              "\n",
              "        Product_Prepaid card  ...  Submitted via_Web  \\\n",
              "0                          0  ...                  1   \n",
              "1                          0  ...                  1   \n",
              "2                          0  ...                  1   \n",
              "3                          0  ...                  0   \n",
              "4                          0  ...                  0   \n",
              "...                      ...  ...                ...   \n",
              "207255                     0  ...                  1   \n",
              "207256                     0  ...                  0   \n",
              "207257                     0  ...                  1   \n",
              "207258                     0  ...                  1   \n",
              "207259                     0  ...                  1   \n",
              "\n",
              "        Company response to consumer_Closed  \\\n",
              "0                                         0   \n",
              "1                                         0   \n",
              "2                                         0   \n",
              "3                                         0   \n",
              "4                                         0   \n",
              "...                                     ...   \n",
              "207255                                    0   \n",
              "207256                                    0   \n",
              "207257                                    0   \n",
              "207258                                    0   \n",
              "207259                                    0   \n",
              "\n",
              "        Company response to consumer_Closed with explanation  \\\n",
              "0                                                       1      \n",
              "1                                                       1      \n",
              "2                                                       0      \n",
              "3                                                       1      \n",
              "4                                                       1      \n",
              "...                                                   ...      \n",
              "207255                                                  1      \n",
              "207256                                                  0      \n",
              "207257                                                  1      \n",
              "207258                                                  0      \n",
              "207259                                                  1      \n",
              "\n",
              "        Company response to consumer_Closed with monetary relief  \\\n",
              "0                                                       0          \n",
              "1                                                       0          \n",
              "2                                                       1          \n",
              "3                                                       0          \n",
              "4                                                       0          \n",
              "...                                                   ...          \n",
              "207255                                                  0          \n",
              "207256                                                  0          \n",
              "207257                                                  0          \n",
              "207258                                                  0          \n",
              "207259                                                  0          \n",
              "\n",
              "        Company response to consumer_Closed with non-monetary relief  \\\n",
              "0                                                       0              \n",
              "1                                                       0              \n",
              "2                                                       0              \n",
              "3                                                       0              \n",
              "4                                                       0              \n",
              "...                                                   ...              \n",
              "207255                                                  0              \n",
              "207256                                                  0              \n",
              "207257                                                  0              \n",
              "207258                                                  1              \n",
              "207259                                                  0              \n",
              "\n",
              "        Company response to consumer_Closed with relief  \\\n",
              "0                                                     0   \n",
              "1                                                     0   \n",
              "2                                                     0   \n",
              "3                                                     0   \n",
              "4                                                     0   \n",
              "...                                                 ...   \n",
              "207255                                                0   \n",
              "207256                                                0   \n",
              "207257                                                0   \n",
              "207258                                                0   \n",
              "207259                                                0   \n",
              "\n",
              "        Company response to consumer_Closed without relief  \\\n",
              "0                                                       0    \n",
              "1                                                       0    \n",
              "2                                                       0    \n",
              "3                                                       0    \n",
              "4                                                       0    \n",
              "...                                                   ...    \n",
              "207255                                                  0    \n",
              "207256                                                  1    \n",
              "207257                                                  0    \n",
              "207258                                                  0    \n",
              "207259                                                  0    \n",
              "\n",
              "        Company response to consumer_Untimely response  Timely response?_No  \\\n",
              "0                                                    0                    0   \n",
              "1                                                    0                    0   \n",
              "2                                                    0                    0   \n",
              "3                                                    0                    0   \n",
              "4                                                    0                    0   \n",
              "...                                                ...                  ...   \n",
              "207255                                               0                    0   \n",
              "207256                                               0                    0   \n",
              "207257                                               0                    0   \n",
              "207258                                               0                    0   \n",
              "207259                                               0                    0   \n",
              "\n",
              "        Timely response?_Yes  \n",
              "0                          1  \n",
              "1                          1  \n",
              "2                          1  \n",
              "3                          1  \n",
              "4                          1  \n",
              "...                      ...  \n",
              "207255                     1  \n",
              "207256                     1  \n",
              "207257                     1  \n",
              "207258                     1  \n",
              "207259                     1  \n",
              "\n",
              "[207260 rows x 306 columns]"
            ],
            "text/html": [
              "\n",
              "  <div id=\"df-c37aba8d-8720-4d16-ac97-bfcd536e45b0\">\n",
              "    <div class=\"colab-df-container\">\n",
              "      <div>\n",
              "<style scoped>\n",
              "    .dataframe tbody tr th:only-of-type {\n",
              "        vertical-align: middle;\n",
              "    }\n",
              "\n",
              "    .dataframe tbody tr th {\n",
              "        vertical-align: top;\n",
              "    }\n",
              "\n",
              "    .dataframe thead th {\n",
              "        text-align: right;\n",
              "    }\n",
              "</style>\n",
              "<table border=\"1\" class=\"dataframe\">\n",
              "  <thead>\n",
              "    <tr style=\"text-align: right;\">\n",
              "      <th></th>\n",
              "      <th>Product_Bank account or service</th>\n",
              "      <th>Product_Consumer Loan</th>\n",
              "      <th>Product_Credit card</th>\n",
              "      <th>Product_Credit reporting</th>\n",
              "      <th>Product_Debt collection</th>\n",
              "      <th>Product_Money transfers</th>\n",
              "      <th>Product_Mortgage</th>\n",
              "      <th>Product_Other financial service</th>\n",
              "      <th>Product_Payday loan</th>\n",
              "      <th>Product_Prepaid card</th>\n",
              "      <th>...</th>\n",
              "      <th>Submitted via_Web</th>\n",
              "      <th>Company response to consumer_Closed</th>\n",
              "      <th>Company response to consumer_Closed with explanation</th>\n",
              "      <th>Company response to consumer_Closed with monetary relief</th>\n",
              "      <th>Company response to consumer_Closed with non-monetary relief</th>\n",
              "      <th>Company response to consumer_Closed with relief</th>\n",
              "      <th>Company response to consumer_Closed without relief</th>\n",
              "      <th>Company response to consumer_Untimely response</th>\n",
              "      <th>Timely response?_No</th>\n",
              "      <th>Timely response?_Yes</th>\n",
              "    </tr>\n",
              "  </thead>\n",
              "  <tbody>\n",
              "    <tr>\n",
              "      <th>0</th>\n",
              "      <td>0</td>\n",
              "      <td>0</td>\n",
              "      <td>0</td>\n",
              "      <td>0</td>\n",
              "      <td>0</td>\n",
              "      <td>1</td>\n",
              "      <td>0</td>\n",
              "      <td>0</td>\n",
              "      <td>0</td>\n",
              "      <td>0</td>\n",
              "      <td>...</td>\n",
              "      <td>1</td>\n",
              "      <td>0</td>\n",
              "      <td>1</td>\n",
              "      <td>0</td>\n",
              "      <td>0</td>\n",
              "      <td>0</td>\n",
              "      <td>0</td>\n",
              "      <td>0</td>\n",
              "      <td>0</td>\n",
              "      <td>1</td>\n",
              "    </tr>\n",
              "    <tr>\n",
              "      <th>1</th>\n",
              "      <td>1</td>\n",
              "      <td>0</td>\n",
              "      <td>0</td>\n",
              "      <td>0</td>\n",
              "      <td>0</td>\n",
              "      <td>0</td>\n",
              "      <td>0</td>\n",
              "      <td>0</td>\n",
              "      <td>0</td>\n",
              "      <td>0</td>\n",
              "      <td>...</td>\n",
              "      <td>1</td>\n",
              "      <td>0</td>\n",
              "      <td>1</td>\n",
              "      <td>0</td>\n",
              "      <td>0</td>\n",
              "      <td>0</td>\n",
              "      <td>0</td>\n",
              "      <td>0</td>\n",
              "      <td>0</td>\n",
              "      <td>1</td>\n",
              "    </tr>\n",
              "    <tr>\n",
              "      <th>2</th>\n",
              "      <td>1</td>\n",
              "      <td>0</td>\n",
              "      <td>0</td>\n",
              "      <td>0</td>\n",
              "      <td>0</td>\n",
              "      <td>0</td>\n",
              "      <td>0</td>\n",
              "      <td>0</td>\n",
              "      <td>0</td>\n",
              "      <td>0</td>\n",
              "      <td>...</td>\n",
              "      <td>1</td>\n",
              "      <td>0</td>\n",
              "      <td>0</td>\n",
              "      <td>1</td>\n",
              "      <td>0</td>\n",
              "      <td>0</td>\n",
              "      <td>0</td>\n",
              "      <td>0</td>\n",
              "      <td>0</td>\n",
              "      <td>1</td>\n",
              "    </tr>\n",
              "    <tr>\n",
              "      <th>3</th>\n",
              "      <td>0</td>\n",
              "      <td>0</td>\n",
              "      <td>0</td>\n",
              "      <td>0</td>\n",
              "      <td>0</td>\n",
              "      <td>0</td>\n",
              "      <td>1</td>\n",
              "      <td>0</td>\n",
              "      <td>0</td>\n",
              "      <td>0</td>\n",
              "      <td>...</td>\n",
              "      <td>0</td>\n",
              "      <td>0</td>\n",
              "      <td>1</td>\n",
              "      <td>0</td>\n",
              "      <td>0</td>\n",
              "      <td>0</td>\n",
              "      <td>0</td>\n",
              "      <td>0</td>\n",
              "      <td>0</td>\n",
              "      <td>1</td>\n",
              "    </tr>\n",
              "    <tr>\n",
              "      <th>4</th>\n",
              "      <td>0</td>\n",
              "      <td>0</td>\n",
              "      <td>0</td>\n",
              "      <td>0</td>\n",
              "      <td>0</td>\n",
              "      <td>0</td>\n",
              "      <td>1</td>\n",
              "      <td>0</td>\n",
              "      <td>0</td>\n",
              "      <td>0</td>\n",
              "      <td>...</td>\n",
              "      <td>0</td>\n",
              "      <td>0</td>\n",
              "      <td>1</td>\n",
              "      <td>0</td>\n",
              "      <td>0</td>\n",
              "      <td>0</td>\n",
              "      <td>0</td>\n",
              "      <td>0</td>\n",
              "      <td>0</td>\n",
              "      <td>1</td>\n",
              "    </tr>\n",
              "    <tr>\n",
              "      <th>...</th>\n",
              "      <td>...</td>\n",
              "      <td>...</td>\n",
              "      <td>...</td>\n",
              "      <td>...</td>\n",
              "      <td>...</td>\n",
              "      <td>...</td>\n",
              "      <td>...</td>\n",
              "      <td>...</td>\n",
              "      <td>...</td>\n",
              "      <td>...</td>\n",
              "      <td>...</td>\n",
              "      <td>...</td>\n",
              "      <td>...</td>\n",
              "      <td>...</td>\n",
              "      <td>...</td>\n",
              "      <td>...</td>\n",
              "      <td>...</td>\n",
              "      <td>...</td>\n",
              "      <td>...</td>\n",
              "      <td>...</td>\n",
              "      <td>...</td>\n",
              "    </tr>\n",
              "    <tr>\n",
              "      <th>207255</th>\n",
              "      <td>0</td>\n",
              "      <td>0</td>\n",
              "      <td>0</td>\n",
              "      <td>0</td>\n",
              "      <td>1</td>\n",
              "      <td>0</td>\n",
              "      <td>0</td>\n",
              "      <td>0</td>\n",
              "      <td>0</td>\n",
              "      <td>0</td>\n",
              "      <td>...</td>\n",
              "      <td>1</td>\n",
              "      <td>0</td>\n",
              "      <td>1</td>\n",
              "      <td>0</td>\n",
              "      <td>0</td>\n",
              "      <td>0</td>\n",
              "      <td>0</td>\n",
              "      <td>0</td>\n",
              "      <td>0</td>\n",
              "      <td>1</td>\n",
              "    </tr>\n",
              "    <tr>\n",
              "      <th>207256</th>\n",
              "      <td>0</td>\n",
              "      <td>0</td>\n",
              "      <td>0</td>\n",
              "      <td>0</td>\n",
              "      <td>0</td>\n",
              "      <td>0</td>\n",
              "      <td>1</td>\n",
              "      <td>0</td>\n",
              "      <td>0</td>\n",
              "      <td>0</td>\n",
              "      <td>...</td>\n",
              "      <td>0</td>\n",
              "      <td>0</td>\n",
              "      <td>0</td>\n",
              "      <td>0</td>\n",
              "      <td>0</td>\n",
              "      <td>0</td>\n",
              "      <td>1</td>\n",
              "      <td>0</td>\n",
              "      <td>0</td>\n",
              "      <td>1</td>\n",
              "    </tr>\n",
              "    <tr>\n",
              "      <th>207257</th>\n",
              "      <td>0</td>\n",
              "      <td>0</td>\n",
              "      <td>0</td>\n",
              "      <td>0</td>\n",
              "      <td>0</td>\n",
              "      <td>0</td>\n",
              "      <td>0</td>\n",
              "      <td>0</td>\n",
              "      <td>0</td>\n",
              "      <td>0</td>\n",
              "      <td>...</td>\n",
              "      <td>1</td>\n",
              "      <td>0</td>\n",
              "      <td>1</td>\n",
              "      <td>0</td>\n",
              "      <td>0</td>\n",
              "      <td>0</td>\n",
              "      <td>0</td>\n",
              "      <td>0</td>\n",
              "      <td>0</td>\n",
              "      <td>1</td>\n",
              "    </tr>\n",
              "    <tr>\n",
              "      <th>207258</th>\n",
              "      <td>1</td>\n",
              "      <td>0</td>\n",
              "      <td>0</td>\n",
              "      <td>0</td>\n",
              "      <td>0</td>\n",
              "      <td>0</td>\n",
              "      <td>0</td>\n",
              "      <td>0</td>\n",
              "      <td>0</td>\n",
              "      <td>0</td>\n",
              "      <td>...</td>\n",
              "      <td>1</td>\n",
              "      <td>0</td>\n",
              "      <td>0</td>\n",
              "      <td>0</td>\n",
              "      <td>1</td>\n",
              "      <td>0</td>\n",
              "      <td>0</td>\n",
              "      <td>0</td>\n",
              "      <td>0</td>\n",
              "      <td>1</td>\n",
              "    </tr>\n",
              "    <tr>\n",
              "      <th>207259</th>\n",
              "      <td>0</td>\n",
              "      <td>0</td>\n",
              "      <td>0</td>\n",
              "      <td>0</td>\n",
              "      <td>0</td>\n",
              "      <td>0</td>\n",
              "      <td>1</td>\n",
              "      <td>0</td>\n",
              "      <td>0</td>\n",
              "      <td>0</td>\n",
              "      <td>...</td>\n",
              "      <td>1</td>\n",
              "      <td>0</td>\n",
              "      <td>1</td>\n",
              "      <td>0</td>\n",
              "      <td>0</td>\n",
              "      <td>0</td>\n",
              "      <td>0</td>\n",
              "      <td>0</td>\n",
              "      <td>0</td>\n",
              "      <td>1</td>\n",
              "    </tr>\n",
              "  </tbody>\n",
              "</table>\n",
              "<p>207260 rows × 306 columns</p>\n",
              "</div>\n",
              "      <button class=\"colab-df-convert\" onclick=\"convertToInteractive('df-c37aba8d-8720-4d16-ac97-bfcd536e45b0')\"\n",
              "              title=\"Convert this dataframe to an interactive table.\"\n",
              "              style=\"display:none;\">\n",
              "        \n",
              "  <svg xmlns=\"http://www.w3.org/2000/svg\" height=\"24px\"viewBox=\"0 0 24 24\"\n",
              "       width=\"24px\">\n",
              "    <path d=\"M0 0h24v24H0V0z\" fill=\"none\"/>\n",
              "    <path d=\"M18.56 5.44l.94 2.06.94-2.06 2.06-.94-2.06-.94-.94-2.06-.94 2.06-2.06.94zm-11 1L8.5 8.5l.94-2.06 2.06-.94-2.06-.94L8.5 2.5l-.94 2.06-2.06.94zm10 10l.94 2.06.94-2.06 2.06-.94-2.06-.94-.94-2.06-.94 2.06-2.06.94z\"/><path d=\"M17.41 7.96l-1.37-1.37c-.4-.4-.92-.59-1.43-.59-.52 0-1.04.2-1.43.59L10.3 9.45l-7.72 7.72c-.78.78-.78 2.05 0 2.83L4 21.41c.39.39.9.59 1.41.59.51 0 1.02-.2 1.41-.59l7.78-7.78 2.81-2.81c.8-.78.8-2.07 0-2.86zM5.41 20L4 18.59l7.72-7.72 1.47 1.35L5.41 20z\"/>\n",
              "  </svg>\n",
              "      </button>\n",
              "      \n",
              "  <style>\n",
              "    .colab-df-container {\n",
              "      display:flex;\n",
              "      flex-wrap:wrap;\n",
              "      gap: 12px;\n",
              "    }\n",
              "\n",
              "    .colab-df-convert {\n",
              "      background-color: #E8F0FE;\n",
              "      border: none;\n",
              "      border-radius: 50%;\n",
              "      cursor: pointer;\n",
              "      display: none;\n",
              "      fill: #1967D2;\n",
              "      height: 32px;\n",
              "      padding: 0 0 0 0;\n",
              "      width: 32px;\n",
              "    }\n",
              "\n",
              "    .colab-df-convert:hover {\n",
              "      background-color: #E2EBFA;\n",
              "      box-shadow: 0px 1px 2px rgba(60, 64, 67, 0.3), 0px 1px 3px 1px rgba(60, 64, 67, 0.15);\n",
              "      fill: #174EA6;\n",
              "    }\n",
              "\n",
              "    [theme=dark] .colab-df-convert {\n",
              "      background-color: #3B4455;\n",
              "      fill: #D2E3FC;\n",
              "    }\n",
              "\n",
              "    [theme=dark] .colab-df-convert:hover {\n",
              "      background-color: #434B5C;\n",
              "      box-shadow: 0px 1px 3px 1px rgba(0, 0, 0, 0.15);\n",
              "      filter: drop-shadow(0px 1px 2px rgba(0, 0, 0, 0.3));\n",
              "      fill: #FFFFFF;\n",
              "    }\n",
              "  </style>\n",
              "\n",
              "      <script>\n",
              "        const buttonEl =\n",
              "          document.querySelector('#df-c37aba8d-8720-4d16-ac97-bfcd536e45b0 button.colab-df-convert');\n",
              "        buttonEl.style.display =\n",
              "          google.colab.kernel.accessAllowed ? 'block' : 'none';\n",
              "\n",
              "        async function convertToInteractive(key) {\n",
              "          const element = document.querySelector('#df-c37aba8d-8720-4d16-ac97-bfcd536e45b0');\n",
              "          const dataTable =\n",
              "            await google.colab.kernel.invokeFunction('convertToInteractive',\n",
              "                                                     [key], {});\n",
              "          if (!dataTable) return;\n",
              "\n",
              "          const docLinkHtml = 'Like what you see? Visit the ' +\n",
              "            '<a target=\"_blank\" href=https://colab.research.google.com/notebooks/data_table.ipynb>data table notebook</a>'\n",
              "            + ' to learn more about interactive tables.';\n",
              "          element.innerHTML = '';\n",
              "          dataTable['output_type'] = 'display_data';\n",
              "          await google.colab.output.renderOutput(dataTable, element);\n",
              "          const docLink = document.createElement('div');\n",
              "          docLink.innerHTML = docLinkHtml;\n",
              "          element.appendChild(docLink);\n",
              "        }\n",
              "      </script>\n",
              "    </div>\n",
              "  </div>\n",
              "  "
            ]
          },
          "metadata": {},
          "execution_count": 460
        }
      ],
      "source": [
        "# Let us see what X looks like\n",
        "\n",
        "print('X has the shape ',X.shape)\n",
        "\n",
        "X"
      ]
    },
    {
      "cell_type": "markdown",
      "id": "853d544c-bb40-4cd4-8ad6-45707fa496f3",
      "metadata": {
        "id": "853d544c-bb40-4cd4-8ad6-45707fa496f3"
      },
      "source": [
        "**Let us get our _y_ variable**  "
      ]
    },
    {
      "cell_type": "code",
      "execution_count": 461,
      "id": "225636c3-6369-442b-a053-8aac6ed22e26",
      "metadata": {
        "id": "225636c3-6369-442b-a053-8aac6ed22e26"
      },
      "outputs": [],
      "source": [
        "y = complaints['Consumer disputed?']"
      ]
    },
    {
      "cell_type": "markdown",
      "id": "c30448f9-c6c6-46a8-955d-8b8f1eae2881",
      "metadata": {
        "id": "c30448f9-c6c6-46a8-955d-8b8f1eae2881"
      },
      "source": [
        "But y contains text, and we need to have 0s and 1s.  We can try to use LabelEncoder to do that"
      ]
    },
    {
      "cell_type": "code",
      "execution_count": 462,
      "id": "71f4da79-da45-47d3-825a-f4955efdecac",
      "metadata": {
        "colab": {
          "base_uri": "https://localhost:8080/"
        },
        "id": "71f4da79-da45-47d3-825a-f4955efdecac",
        "outputId": "acc65980-f7b0-41ac-9f49-42640d48e4ce"
      },
      "outputs": [
        {
          "output_type": "stream",
          "name": "stdout",
          "text": [
            "['No' 'Yes']\n",
            "['No' 'Yes']\n",
            "\n",
            "Label mapping is: {0: 'No', 1: 'Yes'}\n"
          ]
        }
      ],
      "source": [
        "from sklearn import preprocessing\n",
        "le = preprocessing.LabelEncoder()\n",
        "y = le.fit_transform(complaints['Consumer disputed?'])\n",
        "print(le.classes_)\n",
        "print(le.inverse_transform(list(set(y))))\n",
        "labels = dict(zip(list(set(y)), le.inverse_transform(list(set(y)))))\n",
        "print(\"\\nLabel mapping is:\", labels)\n"
      ]
    },
    {
      "cell_type": "markdown",
      "id": "703e78ef-a9c7-4b24-967e-4fccca3e7344",
      "metadata": {
        "id": "703e78ef-a9c7-4b24-967e-4fccca3e7344"
      },
      "source": [
        "## Train-test split  \n",
        "We have our `X` and `y` defined.  Now let us do the train-test split"
      ]
    },
    {
      "cell_type": "code",
      "execution_count": 463,
      "id": "73f39982-7ce7-49d2-87e2-0fb123d5aab2",
      "metadata": {
        "id": "73f39982-7ce7-49d2-87e2-0fb123d5aab2"
      },
      "outputs": [],
      "source": [
        "from sklearn.model_selection import train_test_split\n",
        "X_train, X_test, y_train, y_test = train_test_split(X, y, test_size=0.2)"
      ]
    },
    {
      "cell_type": "markdown",
      "id": "8c117913-d6e7-4b33-a56a-f92e500419d7",
      "metadata": {
        "id": "8c117913-d6e7-4b33-a56a-f92e500419d7"
      },
      "source": [
        "Let us look at what our train and test sets look like."
      ]
    },
    {
      "cell_type": "code",
      "execution_count": 464,
      "id": "cbd0d4b1-e2aa-49a9-b282-b838c728bb7c",
      "metadata": {
        "colab": {
          "base_uri": "https://localhost:8080/"
        },
        "id": "cbd0d4b1-e2aa-49a9-b282-b838c728bb7c",
        "outputId": "fa86ef23-a373-497d-d27d-6fd661645710"
      },
      "outputs": [
        {
          "output_type": "stream",
          "name": "stdout",
          "text": [
            "(165808, 306)\n",
            "(165808,)\n",
            "(41452, 306)\n",
            "(41452,)\n"
          ]
        }
      ],
      "source": [
        "# We check the shape of our X and y \n",
        "\n",
        "print(X_train.shape)\n",
        "print(y_train.shape)\n",
        "print(X_test.shape)\n",
        "print(y_test.shape)"
      ]
    },
    {
      "cell_type": "markdown",
      "id": "e420d236-6acb-4ff7-ae3d-af5a244477b8",
      "metadata": {
        "id": "e420d236-6acb-4ff7-ae3d-af5a244477b8"
      },
      "source": [
        "## Dealing with imbalanced data  \n",
        "Since we have an imbalanced dataset, we should try to do something to oversample the minority category, or undersample the majority.  \n",
        "\n",
        "We can do that using SMOTE.  To remind  yourself of what SMOTE is, refer to the slides from the Feature Engineering class.\n",
        "\n",
        "If you want to try SMOTE, uncomment the lines in the cell below and run them - know that it will take a while!\n",
        "\n",
        "### Oversampling with SMOTE"
      ]
    },
    {
      "cell_type": "code",
      "execution_count": 465,
      "id": "4a66e9a6-8cd4-4150-977b-2795dde7366d",
      "metadata": {
        "id": "4a66e9a6-8cd4-4150-977b-2795dde7366d"
      },
      "outputs": [],
      "source": [
        "# from imblearn.over_sampling import SMOTE \n",
        "# smote = SMOTE()\n",
        "# X_train, y_train = smote.fit_resample(X_train, y_train)"
      ]
    },
    {
      "cell_type": "markdown",
      "id": "a0bad2ae-1992-4213-9af8-b97271c8b8db",
      "metadata": {
        "id": "a0bad2ae-1992-4213-9af8-b97271c8b8db"
      },
      "source": [
        "**Looks like SMOTE is computationally very heavy, and does not produce great results for our models.**  \n",
        "\n",
        "But because we have a lot of data, we can actually try undersampling too.  Interestingly, undersampling gives us better results in the modeling section later on.  \n",
        "\n",
        "### Random Undersampling"
      ]
    },
    {
      "cell_type": "code",
      "execution_count": 466,
      "id": "b4b1bfec-3e48-4fa4-a6c3-0123ecc2432b",
      "metadata": {
        "id": "b4b1bfec-3e48-4fa4-a6c3-0123ecc2432b"
      },
      "outputs": [],
      "source": [
        "from imblearn.under_sampling import RandomUnderSampler\n",
        "undersampler = RandomUnderSampler()\n",
        "X_train, y_train = undersampler.fit_resample(X_train, y_train)"
      ]
    },
    {
      "cell_type": "code",
      "execution_count": 467,
      "id": "aa45c58e-553f-44a1-a081-13fdfc90b4ee",
      "metadata": {
        "colab": {
          "base_uri": "https://localhost:8080/"
        },
        "id": "aa45c58e-553f-44a1-a081-13fdfc90b4ee",
        "outputId": "9b1dd643-7247-463f-c79a-d9d5f405a916"
      },
      "outputs": [
        {
          "output_type": "execute_result",
          "data": {
            "text/plain": [
              "0.5"
            ]
          },
          "metadata": {},
          "execution_count": 467
        }
      ],
      "source": [
        "# Let us check if the dataset is balanced\n",
        "# just checking that the '1' category is exactly 50% of the training set\n",
        "\n",
        "y_train.sum()/len(y_train) "
      ]
    },
    {
      "cell_type": "code",
      "execution_count": 468,
      "id": "8438d4cb-13ef-48f2-b6a2-d3425f71342e",
      "metadata": {
        "colab": {
          "base_uri": "https://localhost:8080/"
        },
        "id": "8438d4cb-13ef-48f2-b6a2-d3425f71342e",
        "outputId": "8d2c3bc4-47aa-4e22-98ef-a51032aa7248"
      },
      "outputs": [
        {
          "output_type": "execute_result",
          "data": {
            "text/plain": [
              "(71768, 306)"
            ]
          },
          "metadata": {},
          "execution_count": 468
        }
      ],
      "source": [
        "X_train.shape"
      ]
    },
    {
      "cell_type": "code",
      "execution_count": 469,
      "id": "570ec406-5a7a-48d7-a122-5b3b02b7e92f",
      "metadata": {
        "colab": {
          "base_uri": "https://localhost:8080/"
        },
        "id": "570ec406-5a7a-48d7-a122-5b3b02b7e92f",
        "outputId": "aa526272-ac91-4970-c3d7-ae22a75f4c09"
      },
      "outputs": [
        {
          "output_type": "execute_result",
          "data": {
            "text/plain": [
              "0    35884\n",
              "1    35884\n",
              "dtype: int64"
            ]
          },
          "metadata": {},
          "execution_count": 469
        }
      ],
      "source": [
        "pd.DataFrame(y_train).value_counts()"
      ]
    },
    {
      "cell_type": "code",
      "execution_count": 470,
      "id": "2246ec36-ed81-484a-99b7-dac02d71ef17",
      "metadata": {
        "colab": {
          "base_uri": "https://localhost:8080/"
        },
        "id": "2246ec36-ed81-484a-99b7-dac02d71ef17",
        "outputId": "67b05f96-71e7-4636-973b-454424311797"
      },
      "outputs": [
        {
          "output_type": "stream",
          "name": "stdout",
          "text": [
            "(207260, 306)\n",
            "(71768, 306)\n",
            "(41452, 306)\n"
          ]
        }
      ],
      "source": [
        "print(X.shape)\n",
        "print(X_train.shape)\n",
        "print(X_test.shape)"
      ]
    },
    {
      "cell_type": "markdown",
      "id": "e29fbd35-92a2-4b85-97e9-40bb6a4d516b",
      "metadata": {
        "id": "e29fbd35-92a2-4b85-97e9-40bb6a4d516b"
      },
      "source": [
        "**Now everything is set up, we have X_train, y_train, X_test, y_test and a perfectly balanced dataset.  We can now feed it to a model of our choice, and look at the results.**  \n",
        "\n",
        "## Fit a model using XGBoost"
      ]
    },
    {
      "cell_type": "code",
      "execution_count": 471,
      "id": "12cac8b3-8501-47dc-b5c0-c98a603fb9fe",
      "metadata": {
        "colab": {
          "base_uri": "https://localhost:8080/"
        },
        "id": "12cac8b3-8501-47dc-b5c0-c98a603fb9fe",
        "outputId": "6f6f3dd0-a570-48e3-d0e1-3e32d6c0d63d"
      },
      "outputs": [
        {
          "output_type": "execute_result",
          "data": {
            "text/plain": [
              "XGBClassifier(use_label_encoder=False)"
            ]
          },
          "metadata": {},
          "execution_count": 471
        }
      ],
      "source": [
        "# Fit the model\n",
        "from xgboost import XGBClassifier\n",
        "\n",
        "model_xgb = XGBClassifier(use_label_encoder=False, objective= 'binary:logistic')\n",
        "model_xgb.fit(X_train, y_train)"
      ]
    },
    {
      "cell_type": "code",
      "execution_count": 472,
      "id": "b717e946-eb74-4769-95dd-a1789cd1d7e7",
      "metadata": {
        "id": "b717e946-eb74-4769-95dd-a1789cd1d7e7"
      },
      "outputs": [],
      "source": [
        "# Perform predictions, and store the results in a variable called 'pred'\n",
        "pred = model_xgb.predict(X_test)"
      ]
    },
    {
      "cell_type": "code",
      "execution_count": 473,
      "id": "921c95b8-6048-422d-bf78-9577fb593707",
      "metadata": {
        "colab": {
          "base_uri": "https://localhost:8080/",
          "height": 432
        },
        "id": "921c95b8-6048-422d-bf78-9577fb593707",
        "outputId": "358d0ad0-30e8-4172-bd12-10201f9f0e22"
      },
      "outputs": [
        {
          "output_type": "stream",
          "name": "stdout",
          "text": [
            "              precision    recall  f1-score   support\n",
            "\n",
            "           0       0.84      0.55      0.66     32433\n",
            "           1       0.28      0.63      0.38      9019\n",
            "\n",
            "    accuracy                           0.56     41452\n",
            "   macro avg       0.56      0.59      0.52     41452\n",
            "weighted avg       0.72      0.56      0.60     41452\n",
            "\n"
          ]
        },
        {
          "output_type": "display_data",
          "data": {
            "text/plain": [
              "<Figure size 432x288 with 2 Axes>"
            ],
            "image/png": "[encoded data removed]"
          },
          "metadata": {
            "needs_background": "light"
          }
        }
      ],
      "source": [
        "# Check the classification report and the confusion matrix\n",
        "\n",
        "print(classification_report(y_true = y_test, y_pred = pred))\n",
        "\n",
        "cm = confusion_matrix(y_test, pred)\n",
        "ConfusionMatrixDisplay(confusion_matrix=cm).plot();"
      ]
    },
    {
      "cell_type": "markdown",
      "id": "4421bf74-69ab-4e08-b58f-dfed47c4283e",
      "metadata": {
        "id": "4421bf74-69ab-4e08-b58f-dfed47c4283e"
      },
      "source": [
        "## Calculating Total Cost in Dollars    \n",
        "We know that the cost of a False Positive is \\\\$90, whereas the cost of a False Negative is \\\\$1500.  \n",
        "\n",
        "Let us calculate the total cost based on our confusion matrix.  The confusion matrix has the false positives and the false negatives in the cells outside the main diagonal.  "
      ]
    },
    {
      "cell_type": "code",
      "execution_count": 474,
      "id": "0ccbacbc-5259-4d76-b011-df5259ffb233",
      "metadata": {
        "id": "0ccbacbc-5259-4d76-b011-df5259ffb233"
      },
      "outputs": [],
      "source": [
        "False_Positive_Cost = 90 * cm[0,1]\n",
        "False_Negative_Cost = 1500 * cm[1,0]"
      ]
    },
    {
      "cell_type": "code",
      "execution_count": 475,
      "id": "01643337-5d07-4822-836a-3d8ff8541ad3",
      "metadata": {
        "colab": {
          "base_uri": "https://localhost:8080/"
        },
        "id": "01643337-5d07-4822-836a-3d8ff8541ad3",
        "outputId": "5e5e6c37-ffb5-4e91-cdec-10659892f677"
      },
      "outputs": [
        {
          "output_type": "execute_result",
          "data": {
            "text/plain": [
              "6394770"
            ]
          },
          "metadata": {},
          "execution_count": 475
        }
      ],
      "source": [
        "Total_cost = False_Positive_Cost + False_Negative_Cost\n",
        "Total_cost"
      ]
    },
    {
      "cell_type": "markdown",
      "id": "dec6acaa-7135-4f26-8d8a-73bb04b7b062",
      "metadata": {
        "id": "dec6acaa-7135-4f26-8d8a-73bb04b7b062"
      },
      "source": [
        "## What should we do now?  \n",
        "\n",
        "We are able to obtain the probability for a complaint being a \"1\" (which means 'yes').  The default is generally 0.5, which means if the probability of something being a dispute is more than 0.5, we consider it as 'yes', and if the prob is <0.5, we consider it a 'no'.  But we can change this threshold because we are very interested in finding future disputes even if we end up with more false positives.  This means we can play with the 0.5 threshold.  \n",
        "\n",
        "On average, it costs the banks \\\\$100 to resolve, respond to and close a complaint that is not disputed .  On the other hand, it costs banks an extra \\\\$1500 to resolve a complaint if it has been disputed.  \n",
        "\n",
        "Our goal is to create and evaluate a predictive model that can help the banks identify future disputes so they can perform “extra diligence” during the first round of addressing the complaint with a view to avoiding eventual disputes.  If a complaint is picked up for “extra diligence”, it costs the bank an extra \\\\$90 to perform the additional diligence steps.  \n",
        "\n",
        "It is clear that the cost of extra diligence is very low (\\\\$90), but if a complaint reaches the dispute stage, the cost can get quite high (\\\\$1500).  So we would like to reduce false negatives from our predictive model, even if it means we push up false positives.  That is because the cost of false positives is quite low compared to the cost of false negatives.  \n",
        "\n",
        "This means we want high recall, and are okay with a lower precision.  \n",
        "\n",
        "\n",
        "![image.png](attachment:b6391366-6399-44c1-b9b2-3ce2b72d0708.png)    \n",
        "<img src = \"attachment:b6391366-6399-44c1-b9b2-3ce2b72d0708.png\" width = \"500\">  \n",
        "\n",
        "We can look at our options using the ROC curve, but the ROC curve uses False Positive and True Positive rates (not precision and recall).  Roughly, we want a high True Positive rate (that minimizes FNs) and are okay if the False Positive rate goes up.  \n",
        "\n",
        "Recall the formulae for TP and FP rates:  \n",
        "![image.png](attachment:b24e2295-efa6-4b35-af8f-8732cc579e88.png)\n",
        "\n",
        "**This means we can play around with the threshold that decides what is marked as 'yes'.  Feel free to reduce this threshold on the next cell, and see if it helps you get better recall for category 1 (that may reduce accuracy, but that is okay).**   \n",
        "## Adjusting the threshold  \n",
        "Let us lower the threshold to 0.4 and see what happens to our confusion matrix, and if we can lower our total cost.\n",
        "\n"
      ]
    },
    {
      "cell_type": "code",
      "execution_count": 476,
      "id": "2d0f754b-e1e3-4f1c-8f80-444449b0ac8b",
      "metadata": {
        "colab": {
          "base_uri": "https://localhost:8080/",
          "height": 500
        },
        "id": "2d0f754b-e1e3-4f1c-8f80-444449b0ac8b",
        "outputId": "ef7dbae9-3753-4b3b-fbb8-8f63de8dabe9"
      },
      "outputs": [
        {
          "output_type": "stream",
          "name": "stdout",
          "text": [
            "Confusion Matrix : \n",
            " [[ 5920 26513]\n",
            " [  671  8348]]\n",
            "Test accuracy =  0.3442053459422947\n",
            "              precision    recall  f1-score   support\n",
            "\n",
            "           0       0.90      0.18      0.30     32433\n",
            "           1       0.24      0.93      0.38      9019\n",
            "\n",
            "    accuracy                           0.34     41452\n",
            "   macro avg       0.57      0.55      0.34     41452\n",
            "weighted avg       0.75      0.34      0.32     41452\n",
            "\n"
          ]
        },
        {
          "output_type": "display_data",
          "data": {
            "text/plain": [
              "<Figure size 432x288 with 2 Axes>"
            ],
            "image/png": "[encoded data removed]"
          },
          "metadata": {
            "needs_background": "light"
          }
        }
      ],
      "source": [
        "# Set threshold for identifying class 1\n",
        "threshold = 0.4\n",
        "\n",
        "# Create predictions.  Note that predictions give us probabilities, not classes!\n",
        "pred_prob = model_xgb.predict_proba(X_test)\n",
        "\n",
        "# We drop the probabilities for class 0, and keep just the second column\n",
        "pred_prob = pred_prob[:,1]\n",
        "\n",
        "# Convert probabilities to 1s and 0s based on threshold\n",
        "pred = (pred_prob>threshold).astype(int)\n",
        "\n",
        "# confusion matrix\n",
        "cm = confusion_matrix(y_test, pred)\n",
        "print (\"Confusion Matrix : \\n\", cm)\n",
        "ConfusionMatrixDisplay(confusion_matrix=cm).plot();\n",
        "\n",
        "# accuracy score of the model\n",
        "print('Test accuracy = ', accuracy_score(y_test, pred))\n",
        "print(classification_report(y_true = y_test, y_pred = pred))"
      ]
    },
    {
      "cell_type": "markdown",
      "id": "9f8051a2-309d-422d-b4f9-7d23a5f50413",
      "metadata": {
        "id": "9f8051a2-309d-422d-b4f9-7d23a5f50413"
      },
      "source": [
        "So we see that recall has gone up to 90% from a lower number earlier."
      ]
    },
    {
      "cell_type": "code",
      "execution_count": 477,
      "id": "98e0ee12-9ba0-42fd-8efe-c1d4ad257909",
      "metadata": {
        "colab": {
          "base_uri": "https://localhost:8080/"
        },
        "id": "98e0ee12-9ba0-42fd-8efe-c1d4ad257909",
        "outputId": "e930e78a-4bc0-4f97-821b-31e611178e91"
      },
      "outputs": [
        {
          "output_type": "execute_result",
          "data": {
            "text/plain": [
              "array([0.5697733 , 0.5935457 , 0.57532233, ..., 0.47321337, 0.50052756,\n",
              "       0.43346137], dtype=float32)"
            ]
          },
          "metadata": {},
          "execution_count": 477
        }
      ],
      "source": [
        "# See what predicted probabilities look like\n",
        "pred_prob"
      ]
    },
    {
      "cell_type": "code",
      "execution_count": 478,
      "id": "51972f0e-8d2b-4ea2-ab15-ac0552e85629",
      "metadata": {
        "colab": {
          "base_uri": "https://localhost:8080/"
        },
        "id": "51972f0e-8d2b-4ea2-ab15-ac0552e85629",
        "outputId": "fe5ad4bc-70be-41e0-b362-a54773eaaee9"
      },
      "outputs": [
        {
          "output_type": "execute_result",
          "data": {
            "text/plain": [
              "array([1, 1, 1, ..., 1, 1, 1])"
            ]
          },
          "metadata": {},
          "execution_count": 478
        }
      ],
      "source": [
        "pred"
      ]
    },
    {
      "cell_type": "code",
      "execution_count": 479,
      "id": "f211980e-f5ea-4dd9-ae3d-d47e7cb27576",
      "metadata": {
        "id": "f211980e-f5ea-4dd9-ae3d-d47e7cb27576"
      },
      "outputs": [],
      "source": [
        "# pred_prob = pred_prob[:,1]"
      ]
    },
    {
      "cell_type": "markdown",
      "id": "dc7c555b-776a-46b8-8ed7-2be7da06914a",
      "metadata": {
        "id": "dc7c555b-776a-46b8-8ed7-2be7da06914a"
      },
      "source": [
        "**Calculating Total Cost in Dollars**  \n",
        "We know that the cost of a False Positive is \\\\$90, whereas the cost of a False Negative is \\\\$1500.  \n",
        "\n",
        "Let us calculate the total cost based on our confusion matrix."
      ]
    },
    {
      "cell_type": "code",
      "execution_count": 480,
      "id": "3786dcfc-0912-4c97-a084-b2c953edaf83",
      "metadata": {
        "id": "3786dcfc-0912-4c97-a084-b2c953edaf83"
      },
      "outputs": [],
      "source": [
        "False_Positive_Cost = 90 * cm[0,1]\n",
        "False_Negative_Cost = 1500 * cm[1,0]"
      ]
    },
    {
      "cell_type": "code",
      "execution_count": 481,
      "id": "d1d39094-c4b0-4d7a-ab4c-f96a9c85b588",
      "metadata": {
        "colab": {
          "base_uri": "https://localhost:8080/"
        },
        "id": "d1d39094-c4b0-4d7a-ab4c-f96a9c85b588",
        "outputId": "8720eea1-4472-4874-e86e-d37fe2fb8c08"
      },
      "outputs": [
        {
          "output_type": "execute_result",
          "data": {
            "text/plain": [
              "3392670"
            ]
          },
          "metadata": {},
          "execution_count": 481
        }
      ],
      "source": [
        "Total_cost = False_Positive_Cost + False_Negative_Cost\n",
        "Total_cost"
      ]
    },
    {
      "cell_type": "markdown",
      "id": "b4787f83-5a69-4220-90e1-31d11b063d97",
      "metadata": {
        "id": "b4787f83-5a69-4220-90e1-31d11b063d97"
      },
      "source": [
        "Now you can see how you can play around with the threshold and change your total cost.  In fact, you could create a loop to go through many possibiities of thresholds and find out the optimal threshold that leads to the minimum cost.  1m"
      ]
    },
    {
      "cell_type": "markdown",
      "id": "bd06ae2d-1dba-4182-a08d-47d6f4cc7875",
      "metadata": {
        "id": "bd06ae2d-1dba-4182-a08d-47d6f4cc7875"
      },
      "source": [
        "## AUC and ROC calculation"
      ]
    },
    {
      "cell_type": "code",
      "execution_count": 482,
      "id": "5b0e3ba1-6dbc-45d0-810f-6cab13f5e056",
      "metadata": {
        "colab": {
          "base_uri": "https://localhost:8080/"
        },
        "id": "5b0e3ba1-6dbc-45d0-810f-6cab13f5e056",
        "outputId": "325c6445-0bbb-45d6-ac8a-ccae39eef3fb"
      },
      "outputs": [
        {
          "output_type": "execute_result",
          "data": {
            "text/plain": [
              "0.6156394014961928"
            ]
          },
          "metadata": {},
          "execution_count": 482
        }
      ],
      "source": [
        "# AUC calculation\n",
        "from sklearn import metrics\n",
        "metrics.roc_auc_score(y_test, pred_prob)"
      ]
    },
    {
      "cell_type": "code",
      "execution_count": 483,
      "id": "d63da795-9103-45ec-8fd5-7bf75cf37326",
      "metadata": {
        "colab": {
          "base_uri": "https://localhost:8080/",
          "height": 513
        },
        "id": "d63da795-9103-45ec-8fd5-7bf75cf37326",
        "outputId": "cde24b9e-019c-4fbe-8b57-76ce579cf5f0"
      },
      "outputs": [
        {
          "output_type": "display_data",
          "data": {
            "text/plain": [
              "<Figure size 648x576 with 1 Axes>"
            ],
            "image/png": "[encoded data removed]"
          },
          "metadata": {
            "needs_background": "light"
          }
        }
      ],
      "source": [
        "# Source for code below: https://stackoverflow.com/questions/25009284/how-to-plot-roc-curve-in-python\n",
        "fpr, tpr, thresholds = metrics.roc_curve(y_test, pred_prob)\n",
        "roc_auc = metrics.auc(fpr, tpr)\n",
        "plt.figure(figsize = (9,8))\n",
        "plt.title('Receiver Operating Characteristic')\n",
        "plt.plot(fpr, tpr, 'b', label = 'AUC = %0.2f' % roc_auc)\n",
        "plt.legend(loc = 'lower right')\n",
        "plt.plot([0, 1], [0, 1],'r--')\n",
        "plt.xlim([0, 1])\n",
        "plt.ylim([0, 1])\n",
        "plt.ylabel('True Positive Rate')\n",
        "plt.xlabel('False Positive Rate')\n",
        "plt.show()"
      ]
    },
    {
      "cell_type": "code",
      "execution_count": 484,
      "id": "4102bf31-5f0e-446a-a5f7-9120ec4dfd31",
      "metadata": {
        "colab": {
          "base_uri": "https://localhost:8080/",
          "height": 419
        },
        "id": "4102bf31-5f0e-446a-a5f7-9120ec4dfd31",
        "outputId": "b03a7a4a-d27f-44a7-931f-af828a3f7e44"
      },
      "outputs": [
        {
          "output_type": "execute_result",
          "data": {
            "text/plain": [
              "           TPR       FPR  Threshold\n",
              "0     1.000000  1.000000   0.069911\n",
              "1     1.000000  0.999938   0.071119\n",
              "2     1.000000  0.999846   0.073245\n",
              "3     1.000000  0.999692   0.081895\n",
              "4     1.000000  0.999630   0.082188\n",
              "...        ...       ...        ...\n",
              "6167  0.000111  0.000123   0.715607\n",
              "6168  0.000111  0.000092   0.715713\n",
              "6169  0.000000  0.000092   0.720691\n",
              "6170  0.000000  0.000031   0.744125\n",
              "6171  0.000000  0.000000   1.744125\n",
              "\n",
              "[6172 rows x 3 columns]"
            ],
            "text/html": [
              "\n",
              "  <div id=\"df-6bd235dc-f33e-4473-8e4e-1a7a5d3a99dd\">\n",
              "    <div class=\"colab-df-container\">\n",
              "      <div>\n",
              "<style scoped>\n",
              "    .dataframe tbody tr th:only-of-type {\n",
              "        vertical-align: middle;\n",
              "    }\n",
              "\n",
              "    .dataframe tbody tr th {\n",
              "        vertical-align: top;\n",
              "    }\n",
              "\n",
              "    .dataframe thead th {\n",
              "        text-align: right;\n",
              "    }\n",
              "</style>\n",
              "<table border=\"1\" class=\"dataframe\">\n",
              "  <thead>\n",
              "    <tr style=\"text-align: right;\">\n",
              "      <th></th>\n",
              "      <th>TPR</th>\n",
              "      <th>FPR</th>\n",
              "      <th>Threshold</th>\n",
              "    </tr>\n",
              "  </thead>\n",
              "  <tbody>\n",
              "    <tr>\n",
              "      <th>0</th>\n",
              "      <td>1.000000</td>\n",
              "      <td>1.000000</td>\n",
              "      <td>0.069911</td>\n",
              "    </tr>\n",
              "    <tr>\n",
              "      <th>1</th>\n",
              "      <td>1.000000</td>\n",
              "      <td>0.999938</td>\n",
              "      <td>0.071119</td>\n",
              "    </tr>\n",
              "    <tr>\n",
              "      <th>2</th>\n",
              "      <td>1.000000</td>\n",
              "      <td>0.999846</td>\n",
              "      <td>0.073245</td>\n",
              "    </tr>\n",
              "    <tr>\n",
              "      <th>3</th>\n",
              "      <td>1.000000</td>\n",
              "      <td>0.999692</td>\n",
              "      <td>0.081895</td>\n",
              "    </tr>\n",
              "    <tr>\n",
              "      <th>4</th>\n",
              "      <td>1.000000</td>\n",
              "      <td>0.999630</td>\n",
              "      <td>0.082188</td>\n",
              "    </tr>\n",
              "    <tr>\n",
              "      <th>...</th>\n",
              "      <td>...</td>\n",
              "      <td>...</td>\n",
              "      <td>...</td>\n",
              "    </tr>\n",
              "    <tr>\n",
              "      <th>6167</th>\n",
              "      <td>0.000111</td>\n",
              "      <td>0.000123</td>\n",
              "      <td>0.715607</td>\n",
              "    </tr>\n",
              "    <tr>\n",
              "      <th>6168</th>\n",
              "      <td>0.000111</td>\n",
              "      <td>0.000092</td>\n",
              "      <td>0.715713</td>\n",
              "    </tr>\n",
              "    <tr>\n",
              "      <th>6169</th>\n",
              "      <td>0.000000</td>\n",
              "      <td>0.000092</td>\n",
              "      <td>0.720691</td>\n",
              "    </tr>\n",
              "    <tr>\n",
              "      <th>6170</th>\n",
              "      <td>0.000000</td>\n",
              "      <td>0.000031</td>\n",
              "      <td>0.744125</td>\n",
              "    </tr>\n",
              "    <tr>\n",
              "      <th>6171</th>\n",
              "      <td>0.000000</td>\n",
              "      <td>0.000000</td>\n",
              "      <td>1.744125</td>\n",
              "    </tr>\n",
              "  </tbody>\n",
              "</table>\n",
              "<p>6172 rows × 3 columns</p>\n",
              "</div>\n",
              "      <button class=\"colab-df-convert\" onclick=\"convertToInteractive('df-6bd235dc-f33e-4473-8e4e-1a7a5d3a99dd')\"\n",
              "              title=\"Convert this dataframe to an interactive table.\"\n",
              "              style=\"display:none;\">\n",
              "        \n",
              "  <svg xmlns=\"http://www.w3.org/2000/svg\" height=\"24px\"viewBox=\"0 0 24 24\"\n",
              "       width=\"24px\">\n",
              "    <path d=\"M0 0h24v24H0V0z\" fill=\"none\"/>\n",
              "    <path d=\"M18.56 5.44l.94 2.06.94-2.06 2.06-.94-2.06-.94-.94-2.06-.94 2.06-2.06.94zm-11 1L8.5 8.5l.94-2.06 2.06-.94-2.06-.94L8.5 2.5l-.94 2.06-2.06.94zm10 10l.94 2.06.94-2.06 2.06-.94-2.06-.94-.94-2.06-.94 2.06-2.06.94z\"/><path d=\"M17.41 7.96l-1.37-1.37c-.4-.4-.92-.59-1.43-.59-.52 0-1.04.2-1.43.59L10.3 9.45l-7.72 7.72c-.78.78-.78 2.05 0 2.83L4 21.41c.39.39.9.59 1.41.59.51 0 1.02-.2 1.41-.59l7.78-7.78 2.81-2.81c.8-.78.8-2.07 0-2.86zM5.41 20L4 18.59l7.72-7.72 1.47 1.35L5.41 20z\"/>\n",
              "  </svg>\n",
              "      </button>\n",
              "      \n",
              "  <style>\n",
              "    .colab-df-container {\n",
              "      display:flex;\n",
              "      flex-wrap:wrap;\n",
              "      gap: 12px;\n",
              "    }\n",
              "\n",
              "    .colab-df-convert {\n",
              "      background-color: #E8F0FE;\n",
              "      border: none;\n",
              "      border-radius: 50%;\n",
              "      cursor: pointer;\n",
              "      display: none;\n",
              "      fill: #1967D2;\n",
              "      height: 32px;\n",
              "      padding: 0 0 0 0;\n",
              "      width: 32px;\n",
              "    }\n",
              "\n",
              "    .colab-df-convert:hover {\n",
              "      background-color: #E2EBFA;\n",
              "      box-shadow: 0px 1px 2px rgba(60, 64, 67, 0.3), 0px 1px 3px 1px rgba(60, 64, 67, 0.15);\n",
              "      fill: #174EA6;\n",
              "    }\n",
              "\n",
              "    [theme=dark] .colab-df-convert {\n",
              "      background-color: #3B4455;\n",
              "      fill: #D2E3FC;\n",
              "    }\n",
              "\n",
              "    [theme=dark] .colab-df-convert:hover {\n",
              "      background-color: #434B5C;\n",
              "      box-shadow: 0px 1px 3px 1px rgba(0, 0, 0, 0.15);\n",
              "      filter: drop-shadow(0px 1px 2px rgba(0, 0, 0, 0.3));\n",
              "      fill: #FFFFFF;\n",
              "    }\n",
              "  </style>\n",
              "\n",
              "      <script>\n",
              "        const buttonEl =\n",
              "          document.querySelector('#df-6bd235dc-f33e-4473-8e4e-1a7a5d3a99dd button.colab-df-convert');\n",
              "        buttonEl.style.display =\n",
              "          google.colab.kernel.accessAllowed ? 'block' : 'none';\n",
              "\n",
              "        async function convertToInteractive(key) {\n",
              "          const element = document.querySelector('#df-6bd235dc-f33e-4473-8e4e-1a7a5d3a99dd');\n",
              "          const dataTable =\n",
              "            await google.colab.kernel.invokeFunction('convertToInteractive',\n",
              "                                                     [key], {});\n",
              "          if (!dataTable) return;\n",
              "\n",
              "          const docLinkHtml = 'Like what you see? Visit the ' +\n",
              "            '<a target=\"_blank\" href=https://colab.research.google.com/notebooks/data_table.ipynb>data table notebook</a>'\n",
              "            + ' to learn more about interactive tables.';\n",
              "          element.innerHTML = '';\n",
              "          dataTable['output_type'] = 'display_data';\n",
              "          await google.colab.output.renderOutput(dataTable, element);\n",
              "          const docLink = document.createElement('div');\n",
              "          docLink.innerHTML = docLinkHtml;\n",
              "          element.appendChild(docLink);\n",
              "        }\n",
              "      </script>\n",
              "    </div>\n",
              "  </div>\n",
              "  "
            ]
          },
          "metadata": {},
          "execution_count": 484
        }
      ],
      "source": [
        "pd.DataFrame({'TPR': tpr, 'FPR': fpr, 'Threshold': thresholds}).sort_values(by = ['Threshold']).reset_index(drop=True)"
      ]
    },
    {
      "cell_type": "markdown",
      "id": "ffa7e6ec-cff0-44df-9855-b00f88d3b3e3",
      "metadata": {
        "id": "ffa7e6ec-cff0-44df-9855-b00f88d3b3e3"
      },
      "source": [
        "## What else?\n",
        "\n",
        "At this point, we can experiment with the threshold to determine the lowest cost.  We will find it is related to our precision and recall calculations.  Hopefully, we can make an actionable recommendation to the Big Banks Board, and they will hire us for the job!"
      ]
    },
    {
      "cell_type": "code",
      "execution_count": 485,
      "id": "9965f00e-f718-48fd-953a-442058b1a5f3",
      "metadata": {
        "colab": {
          "base_uri": "https://localhost:8080/",
          "height": 528
        },
        "id": "9965f00e-f718-48fd-953a-442058b1a5f3",
        "outputId": "eda7bf46-6e0d-48ae-a92d-6f899c6bc566"
      },
      "outputs": [
        {
          "output_type": "display_data",
          "data": {
            "text/plain": [
              "<Figure size 800x600 with 1 Axes>"
            ],
            "image/png": "[encoded data removed]"
          },
          "metadata": {
            "needs_background": "light"
          }
        }
      ],
      "source": [
        "cost = []\n",
        "thres = []\n",
        "# Create predictions.  Note that predictions give us probabilities, not classes!\n",
        "pred_prob = model_xgb.predict_proba(X_test)\n",
        "\n",
        "# We drop the probabilities for class 0, and keep just the second column\n",
        "pred_prob = pred_prob[:,1]\n",
        "\n",
        "\n",
        "for threshold in range(1, 50, 1):\n",
        "  # Set threshold for identifying class 1\n",
        "  threshold/=100\n",
        "\n",
        "  # Convert probabilities to 1s and 0s based on threshold\n",
        "  pred = (pred_prob>threshold).astype(int)\n",
        "  cm = confusion_matrix(y_test, pred)\n",
        "  False_Positive_Cost = 90 * cm[0,1]\n",
        "  False_Negative_Cost = 1500 * cm[1,0]\n",
        "  Total_cost = False_Positive_Cost + False_Negative_Cost\n",
        "  cost.append(Total_cost)\n",
        "  thres.append(threshold)\n",
        "plt.figure(figsize=(8, 6), dpi=100)\n",
        "plt.plot(thres, cost)\n",
        "plt.yticks(np.arange(min(cost)-26000, max(cost),100000))\n",
        "plt.show()"
      ]
    },
    {
      "cell_type": "code",
      "source": [
        "threshold = 0.3\n",
        "\n",
        "pred_prob = model_xgb.predict_proba(X_test)\n",
        "\n",
        "pred_prob = pred_prob[:,1]\n",
        "\n",
        "pred = (pred_prob>threshold).astype(int)\n",
        "\n",
        "cm = confusion_matrix(y_test, pred)\n",
        "print (\"Confusion Matrix : \\n\", cm)\n",
        "ConfusionMatrixDisplay(confusion_matrix=cm).plot();\n",
        "\n",
        "print('Test accuracy = ', accuracy_score(y_test, pred))\n",
        "print(classification_report(y_true = y_test, y_pred = pred))"
      ],
      "metadata": {
        "colab": {
          "base_uri": "https://localhost:8080/",
          "height": 501
        },
        "id": "nMPdYyrXb9h5",
        "outputId": "a2acfd2d-2eb9-41a5-f3e7-7ab6aa1a42f0"
      },
      "id": "nMPdYyrXb9h5",
      "execution_count": 486,
      "outputs": [
        {
          "output_type": "stream",
          "name": "stdout",
          "text": [
            "Confusion Matrix : \n",
            " [[ 1967 30466]\n",
            " [  179  8840]]\n",
            "Test accuracy =  0.26071118402007143\n",
            "              precision    recall  f1-score   support\n",
            "\n",
            "           0       0.92      0.06      0.11     32433\n",
            "           1       0.22      0.98      0.37      9019\n",
            "\n",
            "    accuracy                           0.26     41452\n",
            "   macro avg       0.57      0.52      0.24     41452\n",
            "weighted avg       0.77      0.26      0.17     41452\n",
            "\n"
          ]
        },
        {
          "output_type": "display_data",
          "data": {
            "text/plain": [
              "<Figure size 432x288 with 2 Axes>"
            ],
            "image/png": "[encoded data removed]"
          },
          "metadata": {
            "needs_background": "light"
          }
        }
      ]
    },
    {
      "cell_type": "code",
      "source": [
        "False_Positive_Cost = 90 * cm[0,1]\n",
        "False_Negative_Cost = 1500 * cm[1,0]\n",
        "Total_cost = False_Positive_Cost + False_Negative_Cost\n",
        "Total_cost"
      ],
      "metadata": {
        "colab": {
          "base_uri": "https://localhost:8080/"
        },
        "id": "4BzAdVL9b-Cj",
        "outputId": "bd6da5a1-f4a5-4831-c765-94b369974ce3"
      },
      "id": "4BzAdVL9b-Cj",
      "execution_count": 487,
      "outputs": [
        {
          "output_type": "execute_result",
          "data": {
            "text/plain": [
              "3010440"
            ]
          },
          "metadata": {},
          "execution_count": 487
        }
      ]
    },
    {
      "cell_type": "code",
      "source": [
        "from sklearn import metrics\n",
        "metrics.roc_auc_score(y_test, pred_prob)"
      ],
      "metadata": {
        "colab": {
          "base_uri": "https://localhost:8080/"
        },
        "id": "0MV1ZP8Sb-Pe",
        "outputId": "3ac86fab-cabc-4d65-b442-dd0cb9ad4597"
      },
      "id": "0MV1ZP8Sb-Pe",
      "execution_count": 488,
      "outputs": [
        {
          "output_type": "execute_result",
          "data": {
            "text/plain": [
              "0.6156394014961928"
            ]
          },
          "metadata": {},
          "execution_count": 488
        }
      ]
    },
    {
      "cell_type": "code",
      "source": [
        "threshold = 0.2\n",
        "\n",
        "pred_prob = model_xgb.predict_proba(X_test)\n",
        "\n",
        "pred_prob = pred_prob[:,1]\n",
        "\n",
        "pred = (pred_prob>threshold).astype(int)\n",
        "\n",
        "cm = confusion_matrix(y_test, pred)\n",
        "print (\"Confusion Matrix : \\n\", cm)\n",
        "ConfusionMatrixDisplay(confusion_matrix=cm).plot();\n",
        "\n",
        "print('Test accuracy = ', accuracy_score(y_test, pred))\n",
        "print(classification_report(y_true = y_test, y_pred = pred))"
      ],
      "metadata": {
        "colab": {
          "base_uri": "https://localhost:8080/",
          "height": 500
        },
        "id": "gr62ekL1dEaE",
        "outputId": "b7900f87-35c8-4da8-9ec4-959991ea94be"
      },
      "id": "gr62ekL1dEaE",
      "execution_count": 489,
      "outputs": [
        {
          "output_type": "stream",
          "name": "stdout",
          "text": [
            "Confusion Matrix : \n",
            " [[   67 32366]\n",
            " [    1  9018]]\n",
            "Test accuracy =  0.21916915950979446\n",
            "              precision    recall  f1-score   support\n",
            "\n",
            "           0       0.99      0.00      0.00     32433\n",
            "           1       0.22      1.00      0.36      9019\n",
            "\n",
            "    accuracy                           0.22     41452\n",
            "   macro avg       0.60      0.50      0.18     41452\n",
            "weighted avg       0.82      0.22      0.08     41452\n",
            "\n"
          ]
        },
        {
          "output_type": "display_data",
          "data": {
            "text/plain": [
              "<Figure size 432x288 with 2 Axes>"
            ],
            "image/png": "[encoded data removed]"
          },
          "metadata": {
            "needs_background": "light"
          }
        }
      ]
    },
    {
      "cell_type": "code",
      "source": [
        "False_Positive_Cost = 90 * cm[0,1]\n",
        "False_Negative_Cost = 1500 * cm[1,0]\n",
        "Total_cost = False_Positive_Cost + False_Negative_Cost\n",
        "Total_cost"
      ],
      "metadata": {
        "colab": {
          "base_uri": "https://localhost:8080/"
        },
        "id": "koWobxOrdEnx",
        "outputId": "b047e695-d60f-434f-8589-28faf5ab713b"
      },
      "id": "koWobxOrdEnx",
      "execution_count": 490,
      "outputs": [
        {
          "output_type": "execute_result",
          "data": {
            "text/plain": [
              "2914440"
            ]
          },
          "metadata": {},
          "execution_count": 490
        }
      ]
    },
    {
      "cell_type": "code",
      "source": [
        "from sklearn import metrics\n",
        "metrics.roc_auc_score(y_test, pred_prob)"
      ],
      "metadata": {
        "colab": {
          "base_uri": "https://localhost:8080/"
        },
        "id": "nQNt_YUEdE0K",
        "outputId": "b9bc7a0d-52ce-4083-a428-b6e35ba218a7"
      },
      "id": "nQNt_YUEdE0K",
      "execution_count": 491,
      "outputs": [
        {
          "output_type": "execute_result",
          "data": {
            "text/plain": [
              "0.6156394014961928"
            ]
          },
          "metadata": {},
          "execution_count": 491
        }
      ]
    },
    {
      "cell_type": "code",
      "source": [
        "fpr, tpr, thresholds = metrics.roc_curve(y_test, pred_prob)\n",
        "roc_auc = metrics.auc(fpr, tpr)\n",
        "plt.figure(figsize = (9,8))\n",
        "plt.title('Receiver Operating Characteristic')\n",
        "plt.plot(fpr, tpr, 'b', label = 'AUC = %0.2f' % roc_auc)\n",
        "plt.legend(loc = 'lower right')\n",
        "plt.plot([0, 1], [0, 1],'r--')\n",
        "plt.xlim([0, 1])\n",
        "plt.ylim([0, 1])\n",
        "plt.ylabel('True Positive Rate')\n",
        "plt.xlabel('False Positive Rate')\n",
        "plt.show()"
      ],
      "metadata": {
        "colab": {
          "base_uri": "https://localhost:8080/",
          "height": 513
        },
        "id": "ASMyitUjSpad",
        "outputId": "c830adff-fe47-4512-9682-efe26ef7dda7"
      },
      "id": "ASMyitUjSpad",
      "execution_count": 492,
      "outputs": [
        {
          "output_type": "display_data",
          "data": {
            "text/plain": [
              "<Figure size 648x576 with 1 Axes>"
            ],
            "image/png": "[encoded data removed]"
          },
          "metadata": {
            "needs_background": "light"
          }
        }
      ]
    },
    {
      "cell_type": "code",
      "source": [
        "threshold = 0.1\n",
        "\n",
        "pred_prob = model_xgb.predict_proba(X_test)\n",
        "\n",
        "pred_prob = pred_prob[:,1]\n",
        "\n",
        "pred = (pred_prob>threshold).astype(int)\n",
        "\n",
        "cm = confusion_matrix(y_test, pred)\n",
        "print (\"Confusion Matrix : \\n\", cm)\n",
        "ConfusionMatrixDisplay(confusion_matrix=cm).plot();\n",
        "\n",
        "print('Test accuracy = ', accuracy_score(y_test, pred))\n",
        "print(classification_report(y_true = y_test, y_pred = pred))"
      ],
      "metadata": {
        "colab": {
          "base_uri": "https://localhost:8080/",
          "height": 500
        },
        "id": "XSgisu0rdoOg",
        "outputId": "c627038b-26ed-4157-962a-c64634494181"
      },
      "id": "XSgisu0rdoOg",
      "execution_count": 493,
      "outputs": [
        {
          "output_type": "stream",
          "name": "stdout",
          "text": [
            "Confusion Matrix : \n",
            " [[   31 32402]\n",
            " [    0  9019]]\n",
            "Test accuracy =  0.21832480941812216\n",
            "              precision    recall  f1-score   support\n",
            "\n",
            "           0       1.00      0.00      0.00     32433\n",
            "           1       0.22      1.00      0.36      9019\n",
            "\n",
            "    accuracy                           0.22     41452\n",
            "   macro avg       0.61      0.50      0.18     41452\n",
            "weighted avg       0.83      0.22      0.08     41452\n",
            "\n"
          ]
        },
        {
          "output_type": "display_data",
          "data": {
            "text/plain": [
              "<Figure size 432x288 with 2 Axes>"
            ],
            "image/png": "[encoded data removed]"
          },
          "metadata": {
            "needs_background": "light"
          }
        }
      ]
    },
    {
      "cell_type": "code",
      "source": [
        "False_Positive_Cost = 90 * cm[0,1]\n",
        "False_Negative_Cost = 1500 * cm[1,0]\n",
        "Total_cost = False_Positive_Cost + False_Negative_Cost\n",
        "Total_cost"
      ],
      "metadata": {
        "colab": {
          "base_uri": "https://localhost:8080/"
        },
        "id": "mE01PCoxdoc3",
        "outputId": "fbdaf893-0e8b-45a1-ad9e-91ac5ab84fae"
      },
      "id": "mE01PCoxdoc3",
      "execution_count": 494,
      "outputs": [
        {
          "output_type": "execute_result",
          "data": {
            "text/plain": [
              "2916180"
            ]
          },
          "metadata": {},
          "execution_count": 494
        }
      ]
    },
    {
      "cell_type": "code",
      "source": [
        "from sklearn import metrics\n",
        "metrics.roc_auc_score(y_test, pred_prob)"
      ],
      "metadata": {
        "colab": {
          "base_uri": "https://localhost:8080/"
        },
        "id": "NRd3qZ7PdotM",
        "outputId": "798d19ed-5061-486f-af94-e4a33a7cb212"
      },
      "id": "NRd3qZ7PdotM",
      "execution_count": 495,
      "outputs": [
        {
          "output_type": "execute_result",
          "data": {
            "text/plain": [
              "0.6156394014961928"
            ]
          },
          "metadata": {},
          "execution_count": 495
        }
      ]
    },
    {
      "cell_type": "markdown",
      "id": "cd9e026f-17d2-4859-aa29-da19ddcd518f",
      "metadata": {
        "id": "cd9e026f-17d2-4859-aa29-da19ddcd518f"
      },
      "source": [
        "## Try a different model?\n",
        "\n",
        "We only tried XGBoost, but we can try any other model that we learned.  We can also try to build a neural network for the prediction of customer disputes.  Maybe those give us better results.\n",
        "\n",
        "Below we try logistic regression."
      ]
    },
    {
      "cell_type": "code",
      "execution_count": 496,
      "id": "efc411cd-072a-4a77-9464-c8f9a297b145",
      "metadata": {
        "colab": {
          "base_uri": "https://localhost:8080/",
          "height": 1000
        },
        "id": "efc411cd-072a-4a77-9464-c8f9a297b145",
        "outputId": "b4a20fa0-c65c-455c-86e5-6ed91bc29930"
      },
      "outputs": [
        {
          "output_type": "stream",
          "name": "stdout",
          "text": [
            "Warning: Maximum number of iterations has been exceeded.\n",
            "         Current function value: 0.673549\n",
            "         Iterations: 35\n",
            "         Function evaluations: 36\n",
            "         Gradient evaluations: 36\n"
          ]
        },
        {
          "output_type": "stream",
          "name": "stderr",
          "text": [
            "/usr/local/lib/python3.7/dist-packages/statsmodels/base/model.py:492: HessianInversionWarning: Inverting hessian failed, no bse or cov_params available\n",
            "  'available', HessianInversionWarning)\n",
            "/usr/local/lib/python3.7/dist-packages/statsmodels/base/model.py:512: ConvergenceWarning: Maximum Likelihood optimization failed to converge. Check mle_retvals\n",
            "  \"Check mle_retvals\", ConvergenceWarning)\n"
          ]
        },
        {
          "output_type": "execute_result",
          "data": {
            "text/plain": [
              "<class 'statsmodels.iolib.summary.Summary'>\n",
              "\"\"\"\n",
              "                           Logit Regression Results                           \n",
              "==============================================================================\n",
              "Dep. Variable:                      y   No. Observations:                71768\n",
              "Model:                          Logit   Df Residuals:                    71506\n",
              "Method:                           MLE   Df Model:                          261\n",
              "Date:                Sat, 30 Apr 2022   Pseudo R-squ.:                 0.02827\n",
              "Time:                        21:27:35   Log-Likelihood:                -48339.\n",
              "converged:                      False   LL-Null:                       -49746.\n",
              "Covariance Type:            nonrobust   LLR p-value:                     0.000\n",
              "===================================================================================================================================================================================================================\n",
              "                                                                                                                                                      coef    std err          z      P>|z|      [0.025      0.975]\n",
              "-------------------------------------------------------------------------------------------------------------------------------------------------------------------------------------------------------------------\n",
              "Product_Bank account or service                                                                                                                    -0.0250        nan        nan        nan         nan         nan\n",
              "Product_Consumer Loan                                                                                                                               0.0073        nan        nan        nan         nan         nan\n",
              "Product_Credit card                                                                                                                                 0.0851        nan        nan        nan         nan         nan\n",
              "Product_Credit reporting                                                                                                                           -0.1020        nan        nan        nan         nan         nan\n",
              "Product_Debt collection                                                                                                                            -0.1626        nan        nan        nan         nan         nan\n",
              "Product_Money transfers                                                                                                                            -0.0006        nan        nan        nan         nan         nan\n",
              "Product_Mortgage                                                                                                                                   -0.0238        nan        nan        nan         nan         nan\n",
              "Product_Other financial service                                                                                                                     0.0330        nan        nan        nan         nan         nan\n",
              "Product_Payday loan                                                                                                                                -0.0001        nan        nan        nan         nan         nan\n",
              "Product_Prepaid card                                                                                                                               -0.0354        nan        nan        nan         nan         nan\n",
              "Product_Student loan                                                                                                                               -0.0828        nan        nan        nan         nan         nan\n",
              "Sub-product_(CD) Certificate of deposit                                                                                                             0.1918        nan        nan        nan         nan         nan\n",
              "Sub-product_Auto                                                                                                                                   -0.0261        nan        nan        nan         nan         nan\n",
              "Sub-product_Cashing a check without an account                                                                                                     -0.0403        nan        nan        nan         nan         nan\n",
              "Sub-product_Check cashing                                                                                                                           0.0029        nan        nan        nan         nan         nan\n",
              "Sub-product_Checking account                                                                                                                       -0.0499        nan        nan        nan         nan         nan\n",
              "Sub-product_Conventional adjustable mortgage (ARM)                                                                                                  0.0216        nan        nan        nan         nan         nan\n",
              "Sub-product_Conventional fixed mortgage                                                                                                            -0.0061        nan        nan        nan         nan         nan\n",
              "Sub-product_Credit card                                                                                                                            -0.0891        nan        nan        nan         nan         nan\n",
              "Sub-product_Credit repair                                                                                                                          -0.0030        nan        nan        nan         nan         nan\n",
              "Sub-product_Debt settlement                                                                                                                        -0.0033        nan        nan        nan         nan         nan\n",
              "Sub-product_Domestic (US) money transfer                                                                                                            0.0103        nan        nan        nan         nan         nan\n",
              "Sub-product_Electronic Benefit Transfer / EBT card                                                                                                       0        nan        nan        nan         nan         nan\n",
              "Sub-product_FHA mortgage                                                                                                                           -0.1265        nan        nan        nan         nan         nan\n",
              "Sub-product_Federal student loan                                                                                                                    0.0041        nan        nan        nan         nan         nan\n",
              "Sub-product_Federal student loan servicing                                                                                                          0.0089        nan        nan        nan         nan         nan\n",
              "Sub-product_Foreign currency exchange                                                                                                               0.0008        nan        nan        nan         nan         nan\n",
              "Sub-product_General purpose card                                                                                                                   -0.0388        nan        nan        nan         nan         nan\n",
              "Sub-product_Gift or merchant card                                                                                                                  -0.0164        nan        nan        nan         nan         nan\n",
              "Sub-product_Government benefit payment card                                                                                                         0.0036        nan        nan        nan         nan         nan\n",
              "Sub-product_Home equity loan or line of credit                                                                                                      0.1344        nan        nan        nan         nan         nan\n",
              "Sub-product_I do not know                                                                                                                           0.0385        nan        nan        nan         nan         nan\n",
              "Sub-product_ID prepaid card                                                                                                                         0.0069        nan        nan        nan         nan         nan\n",
              "Sub-product_Installment loan                                                                                                                        0.0022        nan        nan        nan         nan         nan\n",
              "Sub-product_International money transfer                                                                                                           -0.0109        nan        nan        nan         nan         nan\n",
              "Sub-product_Medical                                                                                                                                -0.0023        nan        nan        nan         nan         nan\n",
              "Sub-product_Mobile wallet                                                                                                                          -0.0049        nan        nan        nan         nan         nan\n",
              "Sub-product_Money order                                                                                                                            -0.0015        nan        nan        nan         nan         nan\n",
              "Sub-product_Mortgage                                                                                                                                0.1093        nan        nan        nan         nan         nan\n",
              "Sub-product_Non-federal student loan                                                                                                               -0.0810        nan        nan        nan         nan         nan\n",
              "Sub-product_Other (i.e. phone, health club, etc.)                                                                                                  -0.2062        nan        nan        nan         nan         nan\n",
              "Sub-product_Other bank product/service                                                                                                             -0.1005        nan        nan        nan         nan         nan\n",
              "Sub-product_Other mortgage                                                                                                                         -0.0470        nan        nan        nan         nan         nan\n",
              "Sub-product_Other special purpose card                                                                                                              0.0185        nan        nan        nan         nan         nan\n",
              "Sub-product_Pawn loan                                                                                                                               0.0034        nan        nan        nan         nan         nan\n",
              "Sub-product_Payday loan                                                                                                                            -0.0017        nan        nan        nan         nan         nan\n",
              "Sub-product_Payroll card                                                                                                                           -0.0037        nan        nan        nan         nan         nan\n",
              "Sub-product_Personal line of credit                                                                                                                 0.0234        nan        nan        nan         nan         nan\n",
              "Sub-product_Refund anticipation check                                                                                                               0.0227        nan        nan        nan         nan         nan\n",
              "Sub-product_Reverse mortgage                                                                                                                       -0.0409        nan        nan        nan         nan         nan\n",
              "Sub-product_Savings account                                                                                                                        -0.0261        nan        nan        nan         nan         nan\n",
              "Sub-product_Second mortgage                                                                                                                         0.0109        nan        nan        nan         nan         nan\n",
              "Sub-product_Title loan                                                                                                                             -0.0089        nan        nan        nan         nan         nan\n",
              "Sub-product_Transit card                                                                                                                           -0.0006        nan        nan        nan         nan         nan\n",
              "Sub-product_Traveler’s/Cashier’s checks                                                                                                             0.0143        nan        nan        nan         nan         nan\n",
              "Sub-product_VA mortgage                                                                                                                             0.0299        nan        nan        nan         nan         nan\n",
              "Sub-product_Vehicle lease                                                                                                                           0.0173        nan        nan        nan         nan         nan\n",
              "Sub-product_Vehicle loan                                                                                                                           -0.0301        nan        nan        nan         nan         nan\n",
              "Sub-product_missing                                                                                                                                -0.0170        nan        nan        nan         nan         nan\n",
              "Issue_APR or interest rate                                                                                                                         -0.0568        nan        nan        nan         nan         nan\n",
              "Issue_Account opening, closing, or management                                                                                                       0.0214        nan        nan        nan         nan         nan\n",
              "Issue_Account terms and changes                                                                                                                    -0.0027        nan        nan        nan         nan         nan\n",
              "Issue_Adding money                                                                                                                                  0.0034        nan        nan        nan         nan         nan\n",
              "Issue_Advertising and marketing                                                                                                                     0.0243        nan        nan        nan         nan         nan\n",
              "Issue_Advertising, marketing or disclosures                                                                                                         0.0023        nan        nan        nan         nan         nan\n",
              "Issue_Application processing delay                                                                                                                 -0.0090        nan        nan        nan         nan         nan\n",
              "Issue_Application, originator, mortgage broker                                                                                                      0.2255        nan        nan        nan         nan         nan\n",
              "Issue_Applied for loan/did not receive money                                                                                                        0.0051        nan        nan        nan         nan         nan\n",
              "Issue_Arbitration                                                                                                                                   0.0214        nan        nan        nan         nan         nan\n",
              "Issue_Balance transfer                                                                                                                              0.0114        nan        nan        nan         nan         nan\n",
              "Issue_Balance transfer fee                                                                                                                         -0.0195        nan        nan        nan         nan         nan\n",
              "Issue_Bankruptcy                                                                                                                                   -0.0071        nan        nan        nan         nan         nan\n",
              "Issue_Billing disputes                                                                                                                              0.2500        nan        nan        nan         nan         nan\n",
              "Issue_Billing statement                                                                                                                            -0.0960        nan        nan        nan         nan         nan\n",
              "Issue_Can't contact lender                                                                                                                         -0.0066        nan        nan        nan         nan         nan\n",
              "Issue_Can't repay my loan                                                                                                                          -0.1017        nan        nan        nan         nan         nan\n",
              "Issue_Can't stop charges to bank account                                                                                                           -0.0038        nan        nan        nan         nan         nan\n",
              "Issue_Cash advance                                                                                                                                  0.0283        nan        nan        nan         nan         nan\n",
              "Issue_Cash advance fee                                                                                                                             -0.0024        nan        nan        nan         nan         nan\n",
              "Issue_Charged bank acct wrong day or amt                                                                                                            0.0056        nan        nan        nan         nan         nan\n",
              "Issue_Charged fees or interest I didn't expect                                                                                                     -0.0007        nan        nan        nan         nan         nan\n",
              "Issue_Closing/Cancelling account                                                                                                                    0.0124        nan        nan        nan         nan         nan\n",
              "Issue_Collection debt dispute                                                                                                                      -0.0111        nan        nan        nan         nan         nan\n",
              "Issue_Collection practices                                                                                                                         -0.0286        nan        nan        nan         nan         nan\n",
              "Issue_Communication tactics                                                                                                                        -0.1909        nan        nan        nan         nan         nan\n",
              "Issue_Cont'd attempts collect debt not owed                                                                                                         0.0047        nan        nan        nan         nan         nan\n",
              "Issue_Convenience checks                                                                                                                           -0.0039        nan        nan        nan         nan         nan\n",
              "Issue_Credit card protection / Debt protection                                                                                                      0.0800        nan        nan        nan         nan         nan\n",
              "Issue_Credit decision / Underwriting                                                                                                                0.0434        nan        nan        nan         nan         nan\n",
              "Issue_Credit determination                                                                                                                          0.0349        nan        nan        nan         nan         nan\n",
              "Issue_Credit line increase/decrease                                                                                                                -0.0568        nan        nan        nan         nan         nan\n",
              "Issue_Credit monitoring or identity protection                                                                                                     -0.0105        nan        nan        nan         nan         nan\n",
              "Issue_Credit reporting                                                                                                                             -0.0141        nan        nan        nan         nan         nan\n",
              "Issue_Credit reporting company's investigation                                                                                                      0.0035        nan        nan        nan         nan         nan\n",
              "Issue_Customer service / Customer relations                                                                                                        -0.0557        nan        nan        nan         nan         nan\n",
              "Issue_Customer service/Customer relations                                                                                                           0.0125        nan        nan        nan         nan         nan\n",
              "Issue_Dealing with my lender or servicer                                                                                                            0.0810        nan        nan        nan         nan         nan\n",
              "Issue_Delinquent account                                                                                                                           -0.0566        nan        nan        nan         nan         nan\n",
              "Issue_Deposits and withdrawals                                                                                                                      0.0392        nan        nan        nan         nan         nan\n",
              "Issue_Disclosure verification of debt                                                                                                               0.0370        nan        nan        nan         nan         nan\n",
              "Issue_Disclosures                                                                                                                                   0.0054        nan        nan        nan         nan         nan\n",
              "Issue_Excessive fees                                                                                                                               -0.0028        nan        nan        nan         nan         nan\n",
              "Issue_False statements or representation                                                                                                            0.0446        nan        nan        nan         nan         nan\n",
              "Issue_Fees                                                                                                                                         -0.0023        nan        nan        nan         nan         nan\n",
              "Issue_Forbearance / Workout plans                                                                                                                   0.0815        nan        nan        nan         nan         nan\n",
              "Issue_Fraud or scam                                                                                                                                 0.0473        nan        nan        nan         nan         nan\n",
              "Issue_Getting a loan                                                                                                                                0.0049        nan        nan        nan         nan         nan\n",
              "Issue_Identity theft / Fraud / Embezzlement                                                                                                        -0.1499        nan        nan        nan         nan         nan\n",
              "Issue_Improper contact or sharing of info                                                                                                          -0.0336        nan        nan        nan         nan         nan\n",
              "Issue_Improper use of my credit report                                                                                                             -0.0236        nan        nan        nan         nan         nan\n",
              "Issue_Incorrect exchange rate                                                                                                                      -0.0004        nan        nan        nan         nan         nan\n",
              "Issue_Incorrect information on credit report                                                                                                       -0.0677        nan        nan        nan         nan         nan\n",
              "Issue_Incorrect/missing disclosures or info                                                                                                         0.0039        nan        nan        nan         nan         nan\n",
              "Issue_Late fee                                                                                                                                     -0.0727        nan        nan        nan         nan         nan\n",
              "Issue_Lender damaged or destroyed property                                                                                                               0        nan        nan        nan         nan         nan\n",
              "Issue_Lender repossessed or sold the vehicle                                                                                                             0        nan        nan        nan         nan         nan\n",
              "Issue_Loan modification,collection,foreclosure                                                                                                      0.0029        nan        nan        nan         nan         nan\n",
              "Issue_Loan servicing, payments, escrow account                                                                                                      0.0933        nan        nan        nan         nan         nan\n",
              "Issue_Lost or stolen check                                                                                                                          0.0082        nan        nan        nan         nan         nan\n",
              "Issue_Lost or stolen money order                                                                                                                   -0.0010        nan        nan        nan         nan         nan\n",
              "Issue_Making/receiving payments, sending money                                                                                                      0.0659        nan        nan        nan         nan         nan\n",
              "Issue_Managing the line of credit                                                                                                                   0.0289        nan        nan        nan         nan         nan\n",
              "Issue_Managing the loan or lease                                                                                                                   -0.0596        nan        nan        nan         nan         nan\n",
              "Issue_Managing, opening, or closing account                                                                                                        -0.0266        nan        nan        nan         nan         nan\n",
              "Issue_Money was not available when promised                                                                                                        -0.0275        nan        nan        nan         nan         nan\n",
              "Issue_Other                                                                                                                                        -0.2343        nan        nan        nan         nan         nan\n",
              "Issue_Other fee                                                                                                                                    -0.1482        nan        nan        nan         nan         nan\n",
              "Issue_Other service issues                                                                                                                          0.0007        nan        nan        nan         nan         nan\n",
              "Issue_Other transaction issues                                                                                                                     -0.0284        nan        nan        nan         nan         nan\n",
              "Issue_Overdraft, savings or rewards features                                                                                                        0.0073        nan        nan        nan         nan         nan\n",
              "Issue_Overlimit fee                                                                                                                                -0.0125        nan        nan        nan         nan         nan\n",
              "Issue_Payment to acct not credited                                                                                                                 -0.0035        nan        nan        nan         nan         nan\n",
              "Issue_Payoff process                                                                                                                               -0.0911        nan        nan        nan         nan         nan\n",
              "Issue_Privacy                                                                                                                                       0.0145        nan        nan        nan         nan         nan\n",
              "Issue_Problems caused by my funds being low                                                                                                        -0.1462        nan        nan        nan         nan         nan\n",
              "Issue_Problems when you are unable to pay                                                                                                          -0.0217        nan        nan        nan         nan         nan\n",
              "Issue_Received a loan I didn't apply for                                                                                                           -0.0018        nan        nan        nan         nan         nan\n",
              "Issue_Repaying your loan                                                                                                                           -0.0654        nan        nan        nan         nan         nan\n",
              "Issue_Rewards                                                                                                                                       0.1175        nan        nan        nan         nan         nan\n",
              "Issue_Sale of account                                                                                                                              -0.0030        nan        nan        nan         nan         nan\n",
              "Issue_Settlement process and costs                                                                                                                  0.2822        nan        nan        nan         nan         nan\n",
              "Issue_Shopping for a line of credit                                                                                                                -0.0094        nan        nan        nan         nan         nan\n",
              "Issue_Shopping for a loan or lease                                                                                                                  0.0159        nan        nan        nan         nan         nan\n",
              "Issue_Taking out the loan or lease                                                                                                                  0.0597        nan        nan        nan         nan         nan\n",
              "Issue_Taking/threatening an illegal action                                                                                                         -0.0244        nan        nan        nan         nan         nan\n",
              "Issue_Transaction issue                                                                                                                            -0.0170        nan        nan        nan         nan         nan\n",
              "Issue_Unable to get credit report/credit score                                                                                                     -0.0036        nan        nan        nan         nan         nan\n",
              "Issue_Unauthorized transactions/trans. issues                                                                                                      -0.0212        nan        nan        nan         nan         nan\n",
              "Issue_Unexpected/Other fees                                                                                                                        -0.0050        nan        nan        nan         nan         nan\n",
              "Issue_Unsolicited issuance of credit card                                                                                                          -0.1125        nan        nan        nan         nan         nan\n",
              "Issue_Using a debit or ATM card                                                                                                                    -0.0052        nan        nan        nan         nan         nan\n",
              "Issue_Wrong amount charged or received                                                                                                              0.0176        nan        nan        nan         nan         nan\n",
              "Sub-issue_Account status                                                                                                                           -0.0362        nan        nan        nan         nan         nan\n",
              "Sub-issue_Account terms                                                                                                                             0.0081        nan        nan        nan         nan         nan\n",
              "Sub-issue_Account terms and changes                                                                                                                -0.0033        nan        nan        nan         nan         nan\n",
              "Sub-issue_Attempted to collect wrong amount                                                                                                         0.0577        nan        nan        nan         nan         nan\n",
              "Sub-issue_Attempted to/Collected exempt funds                                                                                                      -0.0074        nan        nan        nan         nan         nan\n",
              "Sub-issue_Billing dispute                                                                                                                           0.0029        nan        nan        nan         nan         nan\n",
              "Sub-issue_Called after sent written cease of comm                                                                                                  -0.0085        nan        nan        nan         nan         nan\n",
              "Sub-issue_Called outside of 8am-9pm                                                                                                                 0.0115        nan        nan        nan         nan         nan\n",
              "Sub-issue_Can't decrease my monthly payments                                                                                                       -0.0290        nan        nan        nan         nan         nan\n",
              "Sub-issue_Can't get flexible payment options                                                                                                       -0.0627        nan        nan        nan         nan         nan\n",
              "Sub-issue_Can't qualify for a loan                                                                                                                  0.0168        nan        nan        nan         nan         nan\n",
              "Sub-issue_Can't temporarily postpone payments                                                                                                      -0.0100        nan        nan        nan         nan         nan\n",
              "Sub-issue_Contacted employer after asked not to                                                                                                    -0.0552        nan        nan        nan         nan         nan\n",
              "Sub-issue_Contacted me after I asked not to                                                                                                        -0.0294        nan        nan        nan         nan         nan\n",
              "Sub-issue_Contacted me instead of my attorney                                                                                                      -0.0006        nan        nan        nan         nan         nan\n",
              "Sub-issue_Debt is not mine                                                                                                                         -0.0237        nan        nan        nan         nan         nan\n",
              "Sub-issue_Debt resulted from identity theft                                                                                                         0.0307        nan        nan        nan         nan         nan\n",
              "Sub-issue_Debt was discharged in bankruptcy                                                                                                         0.0292        nan        nan        nan         nan         nan\n",
              "Sub-issue_Debt was paid                                                                                                                            -0.0316        nan        nan        nan         nan         nan\n",
              "Sub-issue_Don't agree with fees charged                                                                                                             0.0063        nan        nan        nan         nan         nan\n",
              "Sub-issue_Frequent or repeated calls                                                                                                               -0.1827        nan        nan        nan         nan         nan\n",
              "Sub-issue_Having problems with customer service                                                                                                    -0.0142        nan        nan        nan         nan         nan\n",
              "Sub-issue_Impersonated an attorney or official                                                                                                      0.0101        nan        nan        nan         nan         nan\n",
              "Sub-issue_Inadequate help over the phone                                                                                                            0.0028        nan        nan        nan         nan         nan\n",
              "Sub-issue_Indicated committed crime not paying                                                                                                     -0.0322        nan        nan        nan         nan         nan\n",
              "Sub-issue_Indicated shouldn't respond to lawsuit                                                                                                    0.0090        nan        nan        nan         nan         nan\n",
              "Sub-issue_Information is not mine                                                                                                                  -0.0351        nan        nan        nan         nan         nan\n",
              "Sub-issue_Investigation took too long                                                                                                              -0.0014        nan        nan        nan         nan         nan\n",
              "Sub-issue_Keep getting calls about my loan                                                                                                          0.0024        nan        nan        nan         nan         nan\n",
              "Sub-issue_Need information about my balance/terms                                                                                                  -0.0284        nan        nan        nan         nan         nan\n",
              "Sub-issue_No notice of investigation status/result                                                                                               3.844e-05        nan        nan        nan         nan         nan\n",
              "Sub-issue_Not disclosed as an attempt to collect                                                                                                    0.0134        nan        nan        nan         nan         nan\n",
              "Sub-issue_Not given enough info to verify debt                                                                                                      0.0047        nan        nan        nan         nan         nan\n",
              "Sub-issue_Personal information                                                                                                                     -0.0117        nan        nan        nan         nan         nan\n",
              "Sub-issue_Problem cancelling or closing account                                                                                                    -0.0033        nan        nan        nan         nan         nan\n",
              "Sub-issue_Problem getting my free annual report                                                                                                          0        nan        nan        nan         nan         nan\n",
              "Sub-issue_Problem getting report or credit score                                                                                                   -0.0036        nan        nan        nan         nan         nan\n",
              "Sub-issue_Problem with fraud alerts                                                                                                                -0.0068        nan        nan        nan         nan         nan\n",
              "Sub-issue_Problem with statement of dispute                                                                                                         0.0020        nan        nan        nan         nan         nan\n",
              "Sub-issue_Public record                                                                                                                            -0.0022        nan        nan        nan         nan         nan\n",
              "Sub-issue_Qualify for a better loan than offered                                                                                                   -0.0101        nan        nan        nan         nan         nan\n",
              "Sub-issue_Received bad information about my loan                                                                                                    0.0778        nan        nan        nan         nan         nan\n",
              "Sub-issue_Received marketing offer after opted out                                                                                                 -0.0065        nan        nan        nan         nan         nan\n",
              "Sub-issue_Receiving unwanted marketing/advertising                                                                                                       0        nan        nan        nan         nan         nan\n",
              "Sub-issue_Reinserted previously deleted info                                                                                                        0.0095        nan        nan        nan         nan         nan\n",
              "Sub-issue_Report improperly shared by CRC                                                                                                          -0.0138        nan        nan        nan         nan         nan\n",
              "Sub-issue_Report shared with employer w/o consent                                                                                                  -0.0033        nan        nan        nan         nan         nan\n",
              "Sub-issue_Right to dispute notice not received                                                                                                      0.0189        nan        nan        nan         nan         nan\n",
              "Sub-issue_Seized/Attempted to seize property                                                                                                        0.0867        nan        nan        nan         nan         nan\n",
              "Sub-issue_Sued w/o proper notification of suit                                                                                                     -0.0199        nan        nan        nan         nan         nan\n",
              "Sub-issue_Sued where didn't live/sign for debt                                                                                                     -0.0029        nan        nan        nan         nan         nan\n",
              "Sub-issue_Talked to a third party about my debt                                                                                                     0.0516        nan        nan        nan         nan         nan\n",
              "Sub-issue_Threatened arrest/jail if do not pay                                                                                                      0.0004        nan        nan        nan         nan         nan\n",
              "Sub-issue_Threatened to sue on too old debt                                                                                                        -0.0812        nan        nan        nan         nan         nan\n",
              "Sub-issue_Threatened to take legal action                                                                                                          -0.0241        nan        nan        nan         nan         nan\n",
              "Sub-issue_Trouble with how payments are handled                                                                                                     0.0370        nan        nan        nan         nan         nan\n",
              "Sub-issue_Used obscene/profane/abusive language                                                                                                     0.0129        nan        nan        nan         nan         nan\n",
              "Sub-issue_missing                                                                                                                                  -0.0283        nan        nan        nan         nan         nan\n",
              "Company public response_Company believes complaint caused principally by actions of third party outside the control or direction of the company     0.0047        nan        nan        nan         nan         nan\n",
              "Company public response_Company believes complaint is the result of an isolated error                                                                    0        nan        nan        nan         nan         nan\n",
              "Company public response_Company believes complaint relates to a discontinued policy or procedure                                                         0        nan        nan        nan         nan         nan\n",
              "Company public response_Company believes complaint represents an opportunity for improvement to better serve consumers                                   0        nan        nan        nan         nan         nan\n",
              "Company public response_Company believes it acted appropriately as authorized by contract or law                                                    0.0146        nan        nan        nan         nan         nan\n",
              "Company public response_Company believes the complaint is the result of a misunderstanding                                                               0        nan        nan        nan         nan         nan\n",
              "Company public response_Company chooses not to provide a public response                                                                           -0.0567        nan        nan        nan         nan         nan\n",
              "Company public response_Company has responded to the consumer and the CFPB and chooses not to provide a public response                            -0.2497        nan        nan        nan         nan         nan\n",
              "Company public response_missing                                                                                                                    -0.0200        nan        nan        nan         nan         nan\n",
              "Company_BANK OF AMERICA, NATIONAL ASSOCIATION                                                                                                      -0.0108        nan        nan        nan         nan         nan\n",
              "Company_CITIBANK, N.A.                                                                                                                             -0.1484        nan        nan        nan         nan         nan\n",
              "Company_JPMORGAN CHASE & CO.                                                                                                                       -0.0997        nan        nan        nan         nan         nan\n",
              "Company_U.S. BANCORP                                                                                                                               -0.0137        nan        nan        nan         nan         nan\n",
              "Company_WELLS FARGO & COMPANY                                                                                                                      -0.0344        nan        nan        nan         nan         nan\n",
              "State_AA                                                                                                                                            0.0026        nan        nan        nan         nan         nan\n",
              "State_AE                                                                                                                                            0.0013        nan        nan        nan         nan         nan\n",
              "State_AK                                                                                                                                            0.0319        nan        nan        nan         nan         nan\n",
              "State_AL                                                                                                                                           -0.0911        nan        nan        nan         nan         nan\n",
              "State_AP                                                                                                                                            0.0021        nan        nan        nan         nan         nan\n",
              "State_AR                                                                                                                                           -0.0335        nan        nan        nan         nan         nan\n",
              "State_AS                                                                                                                                            0.0071        nan        nan        nan         nan         nan\n",
              "State_AZ                                                                                                                                            0.1418        nan        nan        nan         nan         nan\n",
              "State_CA                                                                                                                                            0.0935        nan        nan        nan         nan         nan\n",
              "State_CO                                                                                                                                            0.1297        nan        nan        nan         nan         nan\n",
              "State_CT                                                                                                                                           -0.0082        nan        nan        nan         nan         nan\n",
              "State_DC                                                                                                                                           -0.0442        nan        nan        nan         nan         nan\n",
              "State_DE                                                                                                                                            0.0645        nan        nan        nan         nan         nan\n",
              "State_FL                                                                                                                                           -0.0528        nan        nan        nan         nan         nan\n",
              "State_FM                                                                                                                                            0.0094        nan        nan        nan         nan         nan\n",
              "State_GA                                                                                                                                           -0.0800        nan        nan        nan         nan         nan\n",
              "State_GU                                                                                                                                            0.0121        nan        nan        nan         nan         nan\n",
              "State_HI                                                                                                                                            0.0792        nan        nan        nan         nan         nan\n",
              "State_IA                                                                                                                                           -0.0321        nan        nan        nan         nan         nan\n",
              "State_ID                                                                                                                                           -0.0540        nan        nan        nan         nan         nan\n",
              "State_IL                                                                                                                                           -0.0349        nan        nan        nan         nan         nan\n",
              "State_IN                                                                                                                                           -0.0290        nan        nan        nan         nan         nan\n",
              "State_KS                                                                                                                                           -0.0206        nan        nan        nan         nan         nan\n",
              "State_KY                                                                                                                                            0.0304        nan        nan        nan         nan         nan\n",
              "State_LA                                                                                                                                           -0.2162        nan        nan        nan         nan         nan\n",
              "State_MA                                                                                                                                           -0.0293        nan        nan        nan         nan         nan\n",
              "State_MD                                                                                                                                            0.0200        nan        nan        nan         nan         nan\n",
              "State_ME                                                                                                                                            0.0251        nan        nan        nan         nan         nan\n",
              "State_MH                                                                                                                                            0.0027        nan        nan        nan         nan         nan\n",
              "State_MI                                                                                                                                           -0.0589        nan        nan        nan         nan         nan\n",
              "State_MN                                                                                                                                           -0.0284        nan        nan        nan         nan         nan\n",
              "State_MO                                                                                                                                            0.0033        nan        nan        nan         nan         nan\n",
              "State_MP                                                                                                                                            0.0089        nan        nan        nan         nan         nan\n",
              "State_MS                                                                                                                                            0.0070        nan        nan        nan         nan         nan\n",
              "State_MT                                                                                                                                           -0.0310        nan        nan        nan         nan         nan\n",
              "State_NC                                                                                                                                           -0.0570        nan        nan        nan         nan         nan\n",
              "State_ND                                                                                                                                           -0.0490        nan        nan        nan         nan         nan\n",
              "State_NE                                                                                                                                            0.0393        nan        nan        nan         nan         nan\n",
              "State_NH                                                                                                                                           -0.0457        nan        nan        nan         nan         nan\n",
              "State_NJ                                                                                                                                           -0.0376        nan        nan        nan         nan         nan\n",
              "State_NM                                                                                                                                           -0.0898        nan        nan        nan         nan         nan\n",
              "State_NV                                                                                                                                            0.0836        nan        nan        nan         nan         nan\n",
              "State_NY                                                                                                                                            0.0051        nan        nan        nan         nan         nan\n",
              "State_OH                                                                                                                                            0.0126        nan        nan        nan         nan         nan\n",
              "State_OK                                                                                                                                           -0.0422        nan        nan        nan         nan         nan\n",
              "State_OR                                                                                                                                            0.0909        nan        nan        nan         nan         nan\n",
              "State_PA                                                                                                                                           -0.1458        nan        nan        nan         nan         nan\n",
              "State_PR                                                                                                                                           -0.0224        nan        nan        nan         nan         nan\n",
              "State_PW                                                                                                                                            0.0060        nan        nan        nan         nan         nan\n",
              "State_RI                                                                                                                                            0.0367        nan        nan        nan         nan         nan\n",
              "State_SC                                                                                                                                           -0.0642        nan        nan        nan         nan         nan\n",
              "State_SD                                                                                                                                           -0.0477        nan        nan        nan         nan         nan\n",
              "State_TN                                                                                                                                           -0.1033        nan        nan        nan         nan         nan\n",
              "State_TX                                                                                                                                            0.0565        nan        nan        nan         nan         nan\n",
              "State_UT                                                                                                                                           -0.0347        nan        nan        nan         nan         nan\n",
              "State_VA                                                                                                                                            0.0356        nan        nan        nan         nan         nan\n",
              "State_VI                                                                                                                                            0.0105        nan        nan        nan         nan         nan\n",
              "State_VT                                                                                                                                            0.0141        nan        nan        nan         nan         nan\n",
              "State_WA                                                                                                                                            0.0352        nan        nan        nan         nan         nan\n",
              "State_WI                                                                                                                                            0.0724        nan        nan        nan         nan         nan\n",
              "State_WV                                                                                                                                           -0.0114        nan        nan        nan         nan         nan\n",
              "State_WY                                                                                                                                            0.0187        nan        nan        nan         nan         nan\n",
              "State_missing                                                                                                                                       0.0979        nan        nan        nan         nan         nan\n",
              "Tags_Older American                                                                                                                                -0.0214        nan        nan        nan         nan         nan\n",
              "Tags_Older American, Servicemember                                                                                                                 -0.0163        nan        nan        nan         nan         nan\n",
              "Tags_Servicemember                                                                                                                                 -0.1412        nan        nan        nan         nan         nan\n",
              "Tags_missing                                                                                                                                       -0.1281        nan        nan        nan         nan         nan\n",
              "Submitted via_Email                                                                                                                                 0.0215        nan        nan        nan         nan         nan\n",
              "Submitted via_Fax                                                                                                                                   0.1174        nan        nan        nan         nan         nan\n",
              "Submitted via_Phone                                                                                                                                -0.1747        nan        nan        nan         nan         nan\n",
              "Submitted via_Postal mail                                                                                                                          -0.1749        nan        nan        nan         nan         nan\n",
              "Submitted via_Referral                                                                                                                             -0.2407        nan        nan        nan         nan         nan\n",
              "Submitted via_Web                                                                                                                                   0.1444        nan        nan        nan         nan         nan\n",
              "Company response to consumer_Closed                                                                                                                 0.2792        nan        nan        nan         nan         nan\n",
              "Company response to consumer_Closed with explanation                                                                                                0.3117        nan        nan        nan         nan         nan\n",
              "Company response to consumer_Closed with monetary relief                                                                                           -0.6162        nan        nan        nan         nan         nan\n",
              "Company response to consumer_Closed with non-monetary relief                                                                                       -0.1981        nan        nan        nan         nan         nan\n",
              "Company response to consumer_Closed with relief                                                                                                    -0.4482        nan        nan        nan         nan         nan\n",
              "Company response to consumer_Closed without relief                                                                                                  0.4708        nan        nan        nan         nan         nan\n",
              "Company response to consumer_Untimely response                                                                                                     -0.1062        nan        nan        nan         nan         nan\n",
              "Timely response?_No                                                                                                                                -0.4035        nan        nan        nan         nan         nan\n",
              "Timely response?_Yes                                                                                                                                0.0966        nan        nan        nan         nan         nan\n",
              "===================================================================================================================================================================================================================\n",
              "\"\"\""
            ],
            "text/html": [
              "<table class=\"simpletable\">\n",
              "<caption>Logit Regression Results</caption>\n",
              "<tr>\n",
              "  <th>Dep. Variable:</th>           <td>y</td>        <th>  No. Observations:  </th>  <td> 71768</td> \n",
              "</tr>\n",
              "<tr>\n",
              "  <th>Model:</th>                 <td>Logit</td>      <th>  Df Residuals:      </th>  <td> 71506</td> \n",
              "</tr>\n",
              "<tr>\n",
              "  <th>Method:</th>                 <td>MLE</td>       <th>  Df Model:          </th>  <td>   261</td> \n",
              "</tr>\n",
              "<tr>\n",
              "  <th>Date:</th>            <td>Sat, 30 Apr 2022</td> <th>  Pseudo R-squ.:     </th>  <td>0.02827</td>\n",
              "</tr>\n",
              "<tr>\n",
              "  <th>Time:</th>                <td>21:27:35</td>     <th>  Log-Likelihood:    </th> <td> -48339.</td>\n",
              "</tr>\n",
              "<tr>\n",
              "  <th>converged:</th>             <td>False</td>      <th>  LL-Null:           </th> <td> -49746.</td>\n",
              "</tr>\n",
              "<tr>\n",
              "  <th>Covariance Type:</th>     <td>nonrobust</td>    <th>  LLR p-value:       </th>  <td> 0.000</td> \n",
              "</tr>\n",
              "</table>\n",
              "<table class=\"simpletable\">\n",
              "<tr>\n",
              "                                                                         <td></td>                                                                            <th>coef</th>     <th>std err</th>      <th>z</th>      <th>P>|z|</th>  <th>[0.025</th>    <th>0.975]</th>  \n",
              "</tr>\n",
              "<tr>\n",
              "  <th>Product_Bank account or service</th>                                                                                                                 <td>   -0.0250</td> <td>      nan</td> <td>      nan</td> <td>   nan</td> <td>      nan</td> <td>      nan</td>\n",
              "</tr>\n",
              "<tr>\n",
              "  <th>Product_Consumer Loan</th>                                                                                                                           <td>    0.0073</td> <td>      nan</td> <td>      nan</td> <td>   nan</td> <td>      nan</td> <td>      nan</td>\n",
              "</tr>\n",
              "<tr>\n",
              "  <th>Product_Credit card</th>                                                                                                                             <td>    0.0851</td> <td>      nan</td> <td>      nan</td> <td>   nan</td> <td>      nan</td> <td>      nan</td>\n",
              "</tr>\n",
              "<tr>\n",
              "  <th>Product_Credit reporting</th>                                                                                                                        <td>   -0.1020</td> <td>      nan</td> <td>      nan</td> <td>   nan</td> <td>      nan</td> <td>      nan</td>\n",
              "</tr>\n",
              "<tr>\n",
              "  <th>Product_Debt collection</th>                                                                                                                         <td>   -0.1626</td> <td>      nan</td> <td>      nan</td> <td>   nan</td> <td>      nan</td> <td>      nan</td>\n",
              "</tr>\n",
              "<tr>\n",
              "  <th>Product_Money transfers</th>                                                                                                                         <td>   -0.0006</td> <td>      nan</td> <td>      nan</td> <td>   nan</td> <td>      nan</td> <td>      nan</td>\n",
              "</tr>\n",
              "<tr>\n",
              "  <th>Product_Mortgage</th>                                                                                                                                <td>   -0.0238</td> <td>      nan</td> <td>      nan</td> <td>   nan</td> <td>      nan</td> <td>      nan</td>\n",
              "</tr>\n",
              "<tr>\n",
              "  <th>Product_Other financial service</th>                                                                                                                 <td>    0.0330</td> <td>      nan</td> <td>      nan</td> <td>   nan</td> <td>      nan</td> <td>      nan</td>\n",
              "</tr>\n",
              "<tr>\n",
              "  <th>Product_Payday loan</th>                                                                                                                             <td>   -0.0001</td> <td>      nan</td> <td>      nan</td> <td>   nan</td> <td>      nan</td> <td>      nan</td>\n",
              "</tr>\n",
              "<tr>\n",
              "  <th>Product_Prepaid card</th>                                                                                                                            <td>   -0.0354</td> <td>      nan</td> <td>      nan</td> <td>   nan</td> <td>      nan</td> <td>      nan</td>\n",
              "</tr>\n",
              "<tr>\n",
              "  <th>Product_Student loan</th>                                                                                                                            <td>   -0.0828</td> <td>      nan</td> <td>      nan</td> <td>   nan</td> <td>      nan</td> <td>      nan</td>\n",
              "</tr>\n",
              "<tr>\n",
              "  <th>Sub-product_(CD) Certificate of deposit</th>                                                                                                         <td>    0.1918</td> <td>      nan</td> <td>      nan</td> <td>   nan</td> <td>      nan</td> <td>      nan</td>\n",
              "</tr>\n",
              "<tr>\n",
              "  <th>Sub-product_Auto</th>                                                                                                                                <td>   -0.0261</td> <td>      nan</td> <td>      nan</td> <td>   nan</td> <td>      nan</td> <td>      nan</td>\n",
              "</tr>\n",
              "<tr>\n",
              "  <th>Sub-product_Cashing a check without an account</th>                                                                                                  <td>   -0.0403</td> <td>      nan</td> <td>      nan</td> <td>   nan</td> <td>      nan</td> <td>      nan</td>\n",
              "</tr>\n",
              "<tr>\n",
              "  <th>Sub-product_Check cashing</th>                                                                                                                       <td>    0.0029</td> <td>      nan</td> <td>      nan</td> <td>   nan</td> <td>      nan</td> <td>      nan</td>\n",
              "</tr>\n",
              "<tr>\n",
              "  <th>Sub-product_Checking account</th>                                                                                                                    <td>   -0.0499</td> <td>      nan</td> <td>      nan</td> <td>   nan</td> <td>      nan</td> <td>      nan</td>\n",
              "</tr>\n",
              "<tr>\n",
              "  <th>Sub-product_Conventional adjustable mortgage (ARM)</th>                                                                                              <td>    0.0216</td> <td>      nan</td> <td>      nan</td> <td>   nan</td> <td>      nan</td> <td>      nan</td>\n",
              "</tr>\n",
              "<tr>\n",
              "  <th>Sub-product_Conventional fixed mortgage</th>                                                                                                         <td>   -0.0061</td> <td>      nan</td> <td>      nan</td> <td>   nan</td> <td>      nan</td> <td>      nan</td>\n",
              "</tr>\n",
              "<tr>\n",
              "  <th>Sub-product_Credit card</th>                                                                                                                         <td>   -0.0891</td> <td>      nan</td> <td>      nan</td> <td>   nan</td> <td>      nan</td> <td>      nan</td>\n",
              "</tr>\n",
              "<tr>\n",
              "  <th>Sub-product_Credit repair</th>                                                                                                                       <td>   -0.0030</td> <td>      nan</td> <td>      nan</td> <td>   nan</td> <td>      nan</td> <td>      nan</td>\n",
              "</tr>\n",
              "<tr>\n",
              "  <th>Sub-product_Debt settlement</th>                                                                                                                     <td>   -0.0033</td> <td>      nan</td> <td>      nan</td> <td>   nan</td> <td>      nan</td> <td>      nan</td>\n",
              "</tr>\n",
              "<tr>\n",
              "  <th>Sub-product_Domestic (US) money transfer</th>                                                                                                        <td>    0.0103</td> <td>      nan</td> <td>      nan</td> <td>   nan</td> <td>      nan</td> <td>      nan</td>\n",
              "</tr>\n",
              "<tr>\n",
              "  <th>Sub-product_Electronic Benefit Transfer / EBT card</th>                                                                                              <td>         0</td> <td>      nan</td> <td>      nan</td> <td>   nan</td> <td>      nan</td> <td>      nan</td>\n",
              "</tr>\n",
              "<tr>\n",
              "  <th>Sub-product_FHA mortgage</th>                                                                                                                        <td>   -0.1265</td> <td>      nan</td> <td>      nan</td> <td>   nan</td> <td>      nan</td> <td>      nan</td>\n",
              "</tr>\n",
              "<tr>\n",
              "  <th>Sub-product_Federal student loan</th>                                                                                                                <td>    0.0041</td> <td>      nan</td> <td>      nan</td> <td>   nan</td> <td>      nan</td> <td>      nan</td>\n",
              "</tr>\n",
              "<tr>\n",
              "  <th>Sub-product_Federal student loan servicing</th>                                                                                                      <td>    0.0089</td> <td>      nan</td> <td>      nan</td> <td>   nan</td> <td>      nan</td> <td>      nan</td>\n",
              "</tr>\n",
              "<tr>\n",
              "  <th>Sub-product_Foreign currency exchange</th>                                                                                                           <td>    0.0008</td> <td>      nan</td> <td>      nan</td> <td>   nan</td> <td>      nan</td> <td>      nan</td>\n",
              "</tr>\n",
              "<tr>\n",
              "  <th>Sub-product_General purpose card</th>                                                                                                                <td>   -0.0388</td> <td>      nan</td> <td>      nan</td> <td>   nan</td> <td>      nan</td> <td>      nan</td>\n",
              "</tr>\n",
              "<tr>\n",
              "  <th>Sub-product_Gift or merchant card</th>                                                                                                               <td>   -0.0164</td> <td>      nan</td> <td>      nan</td> <td>   nan</td> <td>      nan</td> <td>      nan</td>\n",
              "</tr>\n",
              "<tr>\n",
              "  <th>Sub-product_Government benefit payment card</th>                                                                                                     <td>    0.0036</td> <td>      nan</td> <td>      nan</td> <td>   nan</td> <td>      nan</td> <td>      nan</td>\n",
              "</tr>\n",
              "<tr>\n",
              "  <th>Sub-product_Home equity loan or line of credit</th>                                                                                                  <td>    0.1344</td> <td>      nan</td> <td>      nan</td> <td>   nan</td> <td>      nan</td> <td>      nan</td>\n",
              "</tr>\n",
              "<tr>\n",
              "  <th>Sub-product_I do not know</th>                                                                                                                       <td>    0.0385</td> <td>      nan</td> <td>      nan</td> <td>   nan</td> <td>      nan</td> <td>      nan</td>\n",
              "</tr>\n",
              "<tr>\n",
              "  <th>Sub-product_ID prepaid card</th>                                                                                                                     <td>    0.0069</td> <td>      nan</td> <td>      nan</td> <td>   nan</td> <td>      nan</td> <td>      nan</td>\n",
              "</tr>\n",
              "<tr>\n",
              "  <th>Sub-product_Installment loan</th>                                                                                                                    <td>    0.0022</td> <td>      nan</td> <td>      nan</td> <td>   nan</td> <td>      nan</td> <td>      nan</td>\n",
              "</tr>\n",
              "<tr>\n",
              "  <th>Sub-product_International money transfer</th>                                                                                                        <td>   -0.0109</td> <td>      nan</td> <td>      nan</td> <td>   nan</td> <td>      nan</td> <td>      nan</td>\n",
              "</tr>\n",
              "<tr>\n",
              "  <th>Sub-product_Medical</th>                                                                                                                             <td>   -0.0023</td> <td>      nan</td> <td>      nan</td> <td>   nan</td> <td>      nan</td> <td>      nan</td>\n",
              "</tr>\n",
              "<tr>\n",
              "  <th>Sub-product_Mobile wallet</th>                                                                                                                       <td>   -0.0049</td> <td>      nan</td> <td>      nan</td> <td>   nan</td> <td>      nan</td> <td>      nan</td>\n",
              "</tr>\n",
              "<tr>\n",
              "  <th>Sub-product_Money order</th>                                                                                                                         <td>   -0.0015</td> <td>      nan</td> <td>      nan</td> <td>   nan</td> <td>      nan</td> <td>      nan</td>\n",
              "</tr>\n",
              "<tr>\n",
              "  <th>Sub-product_Mortgage</th>                                                                                                                            <td>    0.1093</td> <td>      nan</td> <td>      nan</td> <td>   nan</td> <td>      nan</td> <td>      nan</td>\n",
              "</tr>\n",
              "<tr>\n",
              "  <th>Sub-product_Non-federal student loan</th>                                                                                                            <td>   -0.0810</td> <td>      nan</td> <td>      nan</td> <td>   nan</td> <td>      nan</td> <td>      nan</td>\n",
              "</tr>\n",
              "<tr>\n",
              "  <th>Sub-product_Other (i.e. phone, health club, etc.)</th>                                                                                               <td>   -0.2062</td> <td>      nan</td> <td>      nan</td> <td>   nan</td> <td>      nan</td> <td>      nan</td>\n",
              "</tr>\n",
              "<tr>\n",
              "  <th>Sub-product_Other bank product/service</th>                                                                                                          <td>   -0.1005</td> <td>      nan</td> <td>      nan</td> <td>   nan</td> <td>      nan</td> <td>      nan</td>\n",
              "</tr>\n",
              "<tr>\n",
              "  <th>Sub-product_Other mortgage</th>                                                                                                                      <td>   -0.0470</td> <td>      nan</td> <td>      nan</td> <td>   nan</td> <td>      nan</td> <td>      nan</td>\n",
              "</tr>\n",
              "<tr>\n",
              "  <th>Sub-product_Other special purpose card</th>                                                                                                          <td>    0.0185</td> <td>      nan</td> <td>      nan</td> <td>   nan</td> <td>      nan</td> <td>      nan</td>\n",
              "</tr>\n",
              "<tr>\n",
              "  <th>Sub-product_Pawn loan</th>                                                                                                                           <td>    0.0034</td> <td>      nan</td> <td>      nan</td> <td>   nan</td> <td>      nan</td> <td>      nan</td>\n",
              "</tr>\n",
              "<tr>\n",
              "  <th>Sub-product_Payday loan</th>                                                                                                                         <td>   -0.0017</td> <td>      nan</td> <td>      nan</td> <td>   nan</td> <td>      nan</td> <td>      nan</td>\n",
              "</tr>\n",
              "<tr>\n",
              "  <th>Sub-product_Payroll card</th>                                                                                                                        <td>   -0.0037</td> <td>      nan</td> <td>      nan</td> <td>   nan</td> <td>      nan</td> <td>      nan</td>\n",
              "</tr>\n",
              "<tr>\n",
              "  <th>Sub-product_Personal line of credit</th>                                                                                                             <td>    0.0234</td> <td>      nan</td> <td>      nan</td> <td>   nan</td> <td>      nan</td> <td>      nan</td>\n",
              "</tr>\n",
              "<tr>\n",
              "  <th>Sub-product_Refund anticipation check</th>                                                                                                           <td>    0.0227</td> <td>      nan</td> <td>      nan</td> <td>   nan</td> <td>      nan</td> <td>      nan</td>\n",
              "</tr>\n",
              "<tr>\n",
              "  <th>Sub-product_Reverse mortgage</th>                                                                                                                    <td>   -0.0409</td> <td>      nan</td> <td>      nan</td> <td>   nan</td> <td>      nan</td> <td>      nan</td>\n",
              "</tr>\n",
              "<tr>\n",
              "  <th>Sub-product_Savings account</th>                                                                                                                     <td>   -0.0261</td> <td>      nan</td> <td>      nan</td> <td>   nan</td> <td>      nan</td> <td>      nan</td>\n",
              "</tr>\n",
              "<tr>\n",
              "  <th>Sub-product_Second mortgage</th>                                                                                                                     <td>    0.0109</td> <td>      nan</td> <td>      nan</td> <td>   nan</td> <td>      nan</td> <td>      nan</td>\n",
              "</tr>\n",
              "<tr>\n",
              "  <th>Sub-product_Title loan</th>                                                                                                                          <td>   -0.0089</td> <td>      nan</td> <td>      nan</td> <td>   nan</td> <td>      nan</td> <td>      nan</td>\n",
              "</tr>\n",
              "<tr>\n",
              "  <th>Sub-product_Transit card</th>                                                                                                                        <td>   -0.0006</td> <td>      nan</td> <td>      nan</td> <td>   nan</td> <td>      nan</td> <td>      nan</td>\n",
              "</tr>\n",
              "<tr>\n",
              "  <th>Sub-product_Traveler’s/Cashier’s checks</th>                                                                                                         <td>    0.0143</td> <td>      nan</td> <td>      nan</td> <td>   nan</td> <td>      nan</td> <td>      nan</td>\n",
              "</tr>\n",
              "<tr>\n",
              "  <th>Sub-product_VA mortgage</th>                                                                                                                         <td>    0.0299</td> <td>      nan</td> <td>      nan</td> <td>   nan</td> <td>      nan</td> <td>      nan</td>\n",
              "</tr>\n",
              "<tr>\n",
              "  <th>Sub-product_Vehicle lease</th>                                                                                                                       <td>    0.0173</td> <td>      nan</td> <td>      nan</td> <td>   nan</td> <td>      nan</td> <td>      nan</td>\n",
              "</tr>\n",
              "<tr>\n",
              "  <th>Sub-product_Vehicle loan</th>                                                                                                                        <td>   -0.0301</td> <td>      nan</td> <td>      nan</td> <td>   nan</td> <td>      nan</td> <td>      nan</td>\n",
              "</tr>\n",
              "<tr>\n",
              "  <th>Sub-product_missing</th>                                                                                                                             <td>   -0.0170</td> <td>      nan</td> <td>      nan</td> <td>   nan</td> <td>      nan</td> <td>      nan</td>\n",
              "</tr>\n",
              "<tr>\n",
              "  <th>Issue_APR or interest rate</th>                                                                                                                      <td>   -0.0568</td> <td>      nan</td> <td>      nan</td> <td>   nan</td> <td>      nan</td> <td>      nan</td>\n",
              "</tr>\n",
              "<tr>\n",
              "  <th>Issue_Account opening, closing, or management</th>                                                                                                   <td>    0.0214</td> <td>      nan</td> <td>      nan</td> <td>   nan</td> <td>      nan</td> <td>      nan</td>\n",
              "</tr>\n",
              "<tr>\n",
              "  <th>Issue_Account terms and changes</th>                                                                                                                 <td>   -0.0027</td> <td>      nan</td> <td>      nan</td> <td>   nan</td> <td>      nan</td> <td>      nan</td>\n",
              "</tr>\n",
              "<tr>\n",
              "  <th>Issue_Adding money</th>                                                                                                                              <td>    0.0034</td> <td>      nan</td> <td>      nan</td> <td>   nan</td> <td>      nan</td> <td>      nan</td>\n",
              "</tr>\n",
              "<tr>\n",
              "  <th>Issue_Advertising and marketing</th>                                                                                                                 <td>    0.0243</td> <td>      nan</td> <td>      nan</td> <td>   nan</td> <td>      nan</td> <td>      nan</td>\n",
              "</tr>\n",
              "<tr>\n",
              "  <th>Issue_Advertising, marketing or disclosures</th>                                                                                                     <td>    0.0023</td> <td>      nan</td> <td>      nan</td> <td>   nan</td> <td>      nan</td> <td>      nan</td>\n",
              "</tr>\n",
              "<tr>\n",
              "  <th>Issue_Application processing delay</th>                                                                                                              <td>   -0.0090</td> <td>      nan</td> <td>      nan</td> <td>   nan</td> <td>      nan</td> <td>      nan</td>\n",
              "</tr>\n",
              "<tr>\n",
              "  <th>Issue_Application, originator, mortgage broker</th>                                                                                                  <td>    0.2255</td> <td>      nan</td> <td>      nan</td> <td>   nan</td> <td>      nan</td> <td>      nan</td>\n",
              "</tr>\n",
              "<tr>\n",
              "  <th>Issue_Applied for loan/did not receive money</th>                                                                                                    <td>    0.0051</td> <td>      nan</td> <td>      nan</td> <td>   nan</td> <td>      nan</td> <td>      nan</td>\n",
              "</tr>\n",
              "<tr>\n",
              "  <th>Issue_Arbitration</th>                                                                                                                               <td>    0.0214</td> <td>      nan</td> <td>      nan</td> <td>   nan</td> <td>      nan</td> <td>      nan</td>\n",
              "</tr>\n",
              "<tr>\n",
              "  <th>Issue_Balance transfer</th>                                                                                                                          <td>    0.0114</td> <td>      nan</td> <td>      nan</td> <td>   nan</td> <td>      nan</td> <td>      nan</td>\n",
              "</tr>\n",
              "<tr>\n",
              "  <th>Issue_Balance transfer fee</th>                                                                                                                      <td>   -0.0195</td> <td>      nan</td> <td>      nan</td> <td>   nan</td> <td>      nan</td> <td>      nan</td>\n",
              "</tr>\n",
              "<tr>\n",
              "  <th>Issue_Bankruptcy</th>                                                                                                                                <td>   -0.0071</td> <td>      nan</td> <td>      nan</td> <td>   nan</td> <td>      nan</td> <td>      nan</td>\n",
              "</tr>\n",
              "<tr>\n",
              "  <th>Issue_Billing disputes</th>                                                                                                                          <td>    0.2500</td> <td>      nan</td> <td>      nan</td> <td>   nan</td> <td>      nan</td> <td>      nan</td>\n",
              "</tr>\n",
              "<tr>\n",
              "  <th>Issue_Billing statement</th>                                                                                                                         <td>   -0.0960</td> <td>      nan</td> <td>      nan</td> <td>   nan</td> <td>      nan</td> <td>      nan</td>\n",
              "</tr>\n",
              "<tr>\n",
              "  <th>Issue_Can't contact lender</th>                                                                                                                      <td>   -0.0066</td> <td>      nan</td> <td>      nan</td> <td>   nan</td> <td>      nan</td> <td>      nan</td>\n",
              "</tr>\n",
              "<tr>\n",
              "  <th>Issue_Can't repay my loan</th>                                                                                                                       <td>   -0.1017</td> <td>      nan</td> <td>      nan</td> <td>   nan</td> <td>      nan</td> <td>      nan</td>\n",
              "</tr>\n",
              "<tr>\n",
              "  <th>Issue_Can't stop charges to bank account</th>                                                                                                        <td>   -0.0038</td> <td>      nan</td> <td>      nan</td> <td>   nan</td> <td>      nan</td> <td>      nan</td>\n",
              "</tr>\n",
              "<tr>\n",
              "  <th>Issue_Cash advance</th>                                                                                                                              <td>    0.0283</td> <td>      nan</td> <td>      nan</td> <td>   nan</td> <td>      nan</td> <td>      nan</td>\n",
              "</tr>\n",
              "<tr>\n",
              "  <th>Issue_Cash advance fee</th>                                                                                                                          <td>   -0.0024</td> <td>      nan</td> <td>      nan</td> <td>   nan</td> <td>      nan</td> <td>      nan</td>\n",
              "</tr>\n",
              "<tr>\n",
              "  <th>Issue_Charged bank acct wrong day or amt</th>                                                                                                        <td>    0.0056</td> <td>      nan</td> <td>      nan</td> <td>   nan</td> <td>      nan</td> <td>      nan</td>\n",
              "</tr>\n",
              "<tr>\n",
              "  <th>Issue_Charged fees or interest I didn't expect</th>                                                                                                  <td>   -0.0007</td> <td>      nan</td> <td>      nan</td> <td>   nan</td> <td>      nan</td> <td>      nan</td>\n",
              "</tr>\n",
              "<tr>\n",
              "  <th>Issue_Closing/Cancelling account</th>                                                                                                                <td>    0.0124</td> <td>      nan</td> <td>      nan</td> <td>   nan</td> <td>      nan</td> <td>      nan</td>\n",
              "</tr>\n",
              "<tr>\n",
              "  <th>Issue_Collection debt dispute</th>                                                                                                                   <td>   -0.0111</td> <td>      nan</td> <td>      nan</td> <td>   nan</td> <td>      nan</td> <td>      nan</td>\n",
              "</tr>\n",
              "<tr>\n",
              "  <th>Issue_Collection practices</th>                                                                                                                      <td>   -0.0286</td> <td>      nan</td> <td>      nan</td> <td>   nan</td> <td>      nan</td> <td>      nan</td>\n",
              "</tr>\n",
              "<tr>\n",
              "  <th>Issue_Communication tactics</th>                                                                                                                     <td>   -0.1909</td> <td>      nan</td> <td>      nan</td> <td>   nan</td> <td>      nan</td> <td>      nan</td>\n",
              "</tr>\n",
              "<tr>\n",
              "  <th>Issue_Cont'd attempts collect debt not owed</th>                                                                                                     <td>    0.0047</td> <td>      nan</td> <td>      nan</td> <td>   nan</td> <td>      nan</td> <td>      nan</td>\n",
              "</tr>\n",
              "<tr>\n",
              "  <th>Issue_Convenience checks</th>                                                                                                                        <td>   -0.0039</td> <td>      nan</td> <td>      nan</td> <td>   nan</td> <td>      nan</td> <td>      nan</td>\n",
              "</tr>\n",
              "<tr>\n",
              "  <th>Issue_Credit card protection / Debt protection</th>                                                                                                  <td>    0.0800</td> <td>      nan</td> <td>      nan</td> <td>   nan</td> <td>      nan</td> <td>      nan</td>\n",
              "</tr>\n",
              "<tr>\n",
              "  <th>Issue_Credit decision / Underwriting</th>                                                                                                            <td>    0.0434</td> <td>      nan</td> <td>      nan</td> <td>   nan</td> <td>      nan</td> <td>      nan</td>\n",
              "</tr>\n",
              "<tr>\n",
              "  <th>Issue_Credit determination</th>                                                                                                                      <td>    0.0349</td> <td>      nan</td> <td>      nan</td> <td>   nan</td> <td>      nan</td> <td>      nan</td>\n",
              "</tr>\n",
              "<tr>\n",
              "  <th>Issue_Credit line increase/decrease</th>                                                                                                             <td>   -0.0568</td> <td>      nan</td> <td>      nan</td> <td>   nan</td> <td>      nan</td> <td>      nan</td>\n",
              "</tr>\n",
              "<tr>\n",
              "  <th>Issue_Credit monitoring or identity protection</th>                                                                                                  <td>   -0.0105</td> <td>      nan</td> <td>      nan</td> <td>   nan</td> <td>      nan</td> <td>      nan</td>\n",
              "</tr>\n",
              "<tr>\n",
              "  <th>Issue_Credit reporting</th>                                                                                                                          <td>   -0.0141</td> <td>      nan</td> <td>      nan</td> <td>   nan</td> <td>      nan</td> <td>      nan</td>\n",
              "</tr>\n",
              "<tr>\n",
              "  <th>Issue_Credit reporting company's investigation</th>                                                                                                  <td>    0.0035</td> <td>      nan</td> <td>      nan</td> <td>   nan</td> <td>      nan</td> <td>      nan</td>\n",
              "</tr>\n",
              "<tr>\n",
              "  <th>Issue_Customer service / Customer relations</th>                                                                                                     <td>   -0.0557</td> <td>      nan</td> <td>      nan</td> <td>   nan</td> <td>      nan</td> <td>      nan</td>\n",
              "</tr>\n",
              "<tr>\n",
              "  <th>Issue_Customer service/Customer relations</th>                                                                                                       <td>    0.0125</td> <td>      nan</td> <td>      nan</td> <td>   nan</td> <td>      nan</td> <td>      nan</td>\n",
              "</tr>\n",
              "<tr>\n",
              "  <th>Issue_Dealing with my lender or servicer</th>                                                                                                        <td>    0.0810</td> <td>      nan</td> <td>      nan</td> <td>   nan</td> <td>      nan</td> <td>      nan</td>\n",
              "</tr>\n",
              "<tr>\n",
              "  <th>Issue_Delinquent account</th>                                                                                                                        <td>   -0.0566</td> <td>      nan</td> <td>      nan</td> <td>   nan</td> <td>      nan</td> <td>      nan</td>\n",
              "</tr>\n",
              "<tr>\n",
              "  <th>Issue_Deposits and withdrawals</th>                                                                                                                  <td>    0.0392</td> <td>      nan</td> <td>      nan</td> <td>   nan</td> <td>      nan</td> <td>      nan</td>\n",
              "</tr>\n",
              "<tr>\n",
              "  <th>Issue_Disclosure verification of debt</th>                                                                                                           <td>    0.0370</td> <td>      nan</td> <td>      nan</td> <td>   nan</td> <td>      nan</td> <td>      nan</td>\n",
              "</tr>\n",
              "<tr>\n",
              "  <th>Issue_Disclosures</th>                                                                                                                               <td>    0.0054</td> <td>      nan</td> <td>      nan</td> <td>   nan</td> <td>      nan</td> <td>      nan</td>\n",
              "</tr>\n",
              "<tr>\n",
              "  <th>Issue_Excessive fees</th>                                                                                                                            <td>   -0.0028</td> <td>      nan</td> <td>      nan</td> <td>   nan</td> <td>      nan</td> <td>      nan</td>\n",
              "</tr>\n",
              "<tr>\n",
              "  <th>Issue_False statements or representation</th>                                                                                                        <td>    0.0446</td> <td>      nan</td> <td>      nan</td> <td>   nan</td> <td>      nan</td> <td>      nan</td>\n",
              "</tr>\n",
              "<tr>\n",
              "  <th>Issue_Fees</th>                                                                                                                                      <td>   -0.0023</td> <td>      nan</td> <td>      nan</td> <td>   nan</td> <td>      nan</td> <td>      nan</td>\n",
              "</tr>\n",
              "<tr>\n",
              "  <th>Issue_Forbearance / Workout plans</th>                                                                                                               <td>    0.0815</td> <td>      nan</td> <td>      nan</td> <td>   nan</td> <td>      nan</td> <td>      nan</td>\n",
              "</tr>\n",
              "<tr>\n",
              "  <th>Issue_Fraud or scam</th>                                                                                                                             <td>    0.0473</td> <td>      nan</td> <td>      nan</td> <td>   nan</td> <td>      nan</td> <td>      nan</td>\n",
              "</tr>\n",
              "<tr>\n",
              "  <th>Issue_Getting a loan</th>                                                                                                                            <td>    0.0049</td> <td>      nan</td> <td>      nan</td> <td>   nan</td> <td>      nan</td> <td>      nan</td>\n",
              "</tr>\n",
              "<tr>\n",
              "  <th>Issue_Identity theft / Fraud / Embezzlement</th>                                                                                                     <td>   -0.1499</td> <td>      nan</td> <td>      nan</td> <td>   nan</td> <td>      nan</td> <td>      nan</td>\n",
              "</tr>\n",
              "<tr>\n",
              "  <th>Issue_Improper contact or sharing of info</th>                                                                                                       <td>   -0.0336</td> <td>      nan</td> <td>      nan</td> <td>   nan</td> <td>      nan</td> <td>      nan</td>\n",
              "</tr>\n",
              "<tr>\n",
              "  <th>Issue_Improper use of my credit report</th>                                                                                                          <td>   -0.0236</td> <td>      nan</td> <td>      nan</td> <td>   nan</td> <td>      nan</td> <td>      nan</td>\n",
              "</tr>\n",
              "<tr>\n",
              "  <th>Issue_Incorrect exchange rate</th>                                                                                                                   <td>   -0.0004</td> <td>      nan</td> <td>      nan</td> <td>   nan</td> <td>      nan</td> <td>      nan</td>\n",
              "</tr>\n",
              "<tr>\n",
              "  <th>Issue_Incorrect information on credit report</th>                                                                                                    <td>   -0.0677</td> <td>      nan</td> <td>      nan</td> <td>   nan</td> <td>      nan</td> <td>      nan</td>\n",
              "</tr>\n",
              "<tr>\n",
              "  <th>Issue_Incorrect/missing disclosures or info</th>                                                                                                     <td>    0.0039</td> <td>      nan</td> <td>      nan</td> <td>   nan</td> <td>      nan</td> <td>      nan</td>\n",
              "</tr>\n",
              "<tr>\n",
              "  <th>Issue_Late fee</th>                                                                                                                                  <td>   -0.0727</td> <td>      nan</td> <td>      nan</td> <td>   nan</td> <td>      nan</td> <td>      nan</td>\n",
              "</tr>\n",
              "<tr>\n",
              "  <th>Issue_Lender damaged or destroyed property</th>                                                                                                      <td>         0</td> <td>      nan</td> <td>      nan</td> <td>   nan</td> <td>      nan</td> <td>      nan</td>\n",
              "</tr>\n",
              "<tr>\n",
              "  <th>Issue_Lender repossessed or sold the vehicle</th>                                                                                                    <td>         0</td> <td>      nan</td> <td>      nan</td> <td>   nan</td> <td>      nan</td> <td>      nan</td>\n",
              "</tr>\n",
              "<tr>\n",
              "  <th>Issue_Loan modification,collection,foreclosure</th>                                                                                                  <td>    0.0029</td> <td>      nan</td> <td>      nan</td> <td>   nan</td> <td>      nan</td> <td>      nan</td>\n",
              "</tr>\n",
              "<tr>\n",
              "  <th>Issue_Loan servicing, payments, escrow account</th>                                                                                                  <td>    0.0933</td> <td>      nan</td> <td>      nan</td> <td>   nan</td> <td>      nan</td> <td>      nan</td>\n",
              "</tr>\n",
              "<tr>\n",
              "  <th>Issue_Lost or stolen check</th>                                                                                                                      <td>    0.0082</td> <td>      nan</td> <td>      nan</td> <td>   nan</td> <td>      nan</td> <td>      nan</td>\n",
              "</tr>\n",
              "<tr>\n",
              "  <th>Issue_Lost or stolen money order</th>                                                                                                                <td>   -0.0010</td> <td>      nan</td> <td>      nan</td> <td>   nan</td> <td>      nan</td> <td>      nan</td>\n",
              "</tr>\n",
              "<tr>\n",
              "  <th>Issue_Making/receiving payments, sending money</th>                                                                                                  <td>    0.0659</td> <td>      nan</td> <td>      nan</td> <td>   nan</td> <td>      nan</td> <td>      nan</td>\n",
              "</tr>\n",
              "<tr>\n",
              "  <th>Issue_Managing the line of credit</th>                                                                                                               <td>    0.0289</td> <td>      nan</td> <td>      nan</td> <td>   nan</td> <td>      nan</td> <td>      nan</td>\n",
              "</tr>\n",
              "<tr>\n",
              "  <th>Issue_Managing the loan or lease</th>                                                                                                                <td>   -0.0596</td> <td>      nan</td> <td>      nan</td> <td>   nan</td> <td>      nan</td> <td>      nan</td>\n",
              "</tr>\n",
              "<tr>\n",
              "  <th>Issue_Managing, opening, or closing account</th>                                                                                                     <td>   -0.0266</td> <td>      nan</td> <td>      nan</td> <td>   nan</td> <td>      nan</td> <td>      nan</td>\n",
              "</tr>\n",
              "<tr>\n",
              "  <th>Issue_Money was not available when promised</th>                                                                                                     <td>   -0.0275</td> <td>      nan</td> <td>      nan</td> <td>   nan</td> <td>      nan</td> <td>      nan</td>\n",
              "</tr>\n",
              "<tr>\n",
              "  <th>Issue_Other</th>                                                                                                                                     <td>   -0.2343</td> <td>      nan</td> <td>      nan</td> <td>   nan</td> <td>      nan</td> <td>      nan</td>\n",
              "</tr>\n",
              "<tr>\n",
              "  <th>Issue_Other fee</th>                                                                                                                                 <td>   -0.1482</td> <td>      nan</td> <td>      nan</td> <td>   nan</td> <td>      nan</td> <td>      nan</td>\n",
              "</tr>\n",
              "<tr>\n",
              "  <th>Issue_Other service issues</th>                                                                                                                      <td>    0.0007</td> <td>      nan</td> <td>      nan</td> <td>   nan</td> <td>      nan</td> <td>      nan</td>\n",
              "</tr>\n",
              "<tr>\n",
              "  <th>Issue_Other transaction issues</th>                                                                                                                  <td>   -0.0284</td> <td>      nan</td> <td>      nan</td> <td>   nan</td> <td>      nan</td> <td>      nan</td>\n",
              "</tr>\n",
              "<tr>\n",
              "  <th>Issue_Overdraft, savings or rewards features</th>                                                                                                    <td>    0.0073</td> <td>      nan</td> <td>      nan</td> <td>   nan</td> <td>      nan</td> <td>      nan</td>\n",
              "</tr>\n",
              "<tr>\n",
              "  <th>Issue_Overlimit fee</th>                                                                                                                             <td>   -0.0125</td> <td>      nan</td> <td>      nan</td> <td>   nan</td> <td>      nan</td> <td>      nan</td>\n",
              "</tr>\n",
              "<tr>\n",
              "  <th>Issue_Payment to acct not credited</th>                                                                                                              <td>   -0.0035</td> <td>      nan</td> <td>      nan</td> <td>   nan</td> <td>      nan</td> <td>      nan</td>\n",
              "</tr>\n",
              "<tr>\n",
              "  <th>Issue_Payoff process</th>                                                                                                                            <td>   -0.0911</td> <td>      nan</td> <td>      nan</td> <td>   nan</td> <td>      nan</td> <td>      nan</td>\n",
              "</tr>\n",
              "<tr>\n",
              "  <th>Issue_Privacy</th>                                                                                                                                   <td>    0.0145</td> <td>      nan</td> <td>      nan</td> <td>   nan</td> <td>      nan</td> <td>      nan</td>\n",
              "</tr>\n",
              "<tr>\n",
              "  <th>Issue_Problems caused by my funds being low</th>                                                                                                     <td>   -0.1462</td> <td>      nan</td> <td>      nan</td> <td>   nan</td> <td>      nan</td> <td>      nan</td>\n",
              "</tr>\n",
              "<tr>\n",
              "  <th>Issue_Problems when you are unable to pay</th>                                                                                                       <td>   -0.0217</td> <td>      nan</td> <td>      nan</td> <td>   nan</td> <td>      nan</td> <td>      nan</td>\n",
              "</tr>\n",
              "<tr>\n",
              "  <th>Issue_Received a loan I didn't apply for</th>                                                                                                        <td>   -0.0018</td> <td>      nan</td> <td>      nan</td> <td>   nan</td> <td>      nan</td> <td>      nan</td>\n",
              "</tr>\n",
              "<tr>\n",
              "  <th>Issue_Repaying your loan</th>                                                                                                                        <td>   -0.0654</td> <td>      nan</td> <td>      nan</td> <td>   nan</td> <td>      nan</td> <td>      nan</td>\n",
              "</tr>\n",
              "<tr>\n",
              "  <th>Issue_Rewards</th>                                                                                                                                   <td>    0.1175</td> <td>      nan</td> <td>      nan</td> <td>   nan</td> <td>      nan</td> <td>      nan</td>\n",
              "</tr>\n",
              "<tr>\n",
              "  <th>Issue_Sale of account</th>                                                                                                                           <td>   -0.0030</td> <td>      nan</td> <td>      nan</td> <td>   nan</td> <td>      nan</td> <td>      nan</td>\n",
              "</tr>\n",
              "<tr>\n",
              "  <th>Issue_Settlement process and costs</th>                                                                                                              <td>    0.2822</td> <td>      nan</td> <td>      nan</td> <td>   nan</td> <td>      nan</td> <td>      nan</td>\n",
              "</tr>\n",
              "<tr>\n",
              "  <th>Issue_Shopping for a line of credit</th>                                                                                                             <td>   -0.0094</td> <td>      nan</td> <td>      nan</td> <td>   nan</td> <td>      nan</td> <td>      nan</td>\n",
              "</tr>\n",
              "<tr>\n",
              "  <th>Issue_Shopping for a loan or lease</th>                                                                                                              <td>    0.0159</td> <td>      nan</td> <td>      nan</td> <td>   nan</td> <td>      nan</td> <td>      nan</td>\n",
              "</tr>\n",
              "<tr>\n",
              "  <th>Issue_Taking out the loan or lease</th>                                                                                                              <td>    0.0597</td> <td>      nan</td> <td>      nan</td> <td>   nan</td> <td>      nan</td> <td>      nan</td>\n",
              "</tr>\n",
              "<tr>\n",
              "  <th>Issue_Taking/threatening an illegal action</th>                                                                                                      <td>   -0.0244</td> <td>      nan</td> <td>      nan</td> <td>   nan</td> <td>      nan</td> <td>      nan</td>\n",
              "</tr>\n",
              "<tr>\n",
              "  <th>Issue_Transaction issue</th>                                                                                                                         <td>   -0.0170</td> <td>      nan</td> <td>      nan</td> <td>   nan</td> <td>      nan</td> <td>      nan</td>\n",
              "</tr>\n",
              "<tr>\n",
              "  <th>Issue_Unable to get credit report/credit score</th>                                                                                                  <td>   -0.0036</td> <td>      nan</td> <td>      nan</td> <td>   nan</td> <td>      nan</td> <td>      nan</td>\n",
              "</tr>\n",
              "<tr>\n",
              "  <th>Issue_Unauthorized transactions/trans. issues</th>                                                                                                   <td>   -0.0212</td> <td>      nan</td> <td>      nan</td> <td>   nan</td> <td>      nan</td> <td>      nan</td>\n",
              "</tr>\n",
              "<tr>\n",
              "  <th>Issue_Unexpected/Other fees</th>                                                                                                                     <td>   -0.0050</td> <td>      nan</td> <td>      nan</td> <td>   nan</td> <td>      nan</td> <td>      nan</td>\n",
              "</tr>\n",
              "<tr>\n",
              "  <th>Issue_Unsolicited issuance of credit card</th>                                                                                                       <td>   -0.1125</td> <td>      nan</td> <td>      nan</td> <td>   nan</td> <td>      nan</td> <td>      nan</td>\n",
              "</tr>\n",
              "<tr>\n",
              "  <th>Issue_Using a debit or ATM card</th>                                                                                                                 <td>   -0.0052</td> <td>      nan</td> <td>      nan</td> <td>   nan</td> <td>      nan</td> <td>      nan</td>\n",
              "</tr>\n",
              "<tr>\n",
              "  <th>Issue_Wrong amount charged or received</th>                                                                                                          <td>    0.0176</td> <td>      nan</td> <td>      nan</td> <td>   nan</td> <td>      nan</td> <td>      nan</td>\n",
              "</tr>\n",
              "<tr>\n",
              "  <th>Sub-issue_Account status</th>                                                                                                                        <td>   -0.0362</td> <td>      nan</td> <td>      nan</td> <td>   nan</td> <td>      nan</td> <td>      nan</td>\n",
              "</tr>\n",
              "<tr>\n",
              "  <th>Sub-issue_Account terms</th>                                                                                                                         <td>    0.0081</td> <td>      nan</td> <td>      nan</td> <td>   nan</td> <td>      nan</td> <td>      nan</td>\n",
              "</tr>\n",
              "<tr>\n",
              "  <th>Sub-issue_Account terms and changes</th>                                                                                                             <td>   -0.0033</td> <td>      nan</td> <td>      nan</td> <td>   nan</td> <td>      nan</td> <td>      nan</td>\n",
              "</tr>\n",
              "<tr>\n",
              "  <th>Sub-issue_Attempted to collect wrong amount</th>                                                                                                     <td>    0.0577</td> <td>      nan</td> <td>      nan</td> <td>   nan</td> <td>      nan</td> <td>      nan</td>\n",
              "</tr>\n",
              "<tr>\n",
              "  <th>Sub-issue_Attempted to/Collected exempt funds</th>                                                                                                   <td>   -0.0074</td> <td>      nan</td> <td>      nan</td> <td>   nan</td> <td>      nan</td> <td>      nan</td>\n",
              "</tr>\n",
              "<tr>\n",
              "  <th>Sub-issue_Billing dispute</th>                                                                                                                       <td>    0.0029</td> <td>      nan</td> <td>      nan</td> <td>   nan</td> <td>      nan</td> <td>      nan</td>\n",
              "</tr>\n",
              "<tr>\n",
              "  <th>Sub-issue_Called after sent written cease of comm</th>                                                                                               <td>   -0.0085</td> <td>      nan</td> <td>      nan</td> <td>   nan</td> <td>      nan</td> <td>      nan</td>\n",
              "</tr>\n",
              "<tr>\n",
              "  <th>Sub-issue_Called outside of 8am-9pm</th>                                                                                                             <td>    0.0115</td> <td>      nan</td> <td>      nan</td> <td>   nan</td> <td>      nan</td> <td>      nan</td>\n",
              "</tr>\n",
              "<tr>\n",
              "  <th>Sub-issue_Can't decrease my monthly payments</th>                                                                                                    <td>   -0.0290</td> <td>      nan</td> <td>      nan</td> <td>   nan</td> <td>      nan</td> <td>      nan</td>\n",
              "</tr>\n",
              "<tr>\n",
              "  <th>Sub-issue_Can't get flexible payment options</th>                                                                                                    <td>   -0.0627</td> <td>      nan</td> <td>      nan</td> <td>   nan</td> <td>      nan</td> <td>      nan</td>\n",
              "</tr>\n",
              "<tr>\n",
              "  <th>Sub-issue_Can't qualify for a loan</th>                                                                                                              <td>    0.0168</td> <td>      nan</td> <td>      nan</td> <td>   nan</td> <td>      nan</td> <td>      nan</td>\n",
              "</tr>\n",
              "<tr>\n",
              "  <th>Sub-issue_Can't temporarily postpone payments</th>                                                                                                   <td>   -0.0100</td> <td>      nan</td> <td>      nan</td> <td>   nan</td> <td>      nan</td> <td>      nan</td>\n",
              "</tr>\n",
              "<tr>\n",
              "  <th>Sub-issue_Contacted employer after asked not to</th>                                                                                                 <td>   -0.0552</td> <td>      nan</td> <td>      nan</td> <td>   nan</td> <td>      nan</td> <td>      nan</td>\n",
              "</tr>\n",
              "<tr>\n",
              "  <th>Sub-issue_Contacted me after I asked not to</th>                                                                                                     <td>   -0.0294</td> <td>      nan</td> <td>      nan</td> <td>   nan</td> <td>      nan</td> <td>      nan</td>\n",
              "</tr>\n",
              "<tr>\n",
              "  <th>Sub-issue_Contacted me instead of my attorney</th>                                                                                                   <td>   -0.0006</td> <td>      nan</td> <td>      nan</td> <td>   nan</td> <td>      nan</td> <td>      nan</td>\n",
              "</tr>\n",
              "<tr>\n",
              "  <th>Sub-issue_Debt is not mine</th>                                                                                                                      <td>   -0.0237</td> <td>      nan</td> <td>      nan</td> <td>   nan</td> <td>      nan</td> <td>      nan</td>\n",
              "</tr>\n",
              "<tr>\n",
              "  <th>Sub-issue_Debt resulted from identity theft</th>                                                                                                     <td>    0.0307</td> <td>      nan</td> <td>      nan</td> <td>   nan</td> <td>      nan</td> <td>      nan</td>\n",
              "</tr>\n",
              "<tr>\n",
              "  <th>Sub-issue_Debt was discharged in bankruptcy</th>                                                                                                     <td>    0.0292</td> <td>      nan</td> <td>      nan</td> <td>   nan</td> <td>      nan</td> <td>      nan</td>\n",
              "</tr>\n",
              "<tr>\n",
              "  <th>Sub-issue_Debt was paid</th>                                                                                                                         <td>   -0.0316</td> <td>      nan</td> <td>      nan</td> <td>   nan</td> <td>      nan</td> <td>      nan</td>\n",
              "</tr>\n",
              "<tr>\n",
              "  <th>Sub-issue_Don't agree with fees charged</th>                                                                                                         <td>    0.0063</td> <td>      nan</td> <td>      nan</td> <td>   nan</td> <td>      nan</td> <td>      nan</td>\n",
              "</tr>\n",
              "<tr>\n",
              "  <th>Sub-issue_Frequent or repeated calls</th>                                                                                                            <td>   -0.1827</td> <td>      nan</td> <td>      nan</td> <td>   nan</td> <td>      nan</td> <td>      nan</td>\n",
              "</tr>\n",
              "<tr>\n",
              "  <th>Sub-issue_Having problems with customer service</th>                                                                                                 <td>   -0.0142</td> <td>      nan</td> <td>      nan</td> <td>   nan</td> <td>      nan</td> <td>      nan</td>\n",
              "</tr>\n",
              "<tr>\n",
              "  <th>Sub-issue_Impersonated an attorney or official</th>                                                                                                  <td>    0.0101</td> <td>      nan</td> <td>      nan</td> <td>   nan</td> <td>      nan</td> <td>      nan</td>\n",
              "</tr>\n",
              "<tr>\n",
              "  <th>Sub-issue_Inadequate help over the phone</th>                                                                                                        <td>    0.0028</td> <td>      nan</td> <td>      nan</td> <td>   nan</td> <td>      nan</td> <td>      nan</td>\n",
              "</tr>\n",
              "<tr>\n",
              "  <th>Sub-issue_Indicated committed crime not paying</th>                                                                                                  <td>   -0.0322</td> <td>      nan</td> <td>      nan</td> <td>   nan</td> <td>      nan</td> <td>      nan</td>\n",
              "</tr>\n",
              "<tr>\n",
              "  <th>Sub-issue_Indicated shouldn't respond to lawsuit</th>                                                                                                <td>    0.0090</td> <td>      nan</td> <td>      nan</td> <td>   nan</td> <td>      nan</td> <td>      nan</td>\n",
              "</tr>\n",
              "<tr>\n",
              "  <th>Sub-issue_Information is not mine</th>                                                                                                               <td>   -0.0351</td> <td>      nan</td> <td>      nan</td> <td>   nan</td> <td>      nan</td> <td>      nan</td>\n",
              "</tr>\n",
              "<tr>\n",
              "  <th>Sub-issue_Investigation took too long</th>                                                                                                           <td>   -0.0014</td> <td>      nan</td> <td>      nan</td> <td>   nan</td> <td>      nan</td> <td>      nan</td>\n",
              "</tr>\n",
              "<tr>\n",
              "  <th>Sub-issue_Keep getting calls about my loan</th>                                                                                                      <td>    0.0024</td> <td>      nan</td> <td>      nan</td> <td>   nan</td> <td>      nan</td> <td>      nan</td>\n",
              "</tr>\n",
              "<tr>\n",
              "  <th>Sub-issue_Need information about my balance/terms</th>                                                                                               <td>   -0.0284</td> <td>      nan</td> <td>      nan</td> <td>   nan</td> <td>      nan</td> <td>      nan</td>\n",
              "</tr>\n",
              "<tr>\n",
              "  <th>Sub-issue_No notice of investigation status/result</th>                                                                                              <td> 3.844e-05</td> <td>      nan</td> <td>      nan</td> <td>   nan</td> <td>      nan</td> <td>      nan</td>\n",
              "</tr>\n",
              "<tr>\n",
              "  <th>Sub-issue_Not disclosed as an attempt to collect</th>                                                                                                <td>    0.0134</td> <td>      nan</td> <td>      nan</td> <td>   nan</td> <td>      nan</td> <td>      nan</td>\n",
              "</tr>\n",
              "<tr>\n",
              "  <th>Sub-issue_Not given enough info to verify debt</th>                                                                                                  <td>    0.0047</td> <td>      nan</td> <td>      nan</td> <td>   nan</td> <td>      nan</td> <td>      nan</td>\n",
              "</tr>\n",
              "<tr>\n",
              "  <th>Sub-issue_Personal information</th>                                                                                                                  <td>   -0.0117</td> <td>      nan</td> <td>      nan</td> <td>   nan</td> <td>      nan</td> <td>      nan</td>\n",
              "</tr>\n",
              "<tr>\n",
              "  <th>Sub-issue_Problem cancelling or closing account</th>                                                                                                 <td>   -0.0033</td> <td>      nan</td> <td>      nan</td> <td>   nan</td> <td>      nan</td> <td>      nan</td>\n",
              "</tr>\n",
              "<tr>\n",
              "  <th>Sub-issue_Problem getting my free annual report</th>                                                                                                 <td>         0</td> <td>      nan</td> <td>      nan</td> <td>   nan</td> <td>      nan</td> <td>      nan</td>\n",
              "</tr>\n",
              "<tr>\n",
              "  <th>Sub-issue_Problem getting report or credit score</th>                                                                                                <td>   -0.0036</td> <td>      nan</td> <td>      nan</td> <td>   nan</td> <td>      nan</td> <td>      nan</td>\n",
              "</tr>\n",
              "<tr>\n",
              "  <th>Sub-issue_Problem with fraud alerts</th>                                                                                                             <td>   -0.0068</td> <td>      nan</td> <td>      nan</td> <td>   nan</td> <td>      nan</td> <td>      nan</td>\n",
              "</tr>\n",
              "<tr>\n",
              "  <th>Sub-issue_Problem with statement of dispute</th>                                                                                                     <td>    0.0020</td> <td>      nan</td> <td>      nan</td> <td>   nan</td> <td>      nan</td> <td>      nan</td>\n",
              "</tr>\n",
              "<tr>\n",
              "  <th>Sub-issue_Public record</th>                                                                                                                         <td>   -0.0022</td> <td>      nan</td> <td>      nan</td> <td>   nan</td> <td>      nan</td> <td>      nan</td>\n",
              "</tr>\n",
              "<tr>\n",
              "  <th>Sub-issue_Qualify for a better loan than offered</th>                                                                                                <td>   -0.0101</td> <td>      nan</td> <td>      nan</td> <td>   nan</td> <td>      nan</td> <td>      nan</td>\n",
              "</tr>\n",
              "<tr>\n",
              "  <th>Sub-issue_Received bad information about my loan</th>                                                                                                <td>    0.0778</td> <td>      nan</td> <td>      nan</td> <td>   nan</td> <td>      nan</td> <td>      nan</td>\n",
              "</tr>\n",
              "<tr>\n",
              "  <th>Sub-issue_Received marketing offer after opted out</th>                                                                                              <td>   -0.0065</td> <td>      nan</td> <td>      nan</td> <td>   nan</td> <td>      nan</td> <td>      nan</td>\n",
              "</tr>\n",
              "<tr>\n",
              "  <th>Sub-issue_Receiving unwanted marketing/advertising</th>                                                                                              <td>         0</td> <td>      nan</td> <td>      nan</td> <td>   nan</td> <td>      nan</td> <td>      nan</td>\n",
              "</tr>\n",
              "<tr>\n",
              "  <th>Sub-issue_Reinserted previously deleted info</th>                                                                                                    <td>    0.0095</td> <td>      nan</td> <td>      nan</td> <td>   nan</td> <td>      nan</td> <td>      nan</td>\n",
              "</tr>\n",
              "<tr>\n",
              "  <th>Sub-issue_Report improperly shared by CRC</th>                                                                                                       <td>   -0.0138</td> <td>      nan</td> <td>      nan</td> <td>   nan</td> <td>      nan</td> <td>      nan</td>\n",
              "</tr>\n",
              "<tr>\n",
              "  <th>Sub-issue_Report shared with employer w/o consent</th>                                                                                               <td>   -0.0033</td> <td>      nan</td> <td>      nan</td> <td>   nan</td> <td>      nan</td> <td>      nan</td>\n",
              "</tr>\n",
              "<tr>\n",
              "  <th>Sub-issue_Right to dispute notice not received</th>                                                                                                  <td>    0.0189</td> <td>      nan</td> <td>      nan</td> <td>   nan</td> <td>      nan</td> <td>      nan</td>\n",
              "</tr>\n",
              "<tr>\n",
              "  <th>Sub-issue_Seized/Attempted to seize property</th>                                                                                                    <td>    0.0867</td> <td>      nan</td> <td>      nan</td> <td>   nan</td> <td>      nan</td> <td>      nan</td>\n",
              "</tr>\n",
              "<tr>\n",
              "  <th>Sub-issue_Sued w/o proper notification of suit</th>                                                                                                  <td>   -0.0199</td> <td>      nan</td> <td>      nan</td> <td>   nan</td> <td>      nan</td> <td>      nan</td>\n",
              "</tr>\n",
              "<tr>\n",
              "  <th>Sub-issue_Sued where didn't live/sign for debt</th>                                                                                                  <td>   -0.0029</td> <td>      nan</td> <td>      nan</td> <td>   nan</td> <td>      nan</td> <td>      nan</td>\n",
              "</tr>\n",
              "<tr>\n",
              "  <th>Sub-issue_Talked to a third party about my debt</th>                                                                                                 <td>    0.0516</td> <td>      nan</td> <td>      nan</td> <td>   nan</td> <td>      nan</td> <td>      nan</td>\n",
              "</tr>\n",
              "<tr>\n",
              "  <th>Sub-issue_Threatened arrest/jail if do not pay</th>                                                                                                  <td>    0.0004</td> <td>      nan</td> <td>      nan</td> <td>   nan</td> <td>      nan</td> <td>      nan</td>\n",
              "</tr>\n",
              "<tr>\n",
              "  <th>Sub-issue_Threatened to sue on too old debt</th>                                                                                                     <td>   -0.0812</td> <td>      nan</td> <td>      nan</td> <td>   nan</td> <td>      nan</td> <td>      nan</td>\n",
              "</tr>\n",
              "<tr>\n",
              "  <th>Sub-issue_Threatened to take legal action</th>                                                                                                       <td>   -0.0241</td> <td>      nan</td> <td>      nan</td> <td>   nan</td> <td>      nan</td> <td>      nan</td>\n",
              "</tr>\n",
              "<tr>\n",
              "  <th>Sub-issue_Trouble with how payments are handled</th>                                                                                                 <td>    0.0370</td> <td>      nan</td> <td>      nan</td> <td>   nan</td> <td>      nan</td> <td>      nan</td>\n",
              "</tr>\n",
              "<tr>\n",
              "  <th>Sub-issue_Used obscene/profane/abusive language</th>                                                                                                 <td>    0.0129</td> <td>      nan</td> <td>      nan</td> <td>   nan</td> <td>      nan</td> <td>      nan</td>\n",
              "</tr>\n",
              "<tr>\n",
              "  <th>Sub-issue_missing</th>                                                                                                                               <td>   -0.0283</td> <td>      nan</td> <td>      nan</td> <td>   nan</td> <td>      nan</td> <td>      nan</td>\n",
              "</tr>\n",
              "<tr>\n",
              "  <th>Company public response_Company believes complaint caused principally by actions of third party outside the control or direction of the company</th> <td>    0.0047</td> <td>      nan</td> <td>      nan</td> <td>   nan</td> <td>      nan</td> <td>      nan</td>\n",
              "</tr>\n",
              "<tr>\n",
              "  <th>Company public response_Company believes complaint is the result of an isolated error</th>                                                           <td>         0</td> <td>      nan</td> <td>      nan</td> <td>   nan</td> <td>      nan</td> <td>      nan</td>\n",
              "</tr>\n",
              "<tr>\n",
              "  <th>Company public response_Company believes complaint relates to a discontinued policy or procedure</th>                                                <td>         0</td> <td>      nan</td> <td>      nan</td> <td>   nan</td> <td>      nan</td> <td>      nan</td>\n",
              "</tr>\n",
              "<tr>\n",
              "  <th>Company public response_Company believes complaint represents an opportunity for improvement to better serve consumers</th>                          <td>         0</td> <td>      nan</td> <td>      nan</td> <td>   nan</td> <td>      nan</td> <td>      nan</td>\n",
              "</tr>\n",
              "<tr>\n",
              "  <th>Company public response_Company believes it acted appropriately as authorized by contract or law</th>                                                <td>    0.0146</td> <td>      nan</td> <td>      nan</td> <td>   nan</td> <td>      nan</td> <td>      nan</td>\n",
              "</tr>\n",
              "<tr>\n",
              "  <th>Company public response_Company believes the complaint is the result of a misunderstanding</th>                                                      <td>         0</td> <td>      nan</td> <td>      nan</td> <td>   nan</td> <td>      nan</td> <td>      nan</td>\n",
              "</tr>\n",
              "<tr>\n",
              "  <th>Company public response_Company chooses not to provide a public response</th>                                                                        <td>   -0.0567</td> <td>      nan</td> <td>      nan</td> <td>   nan</td> <td>      nan</td> <td>      nan</td>\n",
              "</tr>\n",
              "<tr>\n",
              "  <th>Company public response_Company has responded to the consumer and the CFPB and chooses not to provide a public response</th>                         <td>   -0.2497</td> <td>      nan</td> <td>      nan</td> <td>   nan</td> <td>      nan</td> <td>      nan</td>\n",
              "</tr>\n",
              "<tr>\n",
              "  <th>Company public response_missing</th>                                                                                                                 <td>   -0.0200</td> <td>      nan</td> <td>      nan</td> <td>   nan</td> <td>      nan</td> <td>      nan</td>\n",
              "</tr>\n",
              "<tr>\n",
              "  <th>Company_BANK OF AMERICA, NATIONAL ASSOCIATION</th>                                                                                                   <td>   -0.0108</td> <td>      nan</td> <td>      nan</td> <td>   nan</td> <td>      nan</td> <td>      nan</td>\n",
              "</tr>\n",
              "<tr>\n",
              "  <th>Company_CITIBANK, N.A.</th>                                                                                                                          <td>   -0.1484</td> <td>      nan</td> <td>      nan</td> <td>   nan</td> <td>      nan</td> <td>      nan</td>\n",
              "</tr>\n",
              "<tr>\n",
              "  <th>Company_JPMORGAN CHASE & CO.</th>                                                                                                                    <td>   -0.0997</td> <td>      nan</td> <td>      nan</td> <td>   nan</td> <td>      nan</td> <td>      nan</td>\n",
              "</tr>\n",
              "<tr>\n",
              "  <th>Company_U.S. BANCORP</th>                                                                                                                            <td>   -0.0137</td> <td>      nan</td> <td>      nan</td> <td>   nan</td> <td>      nan</td> <td>      nan</td>\n",
              "</tr>\n",
              "<tr>\n",
              "  <th>Company_WELLS FARGO & COMPANY</th>                                                                                                                   <td>   -0.0344</td> <td>      nan</td> <td>      nan</td> <td>   nan</td> <td>      nan</td> <td>      nan</td>\n",
              "</tr>\n",
              "<tr>\n",
              "  <th>State_AA</th>                                                                                                                                        <td>    0.0026</td> <td>      nan</td> <td>      nan</td> <td>   nan</td> <td>      nan</td> <td>      nan</td>\n",
              "</tr>\n",
              "<tr>\n",
              "  <th>State_AE</th>                                                                                                                                        <td>    0.0013</td> <td>      nan</td> <td>      nan</td> <td>   nan</td> <td>      nan</td> <td>      nan</td>\n",
              "</tr>\n",
              "<tr>\n",
              "  <th>State_AK</th>                                                                                                                                        <td>    0.0319</td> <td>      nan</td> <td>      nan</td> <td>   nan</td> <td>      nan</td> <td>      nan</td>\n",
              "</tr>\n",
              "<tr>\n",
              "  <th>State_AL</th>                                                                                                                                        <td>   -0.0911</td> <td>      nan</td> <td>      nan</td> <td>   nan</td> <td>      nan</td> <td>      nan</td>\n",
              "</tr>\n",
              "<tr>\n",
              "  <th>State_AP</th>                                                                                                                                        <td>    0.0021</td> <td>      nan</td> <td>      nan</td> <td>   nan</td> <td>      nan</td> <td>      nan</td>\n",
              "</tr>\n",
              "<tr>\n",
              "  <th>State_AR</th>                                                                                                                                        <td>   -0.0335</td> <td>      nan</td> <td>      nan</td> <td>   nan</td> <td>      nan</td> <td>      nan</td>\n",
              "</tr>\n",
              "<tr>\n",
              "  <th>State_AS</th>                                                                                                                                        <td>    0.0071</td> <td>      nan</td> <td>      nan</td> <td>   nan</td> <td>      nan</td> <td>      nan</td>\n",
              "</tr>\n",
              "<tr>\n",
              "  <th>State_AZ</th>                                                                                                                                        <td>    0.1418</td> <td>      nan</td> <td>      nan</td> <td>   nan</td> <td>      nan</td> <td>      nan</td>\n",
              "</tr>\n",
              "<tr>\n",
              "  <th>State_CA</th>                                                                                                                                        <td>    0.0935</td> <td>      nan</td> <td>      nan</td> <td>   nan</td> <td>      nan</td> <td>      nan</td>\n",
              "</tr>\n",
              "<tr>\n",
              "  <th>State_CO</th>                                                                                                                                        <td>    0.1297</td> <td>      nan</td> <td>      nan</td> <td>   nan</td> <td>      nan</td> <td>      nan</td>\n",
              "</tr>\n",
              "<tr>\n",
              "  <th>State_CT</th>                                                                                                                                        <td>   -0.0082</td> <td>      nan</td> <td>      nan</td> <td>   nan</td> <td>      nan</td> <td>      nan</td>\n",
              "</tr>\n",
              "<tr>\n",
              "  <th>State_DC</th>                                                                                                                                        <td>   -0.0442</td> <td>      nan</td> <td>      nan</td> <td>   nan</td> <td>      nan</td> <td>      nan</td>\n",
              "</tr>\n",
              "<tr>\n",
              "  <th>State_DE</th>                                                                                                                                        <td>    0.0645</td> <td>      nan</td> <td>      nan</td> <td>   nan</td> <td>      nan</td> <td>      nan</td>\n",
              "</tr>\n",
              "<tr>\n",
              "  <th>State_FL</th>                                                                                                                                        <td>   -0.0528</td> <td>      nan</td> <td>      nan</td> <td>   nan</td> <td>      nan</td> <td>      nan</td>\n",
              "</tr>\n",
              "<tr>\n",
              "  <th>State_FM</th>                                                                                                                                        <td>    0.0094</td> <td>      nan</td> <td>      nan</td> <td>   nan</td> <td>      nan</td> <td>      nan</td>\n",
              "</tr>\n",
              "<tr>\n",
              "  <th>State_GA</th>                                                                                                                                        <td>   -0.0800</td> <td>      nan</td> <td>      nan</td> <td>   nan</td> <td>      nan</td> <td>      nan</td>\n",
              "</tr>\n",
              "<tr>\n",
              "  <th>State_GU</th>                                                                                                                                        <td>    0.0121</td> <td>      nan</td> <td>      nan</td> <td>   nan</td> <td>      nan</td> <td>      nan</td>\n",
              "</tr>\n",
              "<tr>\n",
              "  <th>State_HI</th>                                                                                                                                        <td>    0.0792</td> <td>      nan</td> <td>      nan</td> <td>   nan</td> <td>      nan</td> <td>      nan</td>\n",
              "</tr>\n",
              "<tr>\n",
              "  <th>State_IA</th>                                                                                                                                        <td>   -0.0321</td> <td>      nan</td> <td>      nan</td> <td>   nan</td> <td>      nan</td> <td>      nan</td>\n",
              "</tr>\n",
              "<tr>\n",
              "  <th>State_ID</th>                                                                                                                                        <td>   -0.0540</td> <td>      nan</td> <td>      nan</td> <td>   nan</td> <td>      nan</td> <td>      nan</td>\n",
              "</tr>\n",
              "<tr>\n",
              "  <th>State_IL</th>                                                                                                                                        <td>   -0.0349</td> <td>      nan</td> <td>      nan</td> <td>   nan</td> <td>      nan</td> <td>      nan</td>\n",
              "</tr>\n",
              "<tr>\n",
              "  <th>State_IN</th>                                                                                                                                        <td>   -0.0290</td> <td>      nan</td> <td>      nan</td> <td>   nan</td> <td>      nan</td> <td>      nan</td>\n",
              "</tr>\n",
              "<tr>\n",
              "  <th>State_KS</th>                                                                                                                                        <td>   -0.0206</td> <td>      nan</td> <td>      nan</td> <td>   nan</td> <td>      nan</td> <td>      nan</td>\n",
              "</tr>\n",
              "<tr>\n",
              "  <th>State_KY</th>                                                                                                                                        <td>    0.0304</td> <td>      nan</td> <td>      nan</td> <td>   nan</td> <td>      nan</td> <td>      nan</td>\n",
              "</tr>\n",
              "<tr>\n",
              "  <th>State_LA</th>                                                                                                                                        <td>   -0.2162</td> <td>      nan</td> <td>      nan</td> <td>   nan</td> <td>      nan</td> <td>      nan</td>\n",
              "</tr>\n",
              "<tr>\n",
              "  <th>State_MA</th>                                                                                                                                        <td>   -0.0293</td> <td>      nan</td> <td>      nan</td> <td>   nan</td> <td>      nan</td> <td>      nan</td>\n",
              "</tr>\n",
              "<tr>\n",
              "  <th>State_MD</th>                                                                                                                                        <td>    0.0200</td> <td>      nan</td> <td>      nan</td> <td>   nan</td> <td>      nan</td> <td>      nan</td>\n",
              "</tr>\n",
              "<tr>\n",
              "  <th>State_ME</th>                                                                                                                                        <td>    0.0251</td> <td>      nan</td> <td>      nan</td> <td>   nan</td> <td>      nan</td> <td>      nan</td>\n",
              "</tr>\n",
              "<tr>\n",
              "  <th>State_MH</th>                                                                                                                                        <td>    0.0027</td> <td>      nan</td> <td>      nan</td> <td>   nan</td> <td>      nan</td> <td>      nan</td>\n",
              "</tr>\n",
              "<tr>\n",
              "  <th>State_MI</th>                                                                                                                                        <td>   -0.0589</td> <td>      nan</td> <td>      nan</td> <td>   nan</td> <td>      nan</td> <td>      nan</td>\n",
              "</tr>\n",
              "<tr>\n",
              "  <th>State_MN</th>                                                                                                                                        <td>   -0.0284</td> <td>      nan</td> <td>      nan</td> <td>   nan</td> <td>      nan</td> <td>      nan</td>\n",
              "</tr>\n",
              "<tr>\n",
              "  <th>State_MO</th>                                                                                                                                        <td>    0.0033</td> <td>      nan</td> <td>      nan</td> <td>   nan</td> <td>      nan</td> <td>      nan</td>\n",
              "</tr>\n",
              "<tr>\n",
              "  <th>State_MP</th>                                                                                                                                        <td>    0.0089</td> <td>      nan</td> <td>      nan</td> <td>   nan</td> <td>      nan</td> <td>      nan</td>\n",
              "</tr>\n",
              "<tr>\n",
              "  <th>State_MS</th>                                                                                                                                        <td>    0.0070</td> <td>      nan</td> <td>      nan</td> <td>   nan</td> <td>      nan</td> <td>      nan</td>\n",
              "</tr>\n",
              "<tr>\n",
              "  <th>State_MT</th>                                                                                                                                        <td>   -0.0310</td> <td>      nan</td> <td>      nan</td> <td>   nan</td> <td>      nan</td> <td>      nan</td>\n",
              "</tr>\n",
              "<tr>\n",
              "  <th>State_NC</th>                                                                                                                                        <td>   -0.0570</td> <td>      nan</td> <td>      nan</td> <td>   nan</td> <td>      nan</td> <td>      nan</td>\n",
              "</tr>\n",
              "<tr>\n",
              "  <th>State_ND</th>                                                                                                                                        <td>   -0.0490</td> <td>      nan</td> <td>      nan</td> <td>   nan</td> <td>      nan</td> <td>      nan</td>\n",
              "</tr>\n",
              "<tr>\n",
              "  <th>State_NE</th>                                                                                                                                        <td>    0.0393</td> <td>      nan</td> <td>      nan</td> <td>   nan</td> <td>      nan</td> <td>      nan</td>\n",
              "</tr>\n",
              "<tr>\n",
              "  <th>State_NH</th>                                                                                                                                        <td>   -0.0457</td> <td>      nan</td> <td>      nan</td> <td>   nan</td> <td>      nan</td> <td>      nan</td>\n",
              "</tr>\n",
              "<tr>\n",
              "  <th>State_NJ</th>                                                                                                                                        <td>   -0.0376</td> <td>      nan</td> <td>      nan</td> <td>   nan</td> <td>      nan</td> <td>      nan</td>\n",
              "</tr>\n",
              "<tr>\n",
              "  <th>State_NM</th>                                                                                                                                        <td>   -0.0898</td> <td>      nan</td> <td>      nan</td> <td>   nan</td> <td>      nan</td> <td>      nan</td>\n",
              "</tr>\n",
              "<tr>\n",
              "  <th>State_NV</th>                                                                                                                                        <td>    0.0836</td> <td>      nan</td> <td>      nan</td> <td>   nan</td> <td>      nan</td> <td>      nan</td>\n",
              "</tr>\n",
              "<tr>\n",
              "  <th>State_NY</th>                                                                                                                                        <td>    0.0051</td> <td>      nan</td> <td>      nan</td> <td>   nan</td> <td>      nan</td> <td>      nan</td>\n",
              "</tr>\n",
              "<tr>\n",
              "  <th>State_OH</th>                                                                                                                                        <td>    0.0126</td> <td>      nan</td> <td>      nan</td> <td>   nan</td> <td>      nan</td> <td>      nan</td>\n",
              "</tr>\n",
              "<tr>\n",
              "  <th>State_OK</th>                                                                                                                                        <td>   -0.0422</td> <td>      nan</td> <td>      nan</td> <td>   nan</td> <td>      nan</td> <td>      nan</td>\n",
              "</tr>\n",
              "<tr>\n",
              "  <th>State_OR</th>                                                                                                                                        <td>    0.0909</td> <td>      nan</td> <td>      nan</td> <td>   nan</td> <td>      nan</td> <td>      nan</td>\n",
              "</tr>\n",
              "<tr>\n",
              "  <th>State_PA</th>                                                                                                                                        <td>   -0.1458</td> <td>      nan</td> <td>      nan</td> <td>   nan</td> <td>      nan</td> <td>      nan</td>\n",
              "</tr>\n",
              "<tr>\n",
              "  <th>State_PR</th>                                                                                                                                        <td>   -0.0224</td> <td>      nan</td> <td>      nan</td> <td>   nan</td> <td>      nan</td> <td>      nan</td>\n",
              "</tr>\n",
              "<tr>\n",
              "  <th>State_PW</th>                                                                                                                                        <td>    0.0060</td> <td>      nan</td> <td>      nan</td> <td>   nan</td> <td>      nan</td> <td>      nan</td>\n",
              "</tr>\n",
              "<tr>\n",
              "  <th>State_RI</th>                                                                                                                                        <td>    0.0367</td> <td>      nan</td> <td>      nan</td> <td>   nan</td> <td>      nan</td> <td>      nan</td>\n",
              "</tr>\n",
              "<tr>\n",
              "  <th>State_SC</th>                                                                                                                                        <td>   -0.0642</td> <td>      nan</td> <td>      nan</td> <td>   nan</td> <td>      nan</td> <td>      nan</td>\n",
              "</tr>\n",
              "<tr>\n",
              "  <th>State_SD</th>                                                                                                                                        <td>   -0.0477</td> <td>      nan</td> <td>      nan</td> <td>   nan</td> <td>      nan</td> <td>      nan</td>\n",
              "</tr>\n",
              "<tr>\n",
              "  <th>State_TN</th>                                                                                                                                        <td>   -0.1033</td> <td>      nan</td> <td>      nan</td> <td>   nan</td> <td>      nan</td> <td>      nan</td>\n",
              "</tr>\n",
              "<tr>\n",
              "  <th>State_TX</th>                                                                                                                                        <td>    0.0565</td> <td>      nan</td> <td>      nan</td> <td>   nan</td> <td>      nan</td> <td>      nan</td>\n",
              "</tr>\n",
              "<tr>\n",
              "  <th>State_UT</th>                                                                                                                                        <td>   -0.0347</td> <td>      nan</td> <td>      nan</td> <td>   nan</td> <td>      nan</td> <td>      nan</td>\n",
              "</tr>\n",
              "<tr>\n",
              "  <th>State_VA</th>                                                                                                                                        <td>    0.0356</td> <td>      nan</td> <td>      nan</td> <td>   nan</td> <td>      nan</td> <td>      nan</td>\n",
              "</tr>\n",
              "<tr>\n",
              "  <th>State_VI</th>                                                                                                                                        <td>    0.0105</td> <td>      nan</td> <td>      nan</td> <td>   nan</td> <td>      nan</td> <td>      nan</td>\n",
              "</tr>\n",
              "<tr>\n",
              "  <th>State_VT</th>                                                                                                                                        <td>    0.0141</td> <td>      nan</td> <td>      nan</td> <td>   nan</td> <td>      nan</td> <td>      nan</td>\n",
              "</tr>\n",
              "<tr>\n",
              "  <th>State_WA</th>                                                                                                                                        <td>    0.0352</td> <td>      nan</td> <td>      nan</td> <td>   nan</td> <td>      nan</td> <td>      nan</td>\n",
              "</tr>\n",
              "<tr>\n",
              "  <th>State_WI</th>                                                                                                                                        <td>    0.0724</td> <td>      nan</td> <td>      nan</td> <td>   nan</td> <td>      nan</td> <td>      nan</td>\n",
              "</tr>\n",
              "<tr>\n",
              "  <th>State_WV</th>                                                                                                                                        <td>   -0.0114</td> <td>      nan</td> <td>      nan</td> <td>   nan</td> <td>      nan</td> <td>      nan</td>\n",
              "</tr>\n",
              "<tr>\n",
              "  <th>State_WY</th>                                                                                                                                        <td>    0.0187</td> <td>      nan</td> <td>      nan</td> <td>   nan</td> <td>      nan</td> <td>      nan</td>\n",
              "</tr>\n",
              "<tr>\n",
              "  <th>State_missing</th>                                                                                                                                   <td>    0.0979</td> <td>      nan</td> <td>      nan</td> <td>   nan</td> <td>      nan</td> <td>      nan</td>\n",
              "</tr>\n",
              "<tr>\n",
              "  <th>Tags_Older American</th>                                                                                                                             <td>   -0.0214</td> <td>      nan</td> <td>      nan</td> <td>   nan</td> <td>      nan</td> <td>      nan</td>\n",
              "</tr>\n",
              "<tr>\n",
              "  <th>Tags_Older American, Servicemember</th>                                                                                                              <td>   -0.0163</td> <td>      nan</td> <td>      nan</td> <td>   nan</td> <td>      nan</td> <td>      nan</td>\n",
              "</tr>\n",
              "<tr>\n",
              "  <th>Tags_Servicemember</th>                                                                                                                              <td>   -0.1412</td> <td>      nan</td> <td>      nan</td> <td>   nan</td> <td>      nan</td> <td>      nan</td>\n",
              "</tr>\n",
              "<tr>\n",
              "  <th>Tags_missing</th>                                                                                                                                    <td>   -0.1281</td> <td>      nan</td> <td>      nan</td> <td>   nan</td> <td>      nan</td> <td>      nan</td>\n",
              "</tr>\n",
              "<tr>\n",
              "  <th>Submitted via_Email</th>                                                                                                                             <td>    0.0215</td> <td>      nan</td> <td>      nan</td> <td>   nan</td> <td>      nan</td> <td>      nan</td>\n",
              "</tr>\n",
              "<tr>\n",
              "  <th>Submitted via_Fax</th>                                                                                                                               <td>    0.1174</td> <td>      nan</td> <td>      nan</td> <td>   nan</td> <td>      nan</td> <td>      nan</td>\n",
              "</tr>\n",
              "<tr>\n",
              "  <th>Submitted via_Phone</th>                                                                                                                             <td>   -0.1747</td> <td>      nan</td> <td>      nan</td> <td>   nan</td> <td>      nan</td> <td>      nan</td>\n",
              "</tr>\n",
              "<tr>\n",
              "  <th>Submitted via_Postal mail</th>                                                                                                                       <td>   -0.1749</td> <td>      nan</td> <td>      nan</td> <td>   nan</td> <td>      nan</td> <td>      nan</td>\n",
              "</tr>\n",
              "<tr>\n",
              "  <th>Submitted via_Referral</th>                                                                                                                          <td>   -0.2407</td> <td>      nan</td> <td>      nan</td> <td>   nan</td> <td>      nan</td> <td>      nan</td>\n",
              "</tr>\n",
              "<tr>\n",
              "  <th>Submitted via_Web</th>                                                                                                                               <td>    0.1444</td> <td>      nan</td> <td>      nan</td> <td>   nan</td> <td>      nan</td> <td>      nan</td>\n",
              "</tr>\n",
              "<tr>\n",
              "  <th>Company response to consumer_Closed</th>                                                                                                             <td>    0.2792</td> <td>      nan</td> <td>      nan</td> <td>   nan</td> <td>      nan</td> <td>      nan</td>\n",
              "</tr>\n",
              "<tr>\n",
              "  <th>Company response to consumer_Closed with explanation</th>                                                                                            <td>    0.3117</td> <td>      nan</td> <td>      nan</td> <td>   nan</td> <td>      nan</td> <td>      nan</td>\n",
              "</tr>\n",
              "<tr>\n",
              "  <th>Company response to consumer_Closed with monetary relief</th>                                                                                        <td>   -0.6162</td> <td>      nan</td> <td>      nan</td> <td>   nan</td> <td>      nan</td> <td>      nan</td>\n",
              "</tr>\n",
              "<tr>\n",
              "  <th>Company response to consumer_Closed with non-monetary relief</th>                                                                                    <td>   -0.1981</td> <td>      nan</td> <td>      nan</td> <td>   nan</td> <td>      nan</td> <td>      nan</td>\n",
              "</tr>\n",
              "<tr>\n",
              "  <th>Company response to consumer_Closed with relief</th>                                                                                                 <td>   -0.4482</td> <td>      nan</td> <td>      nan</td> <td>   nan</td> <td>      nan</td> <td>      nan</td>\n",
              "</tr>\n",
              "<tr>\n",
              "  <th>Company response to consumer_Closed without relief</th>                                                                                              <td>    0.4708</td> <td>      nan</td> <td>      nan</td> <td>   nan</td> <td>      nan</td> <td>      nan</td>\n",
              "</tr>\n",
              "<tr>\n",
              "  <th>Company response to consumer_Untimely response</th>                                                                                                  <td>   -0.1062</td> <td>      nan</td> <td>      nan</td> <td>   nan</td> <td>      nan</td> <td>      nan</td>\n",
              "</tr>\n",
              "<tr>\n",
              "  <th>Timely response?_No</th>                                                                                                                             <td>   -0.4035</td> <td>      nan</td> <td>      nan</td> <td>   nan</td> <td>      nan</td> <td>      nan</td>\n",
              "</tr>\n",
              "<tr>\n",
              "  <th>Timely response?_Yes</th>                                                                                                                            <td>    0.0966</td> <td>      nan</td> <td>      nan</td> <td>   nan</td> <td>      nan</td> <td>      nan</td>\n",
              "</tr>\n",
              "</table>"
            ]
          },
          "metadata": {},
          "execution_count": 496
        }
      ],
      "source": [
        "model = sm.Logit(y_train, X_train).fit(method='bfgs')\n",
        "model.summary()"
      ]
    },
    {
      "cell_type": "markdown",
      "id": "6ddb3dd1-6b98-4441-a9fe-48eb5ec2eb91",
      "metadata": {
        "id": "6ddb3dd1-6b98-4441-a9fe-48eb5ec2eb91"
      },
      "source": [
        "### Predict test set and evaluate  \n",
        "\n",
        "**You can play with the threshold to get the right True Positive rate you desire!  The default generally is 0.50 but you can change it to lower values - eg, 0.2**   "
      ]
    },
    {
      "cell_type": "code",
      "execution_count": 497,
      "id": "9fe19257-573f-44dc-bf7e-c4b3605de3df",
      "metadata": {
        "id": "9fe19257-573f-44dc-bf7e-c4b3605de3df"
      },
      "outputs": [],
      "source": [
        "\n",
        "# Set threshold for identifying class 1\n",
        "threshold = 0.20"
      ]
    },
    {
      "cell_type": "code",
      "execution_count": 498,
      "id": "6234f952-e37a-4701-86bb-9bc1ec9b6454",
      "metadata": {
        "colab": {
          "base_uri": "https://localhost:8080/"
        },
        "id": "6234f952-e37a-4701-86bb-9bc1ec9b6454",
        "outputId": "e371713a-ed74-44b0-f3d7-392b8f3dc185"
      },
      "outputs": [
        {
          "output_type": "stream",
          "name": "stdout",
          "text": [
            "Confusion Matrix : \n",
            " [[   73 32360]\n",
            " [    9  9010]]\n",
            "Test accuracy =  0.21912091093312747\n"
          ]
        }
      ],
      "source": [
        "# Create predictions.  Note that predictions give us probabilities, not classes!\n",
        "pred_prob = model.predict(X_test)\n",
        "\n",
        "# Convert probabilities to 1s and 0s based on threshold\n",
        "pred = (pred_prob>threshold).astype(int)\n",
        " \n",
        "# confusion matrix\n",
        "cm = confusion_matrix(y_test, pred)\n",
        "print (\"Confusion Matrix : \\n\", cm)\n",
        " \n",
        "# accuracy score of the model\n",
        "print('Test accuracy = ', accuracy_score(y_test, pred))"
      ]
    },
    {
      "cell_type": "code",
      "execution_count": 499,
      "id": "0f6c7f4a-56ba-4635-8b75-4ca64fe1e22c",
      "metadata": {
        "colab": {
          "base_uri": "https://localhost:8080/",
          "height": 111
        },
        "id": "0f6c7f4a-56ba-4635-8b75-4ca64fe1e22c",
        "outputId": "bc331823-ba5c-431e-de6f-ec2a3726283c"
      },
      "outputs": [
        {
          "output_type": "execute_result",
          "data": {
            "text/plain": [
              "          Predicted 0  Predicted 1\n",
              "Actual 0           73        32360\n",
              "Actual 1            9         9010"
            ],
            "text/html": [
              "\n",
              "  <div id=\"df-1e4b7f97-d0fc-426d-b8ba-df25d72250ac\">\n",
              "    <div class=\"colab-df-container\">\n",
              "      <div>\n",
              "<style scoped>\n",
              "    .dataframe tbody tr th:only-of-type {\n",
              "        vertical-align: middle;\n",
              "    }\n",
              "\n",
              "    .dataframe tbody tr th {\n",
              "        vertical-align: top;\n",
              "    }\n",
              "\n",
              "    .dataframe thead th {\n",
              "        text-align: right;\n",
              "    }\n",
              "</style>\n",
              "<table border=\"1\" class=\"dataframe\">\n",
              "  <thead>\n",
              "    <tr style=\"text-align: right;\">\n",
              "      <th></th>\n",
              "      <th>Predicted 0</th>\n",
              "      <th>Predicted 1</th>\n",
              "    </tr>\n",
              "  </thead>\n",
              "  <tbody>\n",
              "    <tr>\n",
              "      <th>Actual 0</th>\n",
              "      <td>73</td>\n",
              "      <td>32360</td>\n",
              "    </tr>\n",
              "    <tr>\n",
              "      <th>Actual 1</th>\n",
              "      <td>9</td>\n",
              "      <td>9010</td>\n",
              "    </tr>\n",
              "  </tbody>\n",
              "</table>\n",
              "</div>\n",
              "      <button class=\"colab-df-convert\" onclick=\"convertToInteractive('df-1e4b7f97-d0fc-426d-b8ba-df25d72250ac')\"\n",
              "              title=\"Convert this dataframe to an interactive table.\"\n",
              "              style=\"display:none;\">\n",
              "        \n",
              "  <svg xmlns=\"http://www.w3.org/2000/svg\" height=\"24px\"viewBox=\"0 0 24 24\"\n",
              "       width=\"24px\">\n",
              "    <path d=\"M0 0h24v24H0V0z\" fill=\"none\"/>\n",
              "    <path d=\"M18.56 5.44l.94 2.06.94-2.06 2.06-.94-2.06-.94-.94-2.06-.94 2.06-2.06.94zm-11 1L8.5 8.5l.94-2.06 2.06-.94-2.06-.94L8.5 2.5l-.94 2.06-2.06.94zm10 10l.94 2.06.94-2.06 2.06-.94-2.06-.94-.94-2.06-.94 2.06-2.06.94z\"/><path d=\"M17.41 7.96l-1.37-1.37c-.4-.4-.92-.59-1.43-.59-.52 0-1.04.2-1.43.59L10.3 9.45l-7.72 7.72c-.78.78-.78 2.05 0 2.83L4 21.41c.39.39.9.59 1.41.59.51 0 1.02-.2 1.41-.59l7.78-7.78 2.81-2.81c.8-.78.8-2.07 0-2.86zM5.41 20L4 18.59l7.72-7.72 1.47 1.35L5.41 20z\"/>\n",
              "  </svg>\n",
              "      </button>\n",
              "      \n",
              "  <style>\n",
              "    .colab-df-container {\n",
              "      display:flex;\n",
              "      flex-wrap:wrap;\n",
              "      gap: 12px;\n",
              "    }\n",
              "\n",
              "    .colab-df-convert {\n",
              "      background-color: #E8F0FE;\n",
              "      border: none;\n",
              "      border-radius: 50%;\n",
              "      cursor: pointer;\n",
              "      display: none;\n",
              "      fill: #1967D2;\n",
              "      height: 32px;\n",
              "      padding: 0 0 0 0;\n",
              "      width: 32px;\n",
              "    }\n",
              "\n",
              "    .colab-df-convert:hover {\n",
              "      background-color: #E2EBFA;\n",
              "      box-shadow: 0px 1px 2px rgba(60, 64, 67, 0.3), 0px 1px 3px 1px rgba(60, 64, 67, 0.15);\n",
              "      fill: #174EA6;\n",
              "    }\n",
              "\n",
              "    [theme=dark] .colab-df-convert {\n",
              "      background-color: #3B4455;\n",
              "      fill: #D2E3FC;\n",
              "    }\n",
              "\n",
              "    [theme=dark] .colab-df-convert:hover {\n",
              "      background-color: #434B5C;\n",
              "      box-shadow: 0px 1px 3px 1px rgba(0, 0, 0, 0.15);\n",
              "      filter: drop-shadow(0px 1px 2px rgba(0, 0, 0, 0.3));\n",
              "      fill: #FFFFFF;\n",
              "    }\n",
              "  </style>\n",
              "\n",
              "      <script>\n",
              "        const buttonEl =\n",
              "          document.querySelector('#df-1e4b7f97-d0fc-426d-b8ba-df25d72250ac button.colab-df-convert');\n",
              "        buttonEl.style.display =\n",
              "          google.colab.kernel.accessAllowed ? 'block' : 'none';\n",
              "\n",
              "        async function convertToInteractive(key) {\n",
              "          const element = document.querySelector('#df-1e4b7f97-d0fc-426d-b8ba-df25d72250ac');\n",
              "          const dataTable =\n",
              "            await google.colab.kernel.invokeFunction('convertToInteractive',\n",
              "                                                     [key], {});\n",
              "          if (!dataTable) return;\n",
              "\n",
              "          const docLinkHtml = 'Like what you see? Visit the ' +\n",
              "            '<a target=\"_blank\" href=https://colab.research.google.com/notebooks/data_table.ipynb>data table notebook</a>'\n",
              "            + ' to learn more about interactive tables.';\n",
              "          element.innerHTML = '';\n",
              "          dataTable['output_type'] = 'display_data';\n",
              "          await google.colab.output.renderOutput(dataTable, element);\n",
              "          const docLink = document.createElement('div');\n",
              "          docLink.innerHTML = docLinkHtml;\n",
              "          element.appendChild(docLink);\n",
              "        }\n",
              "      </script>\n",
              "    </div>\n",
              "  </div>\n",
              "  "
            ]
          },
          "metadata": {},
          "execution_count": 499
        }
      ],
      "source": [
        "cm = confusion_matrix(y_test, pred)\n",
        "pd.DataFrame(cm, columns=['Predicted 0', 'Predicted 1'], index = ['Actual 0', 'Actual 1'])"
      ]
    },
    {
      "cell_type": "code",
      "execution_count": 500,
      "id": "e4cf6fea-e8ed-4182-a9e0-bdd74eba0c06",
      "metadata": {
        "colab": {
          "base_uri": "https://localhost:8080/"
        },
        "id": "e4cf6fea-e8ed-4182-a9e0-bdd74eba0c06",
        "outputId": "f996edc2-3888-4314-aff5-9cb08a7a096f"
      },
      "outputs": [
        {
          "output_type": "stream",
          "name": "stdout",
          "text": [
            "              precision    recall  f1-score   support\n",
            "\n",
            "           0       0.89      0.00      0.00     32433\n",
            "           1       0.22      1.00      0.36      9019\n",
            "\n",
            "    accuracy                           0.22     41452\n",
            "   macro avg       0.55      0.50      0.18     41452\n",
            "weighted avg       0.74      0.22      0.08     41452\n",
            "\n"
          ]
        }
      ],
      "source": [
        "print(classification_report(y_true = y_test, y_pred = pred))"
      ]
    },
    {
      "cell_type": "code",
      "execution_count": 501,
      "id": "b6ec7b80-994d-4d30-ac15-dd70059029b0",
      "metadata": {
        "colab": {
          "base_uri": "https://localhost:8080/"
        },
        "id": "b6ec7b80-994d-4d30-ac15-dd70059029b0",
        "outputId": "e62b651a-b3ed-4398-a8a6-5c5912417dd9"
      },
      "outputs": [
        {
          "output_type": "execute_result",
          "data": {
            "text/plain": [
              "51507     0.600726\n",
              "185914    0.618422\n",
              "129359    0.613995\n",
              "93809     0.440947\n",
              "199828    0.442956\n",
              "            ...   \n",
              "8339      0.471890\n",
              "143690    0.392931\n",
              "50896     0.463474\n",
              "133915    0.486253\n",
              "160031    0.411423\n",
              "Length: 41452, dtype: float64"
            ]
          },
          "metadata": {},
          "execution_count": 501
        }
      ],
      "source": [
        "# See what predicted probabilities look like\n",
        "pred_prob"
      ]
    },
    {
      "cell_type": "code",
      "execution_count": 502,
      "id": "7a229cf9-a2fd-4adb-b911-52d5fc6b9dea",
      "metadata": {
        "colab": {
          "base_uri": "https://localhost:8080/",
          "height": 282
        },
        "id": "7a229cf9-a2fd-4adb-b911-52d5fc6b9dea",
        "outputId": "b8ee29ef-2072-4189-a54d-3d678fcc244e"
      },
      "outputs": [
        {
          "output_type": "execute_result",
          "data": {
            "text/plain": [
              "<matplotlib.axes._subplots.AxesSubplot at 0x7f92d36904d0>"
            ]
          },
          "metadata": {},
          "execution_count": 502
        },
        {
          "output_type": "display_data",
          "data": {
            "text/plain": [
              "<Figure size 432x288 with 1 Axes>"
            ],
            "image/png": "[encoded data removed]"
          },
          "metadata": {
            "needs_background": "light"
          }
        }
      ],
      "source": [
        "# A histogram of probabilities.  Why not?\n",
        "pred_prob.hist(bins=40)"
      ]
    },
    {
      "cell_type": "markdown",
      "id": "ca9d1e6a-a18d-4dea-bbf0-eaf956200ae4",
      "metadata": {
        "id": "ca9d1e6a-a18d-4dea-bbf0-eaf956200ae4"
      },
      "source": [
        "### AUC and ROC calculation"
      ]
    },
    {
      "cell_type": "code",
      "execution_count": 503,
      "id": "bd845a2c-df47-4a2c-aefb-70ff0038613e",
      "metadata": {
        "colab": {
          "base_uri": "https://localhost:8080/"
        },
        "id": "bd845a2c-df47-4a2c-aefb-70ff0038613e",
        "outputId": "51ecd095-51ee-4d8f-f582-a53821ab82e1"
      },
      "outputs": [
        {
          "output_type": "execute_result",
          "data": {
            "text/plain": [
              "0.606587287760495"
            ]
          },
          "metadata": {},
          "execution_count": 503
        }
      ],
      "source": [
        "# AUC calculation\n",
        "metrics.roc_auc_score(y_test, pred_prob)"
      ]
    },
    {
      "cell_type": "code",
      "execution_count": 504,
      "id": "737de9f1-87c3-4aec-b502-0c59e183736a",
      "metadata": {
        "colab": {
          "base_uri": "https://localhost:8080/",
          "height": 513
        },
        "id": "737de9f1-87c3-4aec-b502-0c59e183736a",
        "outputId": "0d539b30-a913-4eeb-feb7-e83aead78456"
      },
      "outputs": [
        {
          "output_type": "display_data",
          "data": {
            "text/plain": [
              "<Figure size 648x576 with 1 Axes>"
            ],
            "image/png": "[encoded data removed]"
          },
          "metadata": {
            "needs_background": "light"
          }
        }
      ],
      "source": [
        "# Source for code below: https://stackoverflow.com/questions/25009284/how-to-plot-roc-curve-in-python\n",
        "fpr, tpr, thresholds = metrics.roc_curve(y_test, pred_prob)\n",
        "roc_auc = metrics.auc(fpr, tpr)\n",
        "plt.figure(figsize = (9,8))\n",
        "plt.title('Receiver Operating Characteristic')\n",
        "plt.plot(fpr, tpr, 'b', label = 'AUC = %0.2f' % roc_auc)\n",
        "plt.legend(loc = 'lower right')\n",
        "plt.plot([0, 1], [0, 1],'r--')\n",
        "plt.xlim([0, 1])\n",
        "plt.ylim([0, 1])\n",
        "plt.ylabel('True Positive Rate')\n",
        "plt.xlabel('False Positive Rate')\n",
        "plt.show()"
      ]
    },
    {
      "cell_type": "code",
      "execution_count": 504,
      "id": "b86d9be3-db6b-475b-8382-3809ded3e3db",
      "metadata": {
        "id": "b86d9be3-db6b-475b-8382-3809ded3e3db"
      },
      "outputs": [],
      "source": [
        ""
      ]
    }
  ],
  "metadata": {
    "kernelspec": {
      "display_name": "Python [conda env:mggy8413]",
      "language": "python",
      "name": "conda-env-mggy8413-py"
    },
    "language_info": {
      "codemirror_mode": {
        "name": "ipython",
        "version": 3
      },
      "file_extension": ".py",
      "mimetype": "text/x-python",
      "name": "python",
      "nbconvert_exporter": "python",
      "pygments_lexer": "ipython3",
      "version": "3.10.2"
    },
    "colab": {
      "name": "Akshat Shah Final Project.ipynb",
      "provenance": []
    }
  },
  "nbformat": 4,
  "nbformat_minor": 5
}